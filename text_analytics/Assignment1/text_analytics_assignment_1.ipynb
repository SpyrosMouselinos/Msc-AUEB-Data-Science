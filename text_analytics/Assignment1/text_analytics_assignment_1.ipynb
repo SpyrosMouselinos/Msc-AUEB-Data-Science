{
 "cells": [
  {
   "cell_type": "markdown",
   "metadata": {},
   "source": [
    "# Assignment 1 - Text analytics\n",
    "***"
   ]
  },
  {
   "cell_type": "markdown",
   "metadata": {},
   "source": [
    "### Imports"
   ]
  },
  {
   "cell_type": "code",
   "execution_count": 1,
   "metadata": {},
   "outputs": [
    {
     "name": "stderr",
     "output_type": "stream",
     "text": [
      "[nltk_data] Downloading package gutenberg to\n",
      "[nltk_data]     C:\\Users\\sofia.baltzi\\AppData\\Roaming\\nltk_data...\n",
      "[nltk_data]   Package gutenberg is already up-to-date!\n",
      "[nltk_data] Downloading package punkt to\n",
      "[nltk_data]     C:\\Users\\sofia.baltzi\\AppData\\Roaming\\nltk_data...\n",
      "[nltk_data]   Package punkt is already up-to-date!\n"
     ]
    }
   ],
   "source": [
    "import numpy as np\n",
    "import pandas as pd\n",
    "import matplotlib.pyplot as plt\n",
    "import seaborn as sns\n",
    "sns.set_style('darkgrid')\n",
    "import re\n",
    "import math\n",
    "import random\n",
    "import unicodedata \n",
    "import string\n",
    "import nltk\n",
    "\n",
    "### Download if not imported\n",
    "nltk.download('gutenberg')\n",
    "nltk.download('punkt')\n",
    "\n",
    "from collections import Counter\n",
    "from nltk.util import ngrams\n",
    "from nltk.corpus import gutenberg"
   ]
  },
  {
   "cell_type": "markdown",
   "metadata": {},
   "source": [
    "#### Let's Keep a dictionary of the most known contractions for future use."
   ]
  },
  {
   "cell_type": "code",
   "execution_count": 2,
   "metadata": {},
   "outputs": [],
   "source": [
    "contractions = {\n",
    "\"n't\": \"not\",\n",
    "\"'t\": \"not\",\n",
    "\"'ve\": \"have\",\n",
    "\"'ll\": \"will\",\n",
    "\"'s\": \"is\",\n",
    "\"'d\": \"would\",\n",
    "\"'m\": \"am\",\n",
    "\"''em\": \"them\"    \n",
    "}"
   ]
  },
  {
   "cell_type": "markdown",
   "metadata": {},
   "source": [
    "## Corpus: \"The parent's assistant, by Maria Edgeworth\"\n",
    "***"
   ]
  },
  {
   "cell_type": "code",
   "execution_count": 3,
   "metadata": {},
   "outputs": [],
   "source": [
    "### Download corpus as a large string.\n",
    "corpus = gutenberg.raw(fileids='edgeworth-parents.txt')\n",
    "corpus = corpus.lower()"
   ]
  },
  {
   "cell_type": "markdown",
   "metadata": {},
   "source": [
    "## Remove Special Characters from Corpus\n",
    "***"
   ]
  },
  {
   "cell_type": "code",
   "execution_count": 4,
   "metadata": {},
   "outputs": [],
   "source": [
    "# Declare\n",
    "def special_char_remove(corpus: str) -> str:\n",
    "    \"\"\"\n",
    "        Inputs: Corpus\n",
    "        Outputs: Corpus with no special characters\n",
    "    \"\"\"\n",
    "    # Remove theese\n",
    "    corpus = re.sub(r'[^a-zA-z.?!\\']', ' ', corpus)\n",
    "    \n",
    "    # Fix for the title and further subtitles.\n",
    "    corpus = corpus.replace('[', '')\n",
    "    corpus = corpus.replace(']', '.')\n",
    "    \n",
    "    # Remove Punctuation 's\n",
    "    corpus = corpus.replace('\\'s', '')\n",
    "    # Replace Carriage Return with nothing\n",
    "    corpus = corpus.replace('\\r', '')\n",
    "    # Replace New-Line with space\n",
    "    corpus = corpus.replace('\\n', ' ')\n",
    "    return corpus\n",
    "\n",
    "\n",
    "# Run\n",
    "corpus = special_char_remove(corpus)"
   ]
  },
  {
   "cell_type": "markdown",
   "metadata": {},
   "source": [
    "## Convert to list of sentences\n",
    "***"
   ]
  },
  {
   "cell_type": "code",
   "execution_count": 5,
   "metadata": {},
   "outputs": [],
   "source": [
    "# Declare\n",
    "def sentence_tokenization(text:str) -> list:\n",
    "    \"\"\"\n",
    "        Inputs: Corpus Text\n",
    "        Outputs: List of sentences\n",
    "    \"\"\"\n",
    "    sentence_list = nltk.sent_tokenize(''.join(text))\n",
    "    return sentence_list\n",
    "\n",
    "# Run\n",
    "sentence_list = sentence_tokenization(corpus)"
   ]
  },
  {
   "cell_type": "markdown",
   "metadata": {},
   "source": [
    "## Convert to list of words\n",
    "***"
   ]
  },
  {
   "cell_type": "code",
   "execution_count": 6,
   "metadata": {},
   "outputs": [],
   "source": [
    "# Declare\n",
    "def word_tokenization(text:str) -> list:\n",
    "    \"\"\"\n",
    "        Inputs: A sentence.\n",
    "        Outputs: A list of words that the sentence consists of.\n",
    "    \"\"\"\n",
    "    words = nltk.word_tokenize(text)\n",
    "    \n",
    "    # Remove contractions\n",
    "    words = [f  if f not in contractions.keys() else contractions[f] for f in words]\n",
    "    return words\n",
    "\n",
    "# Run it for every entry in the sentence_list\n",
    "corpus_in_list_of_words = [word_tokenization(f) for f in sentence_list]"
   ]
  },
  {
   "cell_type": "code",
   "execution_count": 7,
   "metadata": {},
   "outputs": [],
   "source": [
    "### Sanity Check (The length of the sentences and the list of word sentences must be the same)\n",
    "assert len(sentence_list) == len(corpus_in_list_of_words)"
   ]
  },
  {
   "cell_type": "markdown",
   "metadata": {},
   "source": [
    "## Splitting in Train-Development-Test Set\n",
    "***"
   ]
  },
  {
   "cell_type": "code",
   "execution_count": 8,
   "metadata": {},
   "outputs": [],
   "source": [
    "### Shuffle the corpus so the sentences/words are distrubuted fairly across the corpus.(Optional)\n",
    "random.seed(30)\n",
    "random.shuffle(corpus_in_list_of_words)"
   ]
  },
  {
   "cell_type": "code",
   "execution_count": 9,
   "metadata": {},
   "outputs": [],
   "source": [
    "### And then break it into Train-Dev-Test Sets, according to the 60-20-20 Rule.\n",
    "train_length = math.floor(0.6 * len(corpus_in_list_of_words))\n",
    "dev_length   = test_length = math.floor(0.2 * len(corpus_in_list_of_words))"
   ]
  },
  {
   "cell_type": "code",
   "execution_count": 10,
   "metadata": {},
   "outputs": [],
   "source": [
    "### Sanity Check (The sum of the lengths must be equal or lower than the original dataset)\n",
    "assert train_length + dev_length + test_length <= len(corpus_in_list_of_words)"
   ]
  },
  {
   "cell_type": "code",
   "execution_count": 11,
   "metadata": {},
   "outputs": [],
   "source": [
    "train_corpus = [f for f in corpus_in_list_of_words[0 : train_length]]\n",
    "dev_corpus   = [f for f in corpus_in_list_of_words[train_length : train_length + dev_length]]\n",
    "test_corpus  = [f for f in corpus_in_list_of_words[train_length + dev_length:]]"
   ]
  },
  {
   "cell_type": "markdown",
   "metadata": {},
   "source": [
    "### Create Uni/Bi/Tri-Grams Counter Functions.\n",
    "***"
   ]
  },
  {
   "cell_type": "code",
   "execution_count": 12,
   "metadata": {},
   "outputs": [],
   "source": [
    "def calc_unigrams(corpus: list) -> Counter:\n",
    "    \"\"\"\n",
    "        Inputs: A Corpus as a list of sentences.\n",
    "        Outputs: The unigram count.\n",
    "    \"\"\"\n",
    "    unigram_counter = Counter()\n",
    "    for sentence in corpus:\n",
    "        unigram_counter.update([gram for gram in ngrams(sentence, 1, pad_left=True, pad_right=True, left_pad_symbol='<s>', right_pad_symbol='<e>')])\n",
    "    return unigram_counter\n",
    "\n",
    "def calc_bigrams(corpus: list) -> Counter:\n",
    "    \"\"\"\n",
    "        Inputs: A Corpus as a list of sentences.\n",
    "        Outputs: The bigram count.\n",
    "    \"\"\"\n",
    "    bigram_counter = Counter()\n",
    "    for sentence in corpus:\n",
    "        bigram_counter.update([gram for gram in ngrams(sentence, 2, pad_left=True, pad_right=True, left_pad_symbol='<s>', right_pad_symbol='<e>')])\n",
    "    return bigram_counter\n",
    "\n",
    "\n",
    "def calc_trigrams(corpus: list) -> Counter:\n",
    "    \"\"\"\n",
    "        Inputs: A Corpus as a list of sentences.\n",
    "        Outputs: The trigram count.\n",
    "    \"\"\"\n",
    "    trigram_counter = Counter()\n",
    "    for sentence in corpus:\n",
    "        trigram_counter.update([gram for gram in ngrams(sentence, 3, pad_left=True, pad_right=True, left_pad_symbol='<s>', right_pad_symbol='<e>')])\n",
    "    return trigram_counter"
   ]
  },
  {
   "cell_type": "markdown",
   "metadata": {},
   "source": [
    "### Use Train Set to Create Vocabulary and OOV words\n",
    "***"
   ]
  },
  {
   "cell_type": "code",
   "execution_count": 13,
   "metadata": {},
   "outputs": [],
   "source": [
    "# Declare\n",
    "def create_vocabulary_and_oov(corpus:list) -> (list, list):\n",
    "    \"\"\"\n",
    "        Finds all words (unigrams) that appear under 5 times and \n",
    "        adds them to OOV list.\n",
    "        Also updates corpus by replacing them with token \"UNK\".\n",
    "        \n",
    "        Inputs: A Corpus as a list of sentences.\n",
    "        Outputs: A Corpus as a list of sentences with UNK , the vocabulary and the OOV list.\n",
    "    \"\"\"\n",
    "    # Find under 10 occurance words.\n",
    "    unigram_counter = calc_unigrams(corpus)\n",
    "    OOV_words = {k[0]:\"UNK\" for k, v in unigram_counter.items() if v < 10}\n",
    "    # Replace them\n",
    "    new_corpus = []\n",
    "    for sentence in corpus:\n",
    "        new_corpus.append([OOV_words.get(n,n) for n in sentence])\n",
    "        \n",
    "    vocabulary = set([f[0] for f in unigram_counter.keys() if f[0] not in OOV_words])\n",
    "    \n",
    "    return new_corpus, vocabulary, OOV_words\n",
    "\n",
    "# Run\n",
    "train_corpus, vocabulary, OOV_words = create_vocabulary_and_oov(train_corpus)"
   ]
  },
  {
   "cell_type": "markdown",
   "metadata": {},
   "source": [
    "### Use Vocabulary and OOV words to clean Development and Test Sets\n",
    "***"
   ]
  },
  {
   "cell_type": "code",
   "execution_count": 14,
   "metadata": {},
   "outputs": [],
   "source": [
    "# Declare\n",
    "def clean_according_to_train(corpus:list, vocabulary: dict, OOV_words:list) -> list:\n",
    "    \"\"\"\n",
    "        Cleans the corpus according to the vocabulary \n",
    "        and OOV_words list provided. Replaces words not\n",
    "        in vocabulary or in OOV_words with UNK.\n",
    "        Inputs: A corpus\n",
    "        Outpus: The cleaned corpus.\n",
    "    \"\"\"\n",
    "    clean_corpus = []\n",
    "    for sentence in corpus:\n",
    "        updated_sentence = ['UNK' if ((f not in vocabulary) or (f in OOV_words)) else f for f in sentence]\n",
    "        clean_corpus.append(updated_sentence)\n",
    "    return clean_corpus\n",
    "\n",
    "# Run\n",
    "dev_corpus = clean_according_to_train(dev_corpus, vocabulary, OOV_words)\n",
    "test_corpus = clean_according_to_train(test_corpus, vocabulary, OOV_words)"
   ]
  },
  {
   "cell_type": "markdown",
   "metadata": {},
   "source": [
    "## Question (i)\n",
    "***"
   ]
  },
  {
   "cell_type": "code",
   "execution_count": 15,
   "metadata": {},
   "outputs": [],
   "source": [
    "unigram_counter = calc_unigrams(train_corpus)\n",
    "bigram_counter = calc_bigrams(train_corpus)\n",
    "trigram_counter = calc_trigrams(train_corpus)\n",
    "V_length = len(vocabulary)"
   ]
  },
  {
   "cell_type": "markdown",
   "metadata": {},
   "source": [
    "### Top 5 per category\n",
    "***"
   ]
  },
  {
   "cell_type": "code",
   "execution_count": 16,
   "metadata": {},
   "outputs": [
    {
     "data": {
      "text/plain": [
       "[(('UNK',), 13602),\n",
       " (('the',), 4691),\n",
       " (('.',), 4573),\n",
       " (('to',), 3089),\n",
       " (('and',), 2989)]"
      ]
     },
     "execution_count": 16,
     "metadata": {},
     "output_type": "execute_result"
    }
   ],
   "source": [
    "unigram_counter.most_common(5)"
   ]
  },
  {
   "cell_type": "code",
   "execution_count": 17,
   "metadata": {},
   "outputs": [
    {
     "data": {
      "text/plain": [
       "[(('.', '<e>'), 4559),\n",
       " (('the', 'UNK'), 1680),\n",
       " (('UNK', 'UNK'), 1616),\n",
       " (('UNK', '.'), 1358),\n",
       " (('UNK', 'and'), 953)]"
      ]
     },
     "execution_count": 17,
     "metadata": {},
     "output_type": "execute_result"
    }
   ],
   "source": [
    "bigram_counter.most_common(5)"
   ]
  },
  {
   "cell_type": "code",
   "execution_count": 18,
   "metadata": {},
   "outputs": [
    {
     "data": {
      "text/plain": [
       "[(('.', '<e>', '<e>'), 4559),\n",
       " (('UNK', '.', '<e>'), 1352),\n",
       " (('!', '<e>', '<e>'), 848),\n",
       " (('?', '<e>', '<e>'), 674),\n",
       " (('<s>', '<s>', 'i'), 472)]"
      ]
     },
     "execution_count": 18,
     "metadata": {},
     "output_type": "execute_result"
    }
   ],
   "source": [
    "trigram_counter.most_common(5)"
   ]
  },
  {
   "cell_type": "markdown",
   "metadata": {},
   "source": [
    "##  Bi-gram Probability Calculation\n",
    "\n",
    "### $ P(w_2|w_1) = \\frac{C(w_1,w_2) + \\alpha}{C(w_1) + \\alpha \\cdot|V|} $\n",
    "\n",
    "* $ C(w_1,w_2) $ : bigram count\n",
    "* $ C(w_1) $ : unigram count\n",
    "* $ 0 \\leq\\alpha \\leq1 $ :  smoothing hyper-parameter \n",
    "* |V|: vocabulary size\n",
    "\n",
    "   "
   ]
  },
  {
   "cell_type": "code",
   "execution_count": 19,
   "metadata": {},
   "outputs": [],
   "source": [
    "def calc_bi_prob(word1:str, word2:str, alpha:float, bigram_counter:Counter, unigram_counter:Counter, V_length:int) -> float:\n",
    "    \"\"\"\n",
    "        Calculates the bi-gram probability of 2 consecutive words, based on the bigram_counter C(w1,w2)\n",
    "        the unigram counter C(w1) as well as the hyperparameter a (Laplace add-a smoothing). We also need\n",
    "        the length of the unigram words for the smoothing function.\n",
    "    \"\"\"\n",
    "    #Bigram prob + laplace smoothing\n",
    "    bigram_prob = (bigram_counter[(word1, word2)] + alpha) / (unigram_counter[(word1,)] + alpha*V_length)\n",
    "    return bigram_prob"
   ]
  },
  {
   "cell_type": "markdown",
   "metadata": {},
   "source": [
    "## Tri-gram Probability Calculation\n",
    "\n",
    "### $ P(w_3|w_1,w_2) = \\frac{C(w_1,w_2,w_3) + \\alpha}{C(w_1,w_2) + \\alpha \\cdot |V|} $\n",
    "\n",
    "* $ C(w_1,w_2,w_3) $ : trigram count\n",
    "* $ C(w_1,w_2) $ : bigram count\n",
    "* $ 0 \\leq\\alpha \\leq1 $ :  smoothing hyper-parameter \n",
    "* |V|: vocabulary size"
   ]
  },
  {
   "cell_type": "code",
   "execution_count": 20,
   "metadata": {},
   "outputs": [],
   "source": [
    "def calc_tri_prob(word1:str, word2:str, word3:str, alpha:float, trigram_counter:Counter, bigram_counter:Counter,  V_length:int) -> float:\n",
    "    \"\"\"\n",
    "        Calculates the tri-gram probability of 3 consecutive words, based on the trigram_counter C(w1,w2,w3)\n",
    "        the bigram_counter C(w1,w2) as well as the hyperparameter a (Laplace add-a smoothing). We also need\n",
    "        the length of the bigram words for the smoothing function.\n",
    "    \"\"\"\n",
    "    #Bigram prob + laplace smoothing\n",
    "    trigram_prob = (trigram_counter[(word1,word2,word3)] +alpha) / (bigram_counter[(word1,word2)] + alpha*V_length)\n",
    "    return trigram_prob"
   ]
  },
  {
   "cell_type": "markdown",
   "metadata": {},
   "source": [
    "### Tune alpha using development set for bigram\n",
    "***"
   ]
  },
  {
   "cell_type": "code",
   "execution_count": 21,
   "metadata": {},
   "outputs": [
    {
     "name": "stdout",
     "output_type": "stream",
     "text": [
      "The lowest perplexity/entropy regarding bigram model is : 52.032 / 5.701 at alpha= 0.015\n"
     ]
    }
   ],
   "source": [
    "perpl = []\n",
    "HC_list = []\n",
    "alpha_list = np.linspace(0.001,0.1,100)\n",
    "for alpha in alpha_list:\n",
    "    sum_prob = 0\n",
    "    bigram_cnt = 0\n",
    "    for sent in dev_corpus:\n",
    "        sent = ['<s>']  + sent + ['<e>']\n",
    "        for idx in range(1,len(sent)):\n",
    "            bigram_prob = calc_bi_prob(word1=sent[idx-1], word2=sent[idx], alpha=alpha, bigram_counter=bigram_counter, unigram_counter=unigram_counter, V_length=V_length)\n",
    "            sum_prob += math.log2(bigram_prob)\n",
    "            bigram_cnt+=1\n",
    "\n",
    "    HC_list.append(-sum_prob / bigram_cnt)\n",
    "    perpl.append(math.pow(2,(-sum_prob / bigram_cnt)))\n",
    "    \n",
    "\n",
    "perpl = np.array(perpl)\n",
    "entropy = np.array(HC_list)\n",
    "best_alpha_bi = alpha_list[np.argmin(perpl)]\n",
    "\n",
    "print(f\"The lowest perplexity/entropy regarding bigram model is : {round(np.min(perpl),3)} / {round(np.min(entropy),3)} at alpha= {np.round(best_alpha_bi, 3)}\")"
   ]
  },
  {
   "cell_type": "markdown",
   "metadata": {},
   "source": [
    "### Plot Results\n",
    "***"
   ]
  },
  {
   "cell_type": "code",
   "execution_count": 22,
   "metadata": {},
   "outputs": [
    {
     "data": {
      "image/png": "[encoded data removed]",
      "text/plain": [
       "<Figure size 360x360 with 1 Axes>"
      ]
     },
     "metadata": {
      "needs_background": "light"
     },
     "output_type": "display_data"
    },
    {
     "data": {
      "image/png": "[encoded data removed]",
      "text/plain": [
       "<Figure size 360x360 with 1 Axes>"
      ]
     },
     "metadata": {
      "needs_background": "light"
     },
     "output_type": "display_data"
    }
   ],
   "source": [
    "plt.figure(figsize=(5,5))\n",
    "plt.scatter(alpha_list, perpl, c='c', s=2)\n",
    "plt.hlines(y=perpl.min(), xmin=0, xmax=0.10, colors='r')\n",
    "plt.vlines(x=round(alpha_list[perpl.argmin()], 4), ymin=min(perpl), ymax=max(perpl), colors='r')\n",
    "plt.xlabel(\"Alpha\")\n",
    "plt.ylabel(\"Perplexity\")\n",
    "plt.title(\"Perplexity vs Alpha for bigram\")\n",
    "plt.show()\n",
    "\n",
    "#---------------------------#\n",
    "\n",
    "plt.figure(figsize=(5,5))\n",
    "plt.scatter(alpha_list, entropy, c='c', s=2)\n",
    "plt.hlines(y=entropy.min(), xmin=0, xmax=0.10, colors='r')\n",
    "plt.vlines(x=round(alpha_list[entropy.argmin()], 4), ymin=min(entropy), ymax=max(entropy), colors='r')\n",
    "plt.xlabel(\"Alpha\")\n",
    "plt.ylabel(\"Cross Entropy\")\n",
    "plt.title(\"Cross Entropy vs Alpha for bigram\")\n",
    "plt.show()"
   ]
  },
  {
   "cell_type": "markdown",
   "metadata": {},
   "source": [
    "### Tune alpha using development set for trigram\n",
    "***"
   ]
  },
  {
   "cell_type": "code",
   "execution_count": 23,
   "metadata": {},
   "outputs": [
    {
     "name": "stdout",
     "output_type": "stream",
     "text": [
      "The lowest perplexity / entropy regarding trigram model is : 96.218 / 6.588 at alpha= 0.008\n"
     ]
    }
   ],
   "source": [
    "perpl = []\n",
    "HC_list = []\n",
    "alpha_list = np.linspace(0.001,0.1,100)\n",
    "for alpha in alpha_list:\n",
    "    sum_prob = 0\n",
    "    trigram_cnt = 0\n",
    "    for sent in dev_corpus:\n",
    "        sent = ['<s>'] + ['<s>'] + sent + ['<e>'] + ['<e>']\n",
    "        for idx in range(2,len(sent)):\n",
    "            trigram_prob = calc_tri_prob(word1=sent[idx-2], word2=sent[idx-1], word3=sent[idx], alpha=alpha, trigram_counter=trigram_counter, bigram_counter=bigram_counter, V_length=V_length)\n",
    "            sum_prob += math.log2(trigram_prob)\n",
    "            trigram_cnt+=1\n",
    "\n",
    "    HC_list.append(-sum_prob / trigram_cnt)\n",
    "    perpl.append(math.pow(2,(-sum_prob / trigram_cnt)))\n",
    "perpl = np.array(perpl)\n",
    "entropy = np.array(HC_list)\n",
    "best_alpha_tri = alpha_list[np.argmin(perpl)]\n",
    "\n",
    "print(f\"The lowest perplexity / entropy regarding trigram model is : {round(np.min(perpl),3)} / {round(np.min(entropy),3)} at alpha= {np.round(best_alpha_tri, 3)}\")"
   ]
  },
  {
   "cell_type": "code",
   "execution_count": 24,
   "metadata": {},
   "outputs": [
    {
     "data": {
      "image/png": "[encoded data removed]",
      "text/plain": [
       "<Figure size 360x360 with 1 Axes>"
      ]
     },
     "metadata": {
      "needs_background": "light"
     },
     "output_type": "display_data"
    },
    {
     "data": {
      "image/png": "[encoded data removed]",
      "text/plain": [
       "<Figure size 360x360 with 1 Axes>"
      ]
     },
     "metadata": {
      "needs_background": "light"
     },
     "output_type": "display_data"
    }
   ],
   "source": [
    "plt.figure(figsize=(5,5))\n",
    "plt.scatter(alpha_list, perpl, c='c', s=2)\n",
    "plt.hlines(y=perpl.min(), xmin=0, xmax=0.10, colors='r')\n",
    "plt.vlines(x=round(alpha_list[perpl.argmin()], 4), ymin=min(perpl), ymax=max(perpl), colors='r')\n",
    "plt.xlabel(\"Alpha\")\n",
    "plt.ylabel(\"Perplexity\")\n",
    "plt.title(\"Perplexity vs Alpha for trigram\")\n",
    "plt.show()\n",
    "\n",
    "#-----------------------------------#\n",
    "\n",
    "plt.figure(figsize=(5,5))\n",
    "plt.scatter(alpha_list, entropy, c='c', s=2)\n",
    "plt.hlines(y=entropy.min(), xmin=0, xmax=0.10, colors='r')\n",
    "plt.vlines(x=round(alpha_list[entropy.argmin()], 4), ymin=min(entropy), ymax=max(entropy), colors='r')\n",
    "plt.xlabel(\"Alpha\")\n",
    "plt.ylabel(\"Cross Entropy\")\n",
    "plt.title(\"Cross Entropy vs Alpha for trigram\")\n",
    "plt.show()"
   ]
  },
  {
   "cell_type": "markdown",
   "metadata": {},
   "source": [
    "## Question (ii)\n",
    "***\n",
    "#### Here, we need to select correct sentences from the test set and calculate the log-prob of them based on our trained language models.\n",
    "#### First, let's randomly select 10 sentences.\n"
   ]
  },
  {
   "cell_type": "code",
   "execution_count": 25,
   "metadata": {},
   "outputs": [],
   "source": [
    "### For reproducability purposes\n",
    "np.random.seed(666)"
   ]
  },
  {
   "cell_type": "code",
   "execution_count": 26,
   "metadata": {},
   "outputs": [],
   "source": [
    "correct_sentences = [test_corpus[f] for f in np.random.randint(low=0, high=len(test_corpus), size=10)]"
   ]
  },
  {
   "cell_type": "markdown",
   "metadata": {},
   "source": [
    "#### We also define a function that randomly selects words to create fake sentences of the same length as the correct ones"
   ]
  },
  {
   "cell_type": "code",
   "execution_count": 27,
   "metadata": {},
   "outputs": [],
   "source": [
    "def create_fake_sentences(correct_sentences:list) -> list:\n",
    "    fake_sentences = []\n",
    "    for sentence in correct_sentences:\n",
    "        rand_words = [list(vocabulary)[f] for f in np.random.randint(low=0, high=len(vocabulary), size=len(sentence))]\n",
    "        fake_sentences.append(' '.join(rand_words))\n",
    "    return fake_sentences"
   ]
  },
  {
   "cell_type": "code",
   "execution_count": 28,
   "metadata": {},
   "outputs": [],
   "source": [
    "fake_sentences = create_fake_sentences(correct_sentences)"
   ]
  },
  {
   "cell_type": "code",
   "execution_count": 29,
   "metadata": {},
   "outputs": [],
   "source": [
    "fake_corpus_list_of_words = [word_tokenization(f) for f in fake_sentences]\n",
    "fake_corpus=clean_according_to_train(fake_corpus_list_of_words, vocabulary, OOV_words)"
   ]
  },
  {
   "cell_type": "markdown",
   "metadata": {},
   "source": [
    "### Bigram model Calculations\n",
    "***"
   ]
  },
  {
   "cell_type": "code",
   "execution_count": 30,
   "metadata": {},
   "outputs": [],
   "source": [
    "sum_prob = 0\n",
    "log_prob_bigram_correct=[]\n",
    "for correct in correct_sentences:\n",
    "    sent = ['<s>']  + correct + ['<e>']\n",
    "    for idx in range(1,len(sent)):\n",
    "        bigram_prob = calc_bi_prob(word1=sent[idx-1], word2=sent[idx], alpha=best_alpha_bi, bigram_counter=bigram_counter, unigram_counter=unigram_counter, V_length=V_length)\n",
    "        sum_prob += math.log2(bigram_prob)\n",
    "        bigram_cnt+=1  \n",
    "    log_prob_bigram_correct.append(sum_prob)\n",
    "    sum_prob = 0"
   ]
  },
  {
   "cell_type": "code",
   "execution_count": 31,
   "metadata": {},
   "outputs": [],
   "source": [
    "sum_prob = 0\n",
    "log_prob_bigram_fake=[]\n",
    "for fake in fake_corpus:\n",
    "    sent = ['<s>']  + fake + ['<e>']\n",
    "    for idx in range(1,len(sent)):\n",
    "        bigram_prob = calc_bi_prob(word1=sent[idx-1], word2=sent[idx], alpha=best_alpha_bi, bigram_counter=bigram_counter, unigram_counter=unigram_counter, V_length=V_length)\n",
    "        sum_prob += math.log2(bigram_prob)\n",
    "        bigram_cnt+=1\n",
    "    log_prob_bigram_fake.append(sum_prob)\n",
    "    sum_prob = 0"
   ]
  },
  {
   "cell_type": "code",
   "execution_count": 53,
   "metadata": {},
   "outputs": [
    {
     "data": {
      "text/html": [
       "<div>\n",
       "<style scoped>\n",
       "    .dataframe tbody tr th:only-of-type {\n",
       "        vertical-align: middle;\n",
       "    }\n",
       "\n",
       "    .dataframe tbody tr th {\n",
       "        vertical-align: top;\n",
       "    }\n",
       "\n",
       "    .dataframe thead th {\n",
       "        text-align: right;\n",
       "    }\n",
       "</style>\n",
       "<table border=\"1\" class=\"dataframe\">\n",
       "  <thead>\n",
       "    <tr style=\"text-align: right;\">\n",
       "      <th></th>\n",
       "      <th>Correct Sentence</th>\n",
       "      <th>Log Probability Correct</th>\n",
       "      <th>Fake Sentence</th>\n",
       "      <th>Log Probability Fake</th>\n",
       "    </tr>\n",
       "  </thead>\n",
       "  <tbody>\n",
       "    <tr>\n",
       "      <td>0</td>\n",
       "      <td>[dr., middleton, UNK, me, and, now, he, will, UNK, of, his, confidence, in, me, .]</td>\n",
       "      <td>-75.584906</td>\n",
       "      <td>[corner, understand, market, twelve, english, dress, men, downs, last, how, worked, told, gathered, running, fond]</td>\n",
       "      <td>-182.250820</td>\n",
       "    </tr>\n",
       "    <tr>\n",
       "      <td>1</td>\n",
       "      <td>[repeated, he, UNK, the, light, to, his, face, .]</td>\n",
       "      <td>-51.145972</td>\n",
       "      <td>[arthur, expected, sophy, where, halfpenny, has, reasonable, safe, opened]</td>\n",
       "      <td>-100.876712</td>\n",
       "    </tr>\n",
       "    <tr>\n",
       "      <td>2</td>\n",
       "      <td>[grant, had, some, UNK, fine, raspberries, .]</td>\n",
       "      <td>-43.641907</td>\n",
       "      <td>[early, saw, returned, landlady, bid, dark, charming]</td>\n",
       "      <td>-90.842118</td>\n",
       "    </tr>\n",
       "    <tr>\n",
       "      <td>3</td>\n",
       "      <td>[and, louisa, also, desired, me, said, she, to, return, to, you, this, flora, .]</td>\n",
       "      <td>-104.340313</td>\n",
       "      <td>[command, beg, mischief, think, nonsense, smiling, fixed, dark, master, arms, caught, throw, either, public]</td>\n",
       "      <td>-167.559026</td>\n",
       "    </tr>\n",
       "    <tr>\n",
       "      <td>4</td>\n",
       "      <td>[you, may, go, back, and, tell, her, so, .]</td>\n",
       "      <td>-46.320648</td>\n",
       "      <td>[safe, flora, been, ', friends, many, then, recollect, cry]</td>\n",
       "      <td>-113.196567</td>\n",
       "    </tr>\n",
       "    <tr>\n",
       "      <td>5</td>\n",
       "      <td>[no, sir, nothing, answered, hal, in, a, UNK, tone, like, one, who, was, well, UNK, with, the, UNK, of, UNK, UNK, .]</td>\n",
       "      <td>-121.326119</td>\n",
       "      <td>[had, mamma, over, health, boys, lad, brother, eager, other, fall, mount, fortune, warm, him, looking, passed, music, belonged, whatever, pulled, case, often]</td>\n",
       "      <td>-264.129754</td>\n",
       "    </tr>\n",
       "    <tr>\n",
       "      <td>6</td>\n",
       "      <td>[this, poor, little, lamb, of, mine, was, what, kept, me, so, long, .]</td>\n",
       "      <td>-102.384218</td>\n",
       "      <td>[enter, fall, sake, after, say, merchants, dear, age, laughed, lie, say, whispered, age]</td>\n",
       "      <td>-151.796720</td>\n",
       "    </tr>\n",
       "    <tr>\n",
       "      <td>7</td>\n",
       "      <td>[yes, but, you, do, though, said, bell, more, UNK, .]</td>\n",
       "      <td>-53.239781</td>\n",
       "      <td>[daughter, round, joy, quite, seeds, three, o, been, beautiful, have]</td>\n",
       "      <td>-132.162867</td>\n",
       "    </tr>\n",
       "    <tr>\n",
       "      <td>8</td>\n",
       "      <td>[he, !]</td>\n",
       "      <td>-4.159435</td>\n",
       "      <td>[this, person]</td>\n",
       "      <td>-24.787463</td>\n",
       "    </tr>\n",
       "    <tr>\n",
       "      <td>9</td>\n",
       "      <td>[said, frederick, to, mr., eden, UNK, hold, of, his, hand, .]</td>\n",
       "      <td>-56.833448</td>\n",
       "      <td>[off, employed, me, king, thanked, churchill, there, account, archers, dropped, dinner]</td>\n",
       "      <td>-132.537197</td>\n",
       "    </tr>\n",
       "  </tbody>\n",
       "</table>\n",
       "</div>"
      ],
      "text/plain": [
       "                                                                                                       Correct Sentence  \\\n",
       "0  [dr., middleton, UNK, me, and, now, he, will, UNK, of, his, confidence, in, me, .]                                     \n",
       "1  [repeated, he, UNK, the, light, to, his, face, .]                                                                      \n",
       "2  [grant, had, some, UNK, fine, raspberries, .]                                                                          \n",
       "3  [and, louisa, also, desired, me, said, she, to, return, to, you, this, flora, .]                                       \n",
       "4  [you, may, go, back, and, tell, her, so, .]                                                                            \n",
       "5  [no, sir, nothing, answered, hal, in, a, UNK, tone, like, one, who, was, well, UNK, with, the, UNK, of, UNK, UNK, .]   \n",
       "6  [this, poor, little, lamb, of, mine, was, what, kept, me, so, long, .]                                                 \n",
       "7  [yes, but, you, do, though, said, bell, more, UNK, .]                                                                  \n",
       "8  [he, !]                                                                                                                \n",
       "9  [said, frederick, to, mr., eden, UNK, hold, of, his, hand, .]                                                          \n",
       "\n",
       "   Log Probability Correct  \\\n",
       "0 -75.584906                 \n",
       "1 -51.145972                 \n",
       "2 -43.641907                 \n",
       "3 -104.340313                \n",
       "4 -46.320648                 \n",
       "5 -121.326119                \n",
       "6 -102.384218                \n",
       "7 -53.239781                 \n",
       "8 -4.159435                  \n",
       "9 -56.833448                 \n",
       "\n",
       "                                                                                                                                                    Fake Sentence  \\\n",
       "0  [corner, understand, market, twelve, english, dress, men, downs, last, how, worked, told, gathered, running, fond]                                               \n",
       "1  [arthur, expected, sophy, where, halfpenny, has, reasonable, safe, opened]                                                                                       \n",
       "2  [early, saw, returned, landlady, bid, dark, charming]                                                                                                            \n",
       "3  [command, beg, mischief, think, nonsense, smiling, fixed, dark, master, arms, caught, throw, either, public]                                                     \n",
       "4  [safe, flora, been, ', friends, many, then, recollect, cry]                                                                                                      \n",
       "5  [had, mamma, over, health, boys, lad, brother, eager, other, fall, mount, fortune, warm, him, looking, passed, music, belonged, whatever, pulled, case, often]   \n",
       "6  [enter, fall, sake, after, say, merchants, dear, age, laughed, lie, say, whispered, age]                                                                         \n",
       "7  [daughter, round, joy, quite, seeds, three, o, been, beautiful, have]                                                                                            \n",
       "8  [this, person]                                                                                                                                                   \n",
       "9  [off, employed, me, king, thanked, churchill, there, account, archers, dropped, dinner]                                                                          \n",
       "\n",
       "   Log Probability Fake  \n",
       "0 -182.250820            \n",
       "1 -100.876712            \n",
       "2 -90.842118             \n",
       "3 -167.559026            \n",
       "4 -113.196567            \n",
       "5 -264.129754            \n",
       "6 -151.796720            \n",
       "7 -132.162867            \n",
       "8 -24.787463             \n",
       "9 -132.537197            "
      ]
     },
     "execution_count": 53,
     "metadata": {},
     "output_type": "execute_result"
    }
   ],
   "source": [
    "#Log probabilities of correct vs fake sentences in bigram model\n",
    "pd.set_option('display.max_colwidth',1)\n",
    "df1 = pd.DataFrame({\"Correct Sentence\":correct_sentences, \"Log Probability Correct\":log_prob_bigram_correct, \"Fake Sentence\":fake_corpus,  \"Log Probability Fake\":log_prob_bigram_fake})\n",
    "##df1.to_excel(\"output.xlsx\")\n",
    "df1"
   ]
  },
  {
   "cell_type": "markdown",
   "metadata": {},
   "source": [
    "### Trigram model Calculations\n",
    "***"
   ]
  },
  {
   "cell_type": "code",
   "execution_count": 33,
   "metadata": {},
   "outputs": [],
   "source": [
    "sum_prob = 0\n",
    "log_prob_trigram_correct=[]\n",
    "for correct in correct_sentences:\n",
    "    # This was wrong in trigram we need 2 starts not 1\n",
    "    sent = ['<s>'] + ['<s>']  + correct + ['<e>'] + ['<e>']\n",
    "    for idx in range(2,len(sent)):\n",
    "        trigram_prob = calc_tri_prob(word1=sent[idx-2], word2=sent[idx-1], word3=sent[idx], alpha=best_alpha_tri, trigram_counter=trigram_counter, bigram_counter=bigram_counter, V_length=V_length)\n",
    "        sum_prob += math.log2(trigram_prob)  \n",
    "    log_prob_trigram_correct.append(sum_prob)\n",
    "    sum_prob = 0"
   ]
  },
  {
   "cell_type": "code",
   "execution_count": 34,
   "metadata": {},
   "outputs": [],
   "source": [
    "sum_prob = 0\n",
    "log_prob_trigram_fake=[]\n",
    "for fake in fake_corpus:\n",
    "    # This was wrong in trigram we need 2 starts not 1\n",
    "    sent = ['<s>']  + ['<s>']  + fake + ['<e>'] + ['<e>']\n",
    "    for idx in range(2,len(sent)):\n",
    "        trigram_prob = calc_tri_prob(word1=sent[idx-2], word2=sent[idx-1], word3=sent[idx], alpha=best_alpha_tri, trigram_counter=trigram_counter, bigram_counter=bigram_counter, V_length=V_length)\n",
    "        sum_prob += math.log2(trigram_prob)  \n",
    "    log_prob_trigram_fake.append(sum_prob)\n",
    "    sum_prob = 0"
   ]
  },
  {
   "cell_type": "code",
   "execution_count": 56,
   "metadata": {},
   "outputs": [
    {
     "data": {
      "text/html": [
       "<div>\n",
       "<style scoped>\n",
       "    .dataframe tbody tr th:only-of-type {\n",
       "        vertical-align: middle;\n",
       "    }\n",
       "\n",
       "    .dataframe tbody tr th {\n",
       "        vertical-align: top;\n",
       "    }\n",
       "\n",
       "    .dataframe thead th {\n",
       "        text-align: right;\n",
       "    }\n",
       "</style>\n",
       "<table border=\"1\" class=\"dataframe\">\n",
       "  <thead>\n",
       "    <tr style=\"text-align: right;\">\n",
       "      <th></th>\n",
       "      <th>Correct Sentence</th>\n",
       "      <th>Log Probability Correct</th>\n",
       "      <th>Fake Sentence</th>\n",
       "      <th>Log Probability Fake</th>\n",
       "    </tr>\n",
       "  </thead>\n",
       "  <tbody>\n",
       "    <tr>\n",
       "      <td>0</td>\n",
       "      <td>[dr., middleton, UNK, me, and, now, he, will, UNK, of, his, confidence, in, me, .]</td>\n",
       "      <td>-108.529423</td>\n",
       "      <td>[corner, understand, market, twelve, english, dress, men, downs, last, how, worked, told, gathered, running, fond]</td>\n",
       "      <td>-171.644158</td>\n",
       "    </tr>\n",
       "    <tr>\n",
       "      <td>1</td>\n",
       "      <td>[repeated, he, UNK, the, light, to, his, face, .]</td>\n",
       "      <td>-65.263145</td>\n",
       "      <td>[arthur, expected, sophy, where, halfpenny, has, reasonable, safe, opened]</td>\n",
       "      <td>-101.912912</td>\n",
       "    </tr>\n",
       "    <tr>\n",
       "      <td>2</td>\n",
       "      <td>[grant, had, some, UNK, fine, raspberries, .]</td>\n",
       "      <td>-61.819836</td>\n",
       "      <td>[early, saw, returned, landlady, bid, dark, charming]</td>\n",
       "      <td>-90.870436</td>\n",
       "    </tr>\n",
       "    <tr>\n",
       "      <td>3</td>\n",
       "      <td>[and, louisa, also, desired, me, said, she, to, return, to, you, this, flora, .]</td>\n",
       "      <td>-119.281333</td>\n",
       "      <td>[command, beg, mischief, think, nonsense, smiling, fixed, dark, master, arms, caught, throw, either, public]</td>\n",
       "      <td>-161.547442</td>\n",
       "    </tr>\n",
       "    <tr>\n",
       "      <td>4</td>\n",
       "      <td>[you, may, go, back, and, tell, her, so, .]</td>\n",
       "      <td>-48.766623</td>\n",
       "      <td>[safe, flora, been, ', friends, many, then, recollect, cry]</td>\n",
       "      <td>-104.242537</td>\n",
       "    </tr>\n",
       "    <tr>\n",
       "      <td>5</td>\n",
       "      <td>[no, sir, nothing, answered, hal, in, a, UNK, tone, like, one, who, was, well, UNK, with, the, UNK, of, UNK, UNK, .]</td>\n",
       "      <td>-124.331029</td>\n",
       "      <td>[had, mamma, over, health, boys, lad, brother, eager, other, fall, mount, fortune, warm, him, looking, passed, music, belonged, whatever, pulled, case, often]</td>\n",
       "      <td>-234.646295</td>\n",
       "    </tr>\n",
       "    <tr>\n",
       "      <td>6</td>\n",
       "      <td>[this, poor, little, lamb, of, mine, was, what, kept, me, so, long, .]</td>\n",
       "      <td>-120.912154</td>\n",
       "      <td>[enter, fall, sake, after, say, merchants, dear, age, laughed, lie, say, whispered, age]</td>\n",
       "      <td>-141.952931</td>\n",
       "    </tr>\n",
       "    <tr>\n",
       "      <td>7</td>\n",
       "      <td>[yes, but, you, do, though, said, bell, more, UNK, .]</td>\n",
       "      <td>-64.306605</td>\n",
       "      <td>[daughter, round, joy, quite, seeds, three, o, been, beautiful, have]</td>\n",
       "      <td>-121.160582</td>\n",
       "    </tr>\n",
       "    <tr>\n",
       "      <td>8</td>\n",
       "      <td>[he, !]</td>\n",
       "      <td>-1.786683</td>\n",
       "      <td>[this, person]</td>\n",
       "      <td>-30.460089</td>\n",
       "    </tr>\n",
       "    <tr>\n",
       "      <td>9</td>\n",
       "      <td>[said, frederick, to, mr., eden, UNK, hold, of, his, hand, .]</td>\n",
       "      <td>-70.057251</td>\n",
       "      <td>[off, employed, me, king, thanked, churchill, there, account, archers, dropped, dinner]</td>\n",
       "      <td>-123.127593</td>\n",
       "    </tr>\n",
       "  </tbody>\n",
       "</table>\n",
       "</div>"
      ],
      "text/plain": [
       "                                                                                                       Correct Sentence  \\\n",
       "0  [dr., middleton, UNK, me, and, now, he, will, UNK, of, his, confidence, in, me, .]                                     \n",
       "1  [repeated, he, UNK, the, light, to, his, face, .]                                                                      \n",
       "2  [grant, had, some, UNK, fine, raspberries, .]                                                                          \n",
       "3  [and, louisa, also, desired, me, said, she, to, return, to, you, this, flora, .]                                       \n",
       "4  [you, may, go, back, and, tell, her, so, .]                                                                            \n",
       "5  [no, sir, nothing, answered, hal, in, a, UNK, tone, like, one, who, was, well, UNK, with, the, UNK, of, UNK, UNK, .]   \n",
       "6  [this, poor, little, lamb, of, mine, was, what, kept, me, so, long, .]                                                 \n",
       "7  [yes, but, you, do, though, said, bell, more, UNK, .]                                                                  \n",
       "8  [he, !]                                                                                                                \n",
       "9  [said, frederick, to, mr., eden, UNK, hold, of, his, hand, .]                                                          \n",
       "\n",
       "   Log Probability Correct  \\\n",
       "0 -108.529423                \n",
       "1 -65.263145                 \n",
       "2 -61.819836                 \n",
       "3 -119.281333                \n",
       "4 -48.766623                 \n",
       "5 -124.331029                \n",
       "6 -120.912154                \n",
       "7 -64.306605                 \n",
       "8 -1.786683                  \n",
       "9 -70.057251                 \n",
       "\n",
       "                                                                                                                                                    Fake Sentence  \\\n",
       "0  [corner, understand, market, twelve, english, dress, men, downs, last, how, worked, told, gathered, running, fond]                                               \n",
       "1  [arthur, expected, sophy, where, halfpenny, has, reasonable, safe, opened]                                                                                       \n",
       "2  [early, saw, returned, landlady, bid, dark, charming]                                                                                                            \n",
       "3  [command, beg, mischief, think, nonsense, smiling, fixed, dark, master, arms, caught, throw, either, public]                                                     \n",
       "4  [safe, flora, been, ', friends, many, then, recollect, cry]                                                                                                      \n",
       "5  [had, mamma, over, health, boys, lad, brother, eager, other, fall, mount, fortune, warm, him, looking, passed, music, belonged, whatever, pulled, case, often]   \n",
       "6  [enter, fall, sake, after, say, merchants, dear, age, laughed, lie, say, whispered, age]                                                                         \n",
       "7  [daughter, round, joy, quite, seeds, three, o, been, beautiful, have]                                                                                            \n",
       "8  [this, person]                                                                                                                                                   \n",
       "9  [off, employed, me, king, thanked, churchill, there, account, archers, dropped, dinner]                                                                          \n",
       "\n",
       "   Log Probability Fake  \n",
       "0 -171.644158            \n",
       "1 -101.912912            \n",
       "2 -90.870436             \n",
       "3 -161.547442            \n",
       "4 -104.242537            \n",
       "5 -234.646295            \n",
       "6 -141.952931            \n",
       "7 -121.160582            \n",
       "8 -30.460089             \n",
       "9 -123.127593            "
      ]
     },
     "execution_count": 56,
     "metadata": {},
     "output_type": "execute_result"
    }
   ],
   "source": [
    "#Log probabilities of correct vs fake sentences in trigram model\n",
    "df2 = pd.DataFrame({\"Correct Sentence\":correct_sentences, \"Log Probability Correct\":log_prob_trigram_correct, \"Fake Sentence\":fake_corpus,  \"Log Probability Fake\":log_prob_trigram_fake})\n",
    "##df2.to_excel(\"output.xlsx\")\n",
    "df2"
   ]
  },
  {
   "cell_type": "markdown",
   "metadata": {},
   "source": [
    "## Question (iii)\n",
    "***"
   ]
  },
  {
   "cell_type": "markdown",
   "metadata": {},
   "source": [
    "### Estimate language cross-entropy and perplexity of bigram model.\n",
    "***"
   ]
  },
  {
   "cell_type": "code",
   "execution_count": 36,
   "metadata": {},
   "outputs": [
    {
     "name": "stdout",
     "output_type": "stream",
     "text": [
      "Language Cross Entropy: 5.654\n",
      "Language Perplexity: 50.364\n"
     ]
    }
   ],
   "source": [
    "test_sequence = []\n",
    "for sent in test_corpus:\n",
    "    test_sequence += ['<s>']  + sent + ['<e>']\n",
    "\n",
    "sum_prob = 0\n",
    "bigram_cnt = 0\n",
    "for idx in range(1,len(test_sequence)):\n",
    "    if test_sequence[idx] != '<s>':\n",
    "        bigram_prob = calc_bi_prob(word1=test_sequence[idx-1], word2=test_sequence[idx], alpha=best_alpha_bi, bigram_counter=bigram_counter, unigram_counter=unigram_counter, V_length=V_length)\n",
    "        sum_prob += math.log2(bigram_prob)\n",
    "        bigram_cnt+=1\n",
    "        \n",
    "HC = -sum_prob / bigram_cnt\n",
    "perpl = math.pow(2,HC)\n",
    "\n",
    "print(\"Language Cross Entropy: {0:.3f}\".format(HC))\n",
    "print(\"Language Perplexity: {0:.3f}\".format(perpl))"
   ]
  },
  {
   "cell_type": "markdown",
   "metadata": {},
   "source": [
    "### Estimate language cross-entropy and perplexity of trigram model.\n",
    "***"
   ]
  },
  {
   "cell_type": "code",
   "execution_count": 37,
   "metadata": {},
   "outputs": [
    {
     "name": "stdout",
     "output_type": "stream",
     "text": [
      "Language Cross Entropy: 6.548\n",
      "Language Perplexity: 93.572\n"
     ]
    }
   ],
   "source": [
    "test_sequence = []\n",
    "for sent in test_corpus:\n",
    "    test_sequence += ['<s>'] + ['<s>'] + sent + ['<e>'] + ['<e>']\n",
    "\n",
    "sum_prob = 0\n",
    "trigram_cnt = 0\n",
    "for idx in range(2,len(test_sequence)):\n",
    "    if test_sequence[idx] != '<s>':\n",
    "        trigram_prob = calc_tri_prob(word1=test_sequence[idx-2], word2=test_sequence[idx-1], word3=test_sequence[idx], alpha=best_alpha_tri, trigram_counter=trigram_counter, bigram_counter=bigram_counter, V_length=V_length)\n",
    "        sum_prob += math.log2(trigram_prob)\n",
    "        trigram_cnt+=1\n",
    "        \n",
    "HC = -sum_prob / trigram_cnt\n",
    "perpl = math.pow(2,HC)\n",
    "\n",
    "print(\"Language Cross Entropy: {0:.3f}\".format(HC))\n",
    "print(\"Language Perplexity: {0:.3f}\".format(perpl))"
   ]
  },
  {
   "cell_type": "markdown",
   "metadata": {},
   "source": [
    "## Question (iv)\n",
    "***\n",
    "\n",
    "#### Linear interpolation for bigram and trigram model combination."
   ]
  },
  {
   "cell_type": "code",
   "execution_count": 57,
   "metadata": {},
   "outputs": [],
   "source": [
    "HC_list = []\n",
    "perpl = []\n",
    "lamda_list = np.linspace(0.001,1,100)\n",
    "\n",
    "for lamda in lamda_list:\n",
    "    sum_prob = 0\n",
    "    ngram_cnt = 0\n",
    "    for sent in dev_corpus:\n",
    "        sent = ['<s>'] + ['<s>'] + sent + ['<e>'] + ['<e>']\n",
    "        for idx in range(2,len(sent)):\n",
    "            bigram_prob = calc_bi_prob(word1=sent[idx-1], word2=sent[idx], alpha=alpha, bigram_counter=bigram_counter, unigram_counter=unigram_counter, V_length=V_length)\n",
    "            trigram_prob = calc_tri_prob(word1=sent[idx-2], word2=sent[idx-1], word3=sent[idx], alpha=alpha, trigram_counter=trigram_counter, bigram_counter=bigram_counter, V_length=V_length)\n",
    "            sum_prob += (lamda * math.log2(trigram_prob)) +((1-lamda) * math.log2(bigram_prob))\n",
    "            ngram_cnt+=1 \n",
    "\n",
    "    HC_list.append(-sum_prob / ngram_cnt)\n",
    "    perpl.append(math.pow(2,(-sum_prob / ngram_cnt)))"
   ]
  },
  {
   "cell_type": "code",
   "execution_count": 58,
   "metadata": {},
   "outputs": [
    {
     "data": {
      "image/png": "[encoded data removed]",
      "text/plain": [
       "<Figure size 360x360 with 1 Axes>"
      ]
     },
     "metadata": {
      "needs_background": "light"
     },
     "output_type": "display_data"
    },
    {
     "data": {
      "image/png": "[encoded data removed]",
      "text/plain": [
       "<Figure size 360x360 with 1 Axes>"
      ]
     },
     "metadata": {
      "needs_background": "light"
     },
     "output_type": "display_data"
    }
   ],
   "source": [
    "plt.figure(figsize=(5,5))\n",
    "plt.scatter(lamda_list, perpl, c='c', s=2)\n",
    "plt.xlabel(\"Lambda\")\n",
    "plt.ylabel(\"Perplexity\")\n",
    "plt.title(\"Perplexity vs Lambda for bigram and trigram linear interpolation\")\n",
    "plt.show()\n",
    "\n",
    "# ----------------- #\n",
    "\n",
    "plt.figure(figsize=(5,5))\n",
    "plt.scatter(lamda_list, HC_list, c='c', s=2)\n",
    "plt.xlabel(\"Lambda\")\n",
    "plt.ylabel(\"Cross Entropy\")\n",
    "plt.title(\"Cross Entropy vs Lambda for bigram and trigram linear interpolation\")\n",
    "plt.show()"
   ]
  }
 ],
 "metadata": {
  "kernelspec": {
   "display_name": "Python 3",
   "language": "python",
   "name": "python3"
  },
  "language_info": {
   "codemirror_mode": {
    "name": "ipython",
    "version": 3
   },
   "file_extension": ".py",
   "mimetype": "text/x-python",
   "name": "python",
   "nbconvert_exporter": "python",
   "pygments_lexer": "ipython3",
   "version": "3.7.4"
  }
 },
 "nbformat": 4,
 "nbformat_minor": 4
}
