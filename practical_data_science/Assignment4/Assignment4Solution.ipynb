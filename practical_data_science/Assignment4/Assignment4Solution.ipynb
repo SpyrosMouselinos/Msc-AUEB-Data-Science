{
 "cells": [
  {
   "cell_type": "markdown",
   "metadata": {},
   "source": [
    "# Assignment 4\n",
    "## Mouselinos Spyridon \n",
    "### December 2019\n",
    "***"
   ]
  },
  {
   "cell_type": "code",
   "execution_count": 1,
   "metadata": {},
   "outputs": [],
   "source": [
    "import os\n",
    "### The Notebook can be excecuted in GPU-Accelerated Mode or Not by adjusting the following flag ###\n",
    "use_gpu = True"
   ]
  },
  {
   "cell_type": "code",
   "execution_count": 2,
   "metadata": {},
   "outputs": [],
   "source": [
    "if not use_gpu:\n",
    "    ### Disable GPU ###\n",
    "    os.environ[\"CUDA_VISIBLE_DEVICES\"] = \"-1\"\n",
    "else:\n",
    "    ### Enable the first available GPU ###\n",
    "    os.environ[\"CUDA_VISIBLE_DEVICES\"] = \"0\""
   ]
  },
  {
   "cell_type": "code",
   "execution_count": 3,
   "metadata": {},
   "outputs": [],
   "source": [
    "from tensorflow.keras.preprocessing.image import ImageDataGenerator\n",
    "from tensorflow.keras.callbacks import EarlyStopping, ModelCheckpoint\n",
    "from tensorflow.keras.models import Model, Sequential, load_model\n",
    "from tensorflow.keras.layers import Dense\n",
    "from tensorflow.keras.optimizers import RMSprop, SGD, Adam\n",
    "import matplotlib.pyplot as plt\n",
    "import matplotlib.image as mpimg\n",
    "import pandas as pd\n",
    "import numpy as np\n",
    "import random\n",
    "from sklearn.metrics import f1_score\n",
    "from collections import Counter\n",
    "from sklearn.dummy import DummyClassifier\n",
    "from sklearn.preprocessing import MultiLabelBinarizer\n",
    "import warnings\n",
    "warnings.filterwarnings(\"ignore\")"
   ]
  },
  {
   "cell_type": "code",
   "execution_count": 4,
   "metadata": {},
   "outputs": [],
   "source": [
    "%matplotlib inline"
   ]
  },
  {
   "cell_type": "markdown",
   "metadata": {},
   "source": [
    "# My Data Structure\n",
    "\n",
    "* The Data were downloaded and stored in a folder named `DataFolder` at the same level as the Notebook. The folder includes the following folders/files:\n",
    "\n",
    "    * `training-set`\n",
    "    \n",
    "    * `validation-set`\n",
    "    \n",
    "    * `test-set\\dummy-class` : The dummy-class subfolder is needed for the flow_from_directory method of Keras Generator.\n",
    "    \n",
    "    * `train_concepts.csv` : the image IDs of the training set with their gold (i.e., known correct) tags, separated with `;`.\n",
    "    \n",
    "    * `val_concepts.csv` : the validation image IDs with their gold tags, separated with `;`.\n",
    "    \n",
    "    * `string_concepts.csv`: all the available tag IDs and their corresponding name, separated with tabs."
   ]
  },
  {
   "cell_type": "code",
   "execution_count": 5,
   "metadata": {},
   "outputs": [],
   "source": [
    "data_path = 'DataFolder/'\n",
    "train_data_path = data_path + '/training-set/'\n",
    "validation_data_path = data_path + '/validation-set/'\n",
    "test_data_path = data_path + '/test-set/'\n",
    "train_tag_id = pd.read_csv(data_path + '/train_concepts.csv')\n",
    "val_tag_id = pd.read_csv(data_path + '/val_concepts.csv')\n",
    "concept_id = pd.read_csv(data_path + '/string_concepts.csv', sep='\\t', header=None)\n",
    "concept_id.rename(columns={0: \"tags\", 1: \"concepts\"}, inplace=True)"
   ]
  },
  {
   "cell_type": "markdown",
   "metadata": {},
   "source": [
    "## Data Exploration\n",
    "***"
   ]
  },
  {
   "cell_type": "markdown",
   "metadata": {},
   "source": [
    "* Plot some images.\n",
    "* For those images, fetch their tag IDs and their tag names."
   ]
  },
  {
   "cell_type": "code",
   "execution_count": null,
   "metadata": {},
   "outputs": [],
   "source": [
    "### Read 3 random Train Images\n",
    "rand_3_train = random.choices(os.listdir(train_data_path), k=3)\n",
    "\n",
    "\n",
    "img1 = mpimg.imread(train_data_path + rand_3_train[0])\n",
    "img2 = mpimg.imread(train_data_path + rand_3_train[1])\n",
    "img3 = mpimg.imread(train_data_path + rand_3_train[2])\n",
    "\n",
    "\n",
    "### Find their Tag ID's\n",
    "img1_tags = train_tag_id[train_tag_id['image'] == rand_3_train[0].split('.')[0]]['tags'].values[0].split(';')\n",
    "img2_tags = train_tag_id[train_tag_id['image'] == rand_3_train[1].split('.')[0]]['tags'].values[0].split(';')\n",
    "img3_tags = train_tag_id[train_tag_id['image'] == rand_3_train[2].split('.')[0]]['tags'].values[0].split(';')\n",
    "\n",
    "\n",
    "### Find their tag names\n",
    "img1_names = [concept_id[concept_id['tags'] == f]['concepts'].values[0] for f in img1_tags]\n",
    "img2_names = [concept_id[concept_id['tags'] == f]['concepts'].values[0] for f in img2_tags]\n",
    "img3_names = [concept_id[concept_id['tags'] == f]['concepts'].values[0] for f in img3_tags]\n",
    "\n",
    "### Plot them with their ID's and names\n",
    "f, (ax1, ax2, ax3) = plt.subplots(3, 1, figsize = (5, 11))\n",
    "ax1.imshow(img1, aspect = \"auto\")\n",
    "ax1.title.set_text(img1_tags)\n",
    "ax1.set_xlabel(img1_names)\n",
    "ax2.imshow(img2, aspect = \"auto\")\n",
    "ax2.title.set_text(img2_tags)\n",
    "ax2.set_xlabel(img2_names)\n",
    "ax3.imshow(img3, aspect = \"auto\")\n",
    "ax3.title.set_text(img3_tags)\n",
    "ax3.set_xlabel(img3_names)\n",
    "f.subplots_adjust(hspace=0.5)"
   ]
  },
  {
   "cell_type": "code",
   "execution_count": null,
   "metadata": {},
   "outputs": [],
   "source": [
    "### Read 3 random Validation Images\n",
    "rand_3_val = random.choices(os.listdir(validation_data_path), k=3)\n",
    "### Plot them\n",
    "img1 = mpimg.imread(validation_data_path + rand_3_val[0])\n",
    "img2 = mpimg.imread(validation_data_path + rand_3_val[1])\n",
    "img3 = mpimg.imread(validation_data_path + rand_3_val[2])\n",
    "\n",
    "### Find their Tag ID's\n",
    "img1_tags = val_tag_id[val_tag_id['image'] == rand_3_val[0].split('.')[0]]['tags'].values[0].split(';')\n",
    "img2_tags = val_tag_id[val_tag_id['image'] == rand_3_val[1].split('.')[0]]['tags'].values[0].split(';')\n",
    "img3_tags = val_tag_id[val_tag_id['image'] == rand_3_val[2].split('.')[0]]['tags'].values[0].split(';')\n",
    "\n",
    "### Find their tag names\n",
    "img1_names = [concept_id[concept_id['tags'] == f]['concepts'].values[0] for f in img1_tags]\n",
    "img2_names = [concept_id[concept_id['tags'] == f]['concepts'].values[0] for f in img2_tags]\n",
    "img3_names = [concept_id[concept_id['tags'] == f]['concepts'].values[0] for f in img3_tags]\n",
    "\n",
    "### Plot them with their ID's and names\n",
    "f, (ax1, ax2, ax3) = plt.subplots(3, 1, figsize = (5, 11))\n",
    "ax1.imshow(img1, aspect = \"auto\")\n",
    "ax1.title.set_text(img1_tags)\n",
    "ax1.set_xlabel(img1_names)\n",
    "ax2.imshow(img2, aspect = \"auto\")\n",
    "ax2.title.set_text(img2_tags)\n",
    "ax2.set_xlabel(img2_names)\n",
    "ax3.imshow(img3, aspect = \"auto\")\n",
    "ax3.title.set_text(img3_tags)\n",
    "ax3.set_xlabel(img3_names)\n",
    "f.subplots_adjust(hspace=0.5)"
   ]
  },
  {
   "cell_type": "markdown",
   "metadata": {},
   "source": [
    "* How many tags are there in total?\n",
    "***"
   ]
  },
  {
   "cell_type": "code",
   "execution_count": null,
   "metadata": {},
   "outputs": [],
   "source": [
    "### Let's find the total number of tag ID's\n",
    "total_tag_ids = concept_id['tags'].unique().shape[0]\n",
    "print(\"The total number of Unique CUI tags is: {}\".format(total_tag_ids))"
   ]
  },
  {
   "cell_type": "code",
   "execution_count": null,
   "metadata": {},
   "outputs": [],
   "source": [
    "### We find 5528 unique CUI tags that is consistent with the number reported on the Paper after the preprocessing the authors made (page 3)"
   ]
  },
  {
   "cell_type": "code",
   "execution_count": null,
   "metadata": {},
   "outputs": [],
   "source": [
    "def cui_to_concept(cui_code):\n",
    "    return concept_id[concept_id['tags'] == cui_code]['concepts'].values[0]"
   ]
  },
  {
   "cell_type": "markdown",
   "metadata": {},
   "source": [
    "* Which ones are the most frequent?\n",
    "***"
   ]
  },
  {
   "cell_type": "code",
   "execution_count": null,
   "metadata": {},
   "outputs": [],
   "source": [
    "### Let's count the frequency in the training set.\n",
    "array_of_all_train_tags = np.concatenate(train_tag_id['tags'].str.split(';').apply(lambda x: np.array(x)).values)\n",
    "count_array = Counter(array_of_all_train_tags)\n",
    "most_6 = count_array.most_common(6)\n",
    "print(\"The most Common TAG id's are:\")\n",
    "for tag, times in most_6:\n",
    "    print(\"CUI : {} | UMLS term : {} | Images: {}\".format(tag,cui_to_concept(tag),times))"
   ]
  },
  {
   "cell_type": "code",
   "execution_count": null,
   "metadata": {},
   "outputs": [],
   "source": [
    "### We find exactly tha same results as the authors made (page 3)"
   ]
  },
  {
   "cell_type": "code",
   "execution_count": null,
   "metadata": {},
   "outputs": [],
   "source": [
    "### Let's count the frequency in the validation set.\n",
    "array_of_all_val_tags = np.concatenate(val_tag_id['tags'].str.split(';').apply(lambda x: np.array(x)).values)\n",
    "count_array = Counter(array_of_all_val_tags)\n",
    "most_6 = count_array.most_common(6)\n",
    "print(\"The most Common TAG id's are:\")\n",
    "for tag, times in most_6:\n",
    "    print(\"CUI : {} | UMLS term : {} | Images: {}\".format(tag,cui_to_concept(tag),times))"
   ]
  },
  {
   "cell_type": "markdown",
   "metadata": {},
   "source": [
    "* How many tags are there per image?\n",
    "***"
   ]
  },
  {
   "cell_type": "code",
   "execution_count": null,
   "metadata": {},
   "outputs": [],
   "source": [
    "### Let's count the range of tags in the training set.\n",
    "array_of_train_tags_per_img = train_tag_id['tags'].str.split(';').apply(lambda x: len(x)).values"
   ]
  },
  {
   "cell_type": "code",
   "execution_count": null,
   "metadata": {},
   "outputs": [],
   "source": [
    "print(\"Minumum tags assigned per image: {}\".format(array_of_train_tags_per_img.min()))\n",
    "print(\"Maximum tags assigned per image: {}\".format(array_of_train_tags_per_img.max()))\n",
    "print(\"On average tags assigned per image: {}\".format(int(array_of_train_tags_per_img.mean())))"
   ]
  },
  {
   "cell_type": "code",
   "execution_count": null,
   "metadata": {},
   "outputs": [],
   "source": [
    "### Let's count the range of tags in the validation set.\n",
    "array_of_val_tags_per_img = val_tag_id['tags'].str.split(';').apply(lambda x: len(x)).values"
   ]
  },
  {
   "cell_type": "code",
   "execution_count": null,
   "metadata": {},
   "outputs": [],
   "source": [
    "print(\"Minumum tags assigned per image: {}\".format(array_of_val_tags_per_img.min()))\n",
    "print(\"Maximum tags assigned per image: {}\".format(array_of_val_tags_per_img.max()))\n",
    "print(\"On average tags assigned per image: {}\".format(int(array_of_val_tags_per_img.mean())))"
   ]
  },
  {
   "cell_type": "markdown",
   "metadata": {},
   "source": [
    "***"
   ]
  },
  {
   "cell_type": "markdown",
   "metadata": {},
   "source": [
    "## Data Preprocessing\n",
    "\n",
    "* Preprocess the images so that you can use them as input.\n",
    "\n",
    "* You may have to preprocess the labels as well."
   ]
  },
  {
   "cell_type": "code",
   "execution_count": null,
   "metadata": {},
   "outputs": [],
   "source": [
    "### The first step is to create a pandas dataframe that has at one column the image name .jpg and in another column the onehot encoded labels"
   ]
  },
  {
   "cell_type": "code",
   "execution_count": 6,
   "metadata": {},
   "outputs": [],
   "source": [
    "train_tag_id['tags'] = train_tag_id['tags'].str.split(';')\n",
    "train_tag_id['image'] = train_tag_id['image'] + '.jpg'\n",
    "\n",
    "\n",
    "val_tag_id['tags'] = val_tag_id['tags'].str.split(';')\n",
    "val_tag_id['image'] = val_tag_id['image'] + '.jpg'"
   ]
  },
  {
   "cell_type": "code",
   "execution_count": null,
   "metadata": {},
   "outputs": [],
   "source": [
    "### Note: We dont need to create and pass the labels from the UMLS terms, rather we can keep the CUI codes as labels.\n",
    "### Simply, we create a dictionary to reverse-engineer the predicted code into the UMLS term when needed. "
   ]
  },
  {
   "cell_type": "code",
   "execution_count": null,
   "metadata": {},
   "outputs": [],
   "source": [
    "tag_to_name_dict = concept_id.set_index('tags').to_dict()['concepts']"
   ]
  },
  {
   "cell_type": "code",
   "execution_count": null,
   "metadata": {},
   "outputs": [],
   "source": [
    "### Because the data could not fit in memory we will BATCH-PROCESS them using Keras Preprocessing Library."
   ]
  },
  {
   "cell_type": "code",
   "execution_count": null,
   "metadata": {},
   "outputs": [],
   "source": [
    "### First we create an Image Data Generator that will apply some transorfmations on the TRAIN images \n",
    "### in order to boost our network's robustness.\n",
    "datagen = ImageDataGenerator(\n",
    "    rotation_range=10,\n",
    "    width_shift_range=0.1,\n",
    "    height_shift_range=0.1,\n",
    "    zoom_range=0.1,\n",
    "    rescale=1./255.)\n",
    "\n",
    "### With this image generator we choose to load a batch of 12 images from our train directory.\n",
    "### Shuffle them for randomness.\n",
    "### Rescale them to 72 by 72.\n",
    "### And finally normalize them in the range 0-1.\n",
    "### Furthermore, we also convert the labels associated with each one to multilabel encoded format.\n",
    "\n",
    "train_datagen = datagen.flow_from_dataframe(\n",
    "dataframe=train_tag_id,\n",
    "directory=train_data_path,\n",
    "x_col=\"image\",\n",
    "y_col=\"tags\",\n",
    "batch_size=12,\n",
    "seed=1453,\n",
    "shuffle=True,\n",
    "class_mode=\"categorical\",\n",
    "classes= list(concept_id['tags'].unique()),\n",
    "target_size=(72,72))"
   ]
  },
  {
   "cell_type": "code",
   "execution_count": null,
   "metadata": {},
   "outputs": [],
   "source": [
    "### Our Train Data Generetor has the attributes __len__ and batch_size that we will use to get our images in batches as well as validate the number of batches we get.\n",
    "print(\"We will perform {} iterations of {} image preprocessing steps.\".format(train_datagen.__len__(), train_datagen.batch_size))"
   ]
  },
  {
   "cell_type": "code",
   "execution_count": null,
   "metadata": {},
   "outputs": [],
   "source": [
    "### Let's get the first batch and observe its type / size"
   ]
  },
  {
   "cell_type": "code",
   "execution_count": null,
   "metadata": {},
   "outputs": [],
   "source": [
    "print(\"Type: {}, Size: {}\".format(type(train_datagen[0]),len(train_datagen[0])))"
   ]
  },
  {
   "cell_type": "code",
   "execution_count": null,
   "metadata": {},
   "outputs": [],
   "source": [
    "### We can see that it is a tuple of (x_train, y_train) data. Let's see x_train data:"
   ]
  },
  {
   "cell_type": "code",
   "execution_count": null,
   "metadata": {},
   "outputs": [],
   "source": [
    "train_datagen[0][0].shape"
   ]
  },
  {
   "cell_type": "code",
   "execution_count": null,
   "metadata": {},
   "outputs": [],
   "source": [
    "### It contains 12 Images of 72 x 72 pixels and 3 color channels ( Channel Last Format ).\n",
    "### Now let's see y_train data."
   ]
  },
  {
   "cell_type": "code",
   "execution_count": null,
   "metadata": {},
   "outputs": [],
   "source": [
    "train_datagen[0][1].shape"
   ]
  },
  {
   "cell_type": "code",
   "execution_count": null,
   "metadata": {},
   "outputs": [],
   "source": [
    "### It contains 12 vectors of size 5528 with 1 at the position of the classes associated with each image and 0 elsewhere.\n",
    "### So with this approach we managed to preprocess both the image as well as the labels AND make them fit into memory."
   ]
  },
  {
   "cell_type": "code",
   "execution_count": 7,
   "metadata": {},
   "outputs": [
    {
     "name": "stdout",
     "output_type": "stream",
     "text": [
      "Found 14157 validated image filenames belonging to 5528 classes.\n"
     ]
    }
   ],
   "source": [
    "### Let's do the same with the validation data, only this time the only transformation needed is the rescaling.\n",
    "datagen2 = ImageDataGenerator(rescale=1./255.)\n",
    "\n",
    "\n",
    "val_datagen = datagen2.flow_from_dataframe(\n",
    "dataframe=val_tag_id,\n",
    "directory=validation_data_path,\n",
    "x_col=\"image\",\n",
    "y_col=\"tags\",\n",
    "batch_size=12,\n",
    "seed=1453,\n",
    "shuffle=False,\n",
    "class_mode=\"categorical\",\n",
    "classes= list(concept_id['tags'].unique()),\n",
    "target_size=(72,72))"
   ]
  },
  {
   "cell_type": "markdown",
   "metadata": {},
   "source": [
    "## Build a Baseline\n",
    "\n",
    "* Think of a baseline classifier that you could use to to measure your efforts.\n",
    "\n",
    "* That could be a classifier that produces always the most frequent labels.\n",
    "\n",
    "* Alternatively (and probably better), it could be a classifier that samples from the labels based on their frequency."
   ]
  },
  {
   "cell_type": "code",
   "execution_count": null,
   "metadata": {},
   "outputs": [],
   "source": [
    "### Let's Create 2 Classifiers. We only need the train_y and val_y arrays,\n",
    "### as the x_train and x_val data could not be used to adjust or tune any parameters in our dummy classifiers.\n",
    "### For this reason we dont need to preprocess the images, instead we can use a simpler method suitable only for our labels.\n",
    "\n",
    "\n",
    "mlb = MultiLabelBinarizer(classes=list(concept_id['tags'].unique()))\n",
    "train_y = mlb.fit_transform(train_tag_id['tags'].values)\n",
    "val_y = mlb.fit_transform(val_tag_id['tags'].values)"
   ]
  },
  {
   "cell_type": "markdown",
   "metadata": {},
   "source": [
    "### Dummy Most Frequent Classifier ###"
   ]
  },
  {
   "cell_type": "code",
   "execution_count": null,
   "metadata": {},
   "outputs": [],
   "source": [
    "dummy_clf = DummyClassifier()\n",
    "dummy_clf.fit(np.zeros(train_y.shape[0]),train_y)\n",
    "dummy_predictions = dummy_clf.predict(np.zeros(val_y.shape[0]))"
   ]
  },
  {
   "cell_type": "markdown",
   "metadata": {},
   "source": [
    "### Now lets create a classifier that samples from the lablels ###"
   ]
  },
  {
   "cell_type": "code",
   "execution_count": null,
   "metadata": {},
   "outputs": [],
   "source": [
    "class MySamplingClassifier:\n",
    "    \n",
    "    def __init__(self):\n",
    "        \"\"\"\n",
    "            Due to the fact that the 'Random Picking' is implemented with a\n",
    "            random uniform distribution, it is limited by a quantized lower bound on the probabilities it can \n",
    "            output.So some of the extremely low probabilities could not be achieved numerically.\n",
    "            Thus i chose to rescale all probabilities in a greater range\n",
    "            without harming the validity of the results.\n",
    "        \"\"\"\n",
    "        self.n_classes_ = None\n",
    "        self.freq_bins_ = None\n",
    "        self.rescale_factor = 1000 * 1000\n",
    "        return\n",
    "    \n",
    "    def fit(self,train_data):\n",
    "        self.n_classes_ = train_data.shape[1]\n",
    "        self.freq_bins_ = self.rescale_factor * (train_data.sum(axis=0) / train_data.shape[0])\n",
    "        \n",
    "    def predict_n_times(self,n):\n",
    "        prediction = np.empty((n, self.n_classes_))\n",
    "        for i in range(0,n):\n",
    "            rand = np.random.uniform(low=0.0, high=self.rescale_factor, size=(1,self.n_classes_))[0]\n",
    "            pred = np.less(rand,self.freq_bins_)\n",
    "            prediction[i] = pred\n",
    "        return prediction"
   ]
  },
  {
   "cell_type": "code",
   "execution_count": null,
   "metadata": {},
   "outputs": [],
   "source": [
    "scl = MySamplingClassifier()\n",
    "scl.fit(train_y)"
   ]
  },
  {
   "cell_type": "code",
   "execution_count": null,
   "metadata": {},
   "outputs": [],
   "source": [
    "prob_predictions = scl.predict_n_times(val_y.shape[0])"
   ]
  },
  {
   "cell_type": "markdown",
   "metadata": {},
   "source": [
    "### F1 Score Re-Implemented Here ###"
   ]
  },
  {
   "cell_type": "code",
   "execution_count": 8,
   "metadata": {},
   "outputs": [],
   "source": [
    "### After inspecting the python script of the competition we can reduce it to the following function\n",
    "\n",
    "def f1_score_calc(y_pred, y_true):\n",
    "    \n",
    "    ### Initialize Score ###\n",
    "    total_score = 0\n",
    "    ### Make Sure Data have the same Shape ###\n",
    "    assert y_pred.shape == y_true.shape\n",
    "    ### Initialize the number of eligible examples (examples with 0 classes in Ground Truth are ignored) ###\n",
    "    \n",
    "    eligible_examples = y_pred.shape[0]\n",
    "    \n",
    "    for idx in range(0,y_pred.shape[0]):\n",
    "        pred_slice = y_pred[idx]\n",
    "        true_slice = y_true[idx]\n",
    "        if true_slice.sum() == 0:\n",
    "            eligible_examples -= 1\n",
    "        else:\n",
    "            total_score += f1_score(y_true=true_slice, y_pred=pred_slice, average='binary')\n",
    "    \n",
    "    return total_score / eligible_examples\n",
    "        "
   ]
  },
  {
   "cell_type": "code",
   "execution_count": null,
   "metadata": {},
   "outputs": [],
   "source": [
    "### Let's see how the dummy classifier performs.\n",
    "f1_score_calc(y_pred=dummy_predictions, y_true=val_y)"
   ]
  },
  {
   "cell_type": "code",
   "execution_count": null,
   "metadata": {},
   "outputs": [],
   "source": [
    "### Let's see how the Frequency Based Sampling classifier performs.\n",
    "f1_score_calc(y_pred=prob_predictions, y_true=val_y)"
   ]
  },
  {
   "cell_type": "code",
   "execution_count": null,
   "metadata": {},
   "outputs": [],
   "source": [
    "### We dont observe any huge difference between the two methods ###"
   ]
  },
  {
   "cell_type": "markdown",
   "metadata": {},
   "source": [
    "## Build a Neural Network\n",
    "\n",
    "* Transfer Learning from DenseNet.\n",
    "* We will implement a Freeze - Warmup - ReTrain Schema by:\n",
    "    * Fine tuning only the last layer with an adaptive optimizer at a relatively high learning rate.\n",
    "    * Re-train only the convolutional network with our linear classifier frozen using a non-adaptive optimizer at lower momentum and low learning rate."
   ]
  },
  {
   "cell_type": "code",
   "execution_count": null,
   "metadata": {},
   "outputs": [],
   "source": [
    "### As a classic approach to transfer learning settings we will get a pretrained CNN and drop its last layer in order to fine tune it.\n",
    "### After reading the paper we decide to choose the pretrained DenseNet model that can be directly loaded from Keras.\n",
    "\n",
    "from tensorflow.keras.applications import DenseNet121 as DN\n",
    "\n",
    "\n",
    "### If the model named best_frozen_upper_model exists in the same directory skip this part and load the model instead, it is the model \n",
    "### i trained with the following algorithm.\n",
    "\n",
    "if os.path.isfile('./best_frozen_upper_model.h5'):\n",
    "    skip = True\n",
    "else:\n",
    "    skip = False"
   ]
  },
  {
   "cell_type": "code",
   "execution_count": null,
   "metadata": {},
   "outputs": [],
   "source": [
    "if not skip:\n",
    "    \n",
    "    ### Let's Create The Basis (DenseNet121) an perform the  freeze-warmup schema.\n",
    "    ### Get base model and repuropose(retrain) a new dense layer that will perform the multiclass classification.\n",
    "\n",
    "    base_model = DN(include_top=False, weights='imagenet', input_tensor=None, input_shape=(72,72,3), pooling='avg')\n",
    "\n",
    "    # Lets get the last layer of the base model\n",
    "    base_model_output = base_model.output\n",
    "\n",
    "    # let's add a fully-connected layer with sigmoid activtion function for multiclass classification.\n",
    "    n_output_classes = concept_id['tags'].unique().shape[0]\n",
    "    predictions = Dense(n_output_classes, activation='sigmoid')(base_model_output)\n",
    "\n",
    "    # Global Model = Base Model + New MultiClass Classifier \n",
    "    gmodel = Model(inputs=base_model.input, outputs=predictions)\n",
    "\n",
    "    # Freeze all convolutional DenseNet layers\n",
    "    for layer in base_model.layers:\n",
    "        layer.trainable = False\n",
    "\n",
    "    # Compile the model\n",
    "    gmodel.compile(Adam(lr=0.0001), loss=\"binary_crossentropy\", metrics=[\"mse\",\"accuracy\"])\n",
    "\n",
    "\n",
    "    # Train the model on the new data for a single epoch at small batch size (12)\n",
    "\n",
    "    Training_Steps =  train_datagen.n//train_datagen.batch_size\n",
    "    Validation_Steps = val_datagen.n//val_datagen.batch_size\n",
    "\n",
    "\n",
    "    ### Finally we will implement 2 Callbacks:\n",
    "    ### Early Stopping will stop training if the validation error starts rising, indicating overfit.\n",
    "    ### Model Checkpoint will save the best model up-to the current epoch. We will later load THAT model in order to\n",
    "    ### continue with the training schema.\n",
    "    \n",
    "    es = EarlyStopping(monitor='val_loss', mode='min', verbose=1, patience=2)\n",
    "    mc = ModelCheckpoint('best_frozen_upper_model.h5', monitor='val_loss', mode='min', verbose=1, save_best_only=True)\n",
    "\n",
    "\n",
    "    gmodel.fit_generator(generator=train_datagen,\n",
    "                        steps_per_epoch=Training_Steps,\n",
    "                        validation_data=val_datagen,\n",
    "                        validation_steps=Validation_Steps,\n",
    "                        epochs=10,\n",
    "                        callbacks = [es,mc]\n",
    "    )"
   ]
  },
  {
   "cell_type": "markdown",
   "metadata": {},
   "source": [
    "* Unfreezing and Retraining \n",
    "##### We load the best produced model so far and then we retrain following the 2nd step of our schema.\n",
    "##### We opt for a non adaptive optimizer with small learning rate in order to avoid the \"Catastrophic Forgetting\" Effect,\n",
    "##### that could possibly impede the already optimized kernels of our convnet instead of further fine tune them."
   ]
  },
  {
   "cell_type": "code",
   "execution_count": null,
   "metadata": {},
   "outputs": [],
   "source": [
    "### Again skip the following part if the produced final_model exists localy\n",
    "if os.path.isfile('./final_model.h5'):\n",
    "    skip = True\n",
    "else:\n",
    "    skip = False"
   ]
  },
  {
   "cell_type": "code",
   "execution_count": null,
   "metadata": {},
   "outputs": [],
   "source": [
    "if not skip:\n",
    "    ### If there is a hanging gmodel object delete it\n",
    "    try:\n",
    "        del gmodel\n",
    "    except:\n",
    "        pass\n",
    "    \n",
    "    ### Let's load the best model so far with the pretrained model frozen ###\n",
    "    gmodel = load_model('best_frozen_upper_model.h5')\n",
    "    ### Now lets unfreeze all the Convolutional Network but freeze our Classifier(last layer) at the end ###\n",
    "    for layer in gmodel.layers[:-1]:\n",
    "        layer.trainable = True\n",
    "    gmodel.layers[-1].trainable = False\n",
    "\n",
    "    ### Re-compile the model again ###\n",
    "    gmodel.compile(optimizer=RMSprop(lr=0.0001, momentum=0.9), loss='binary_crossentropy', metrics=[\"mse\",\"accuracy\"])\n",
    "    \n",
    "    Training_Steps =  train_datagen.n//train_datagen.batch_size\n",
    "    Validation_Steps = val_datagen.n//val_datagen.batch_size\n",
    "    \n",
    "    es = EarlyStopping(monitor='val_loss', mode='min', verbose=1, patience=2)\n",
    "    mc = ModelCheckpoint('final_model.h5', monitor='val_loss', mode='min', verbose=1, save_best_only=True)\n",
    "    \n",
    "    gmodel.fit_generator(generator=train_datagen,\n",
    "                    steps_per_epoch=Training_Steps,\n",
    "                    validation_data=val_datagen,\n",
    "                    validation_steps=Validation_Steps,\n",
    "                    epochs=10,\n",
    "                    callbacks = [es,mc]\n",
    ")"
   ]
  },
  {
   "cell_type": "markdown",
   "metadata": {},
   "source": [
    "## Assessment\n",
    "\n",
    "* For each validation image, measure the [F1 score](https://scikit-learn.org/stable/modules/generated/sklearn.metrics.f1_score.html) of the predicted tags. You can use the evaluation code of the competition, which can be found in the official site, in the Evaluation Methodology section of the [competition web page](https://www.imageclef.org/2019/medical/caption/). Actually that's probably the best course of action to avoid getting bogged down in differences in F1 score implementations.\n",
    "\n",
    "* Calculate the average for all the *validation* images."
   ]
  },
  {
   "cell_type": "code",
   "execution_count": 9,
   "metadata": {},
   "outputs": [],
   "source": [
    "final_model = load_model('final_model.h5')"
   ]
  },
  {
   "cell_type": "code",
   "execution_count": 10,
   "metadata": {},
   "outputs": [],
   "source": [
    "### Useful Functions Block ###"
   ]
  },
  {
   "cell_type": "code",
   "execution_count": 23,
   "metadata": {},
   "outputs": [],
   "source": [
    "def create_predictions(model, generator):\n",
    "    generator.reset()\n",
    "    raw_predictions = model.predict_generator(generator, len(generator))\n",
    "    return raw_predictions\n",
    "\n",
    "def create_result_files(filename, raw_predictions, generator, class_dict=None, threshold=None):\n",
    "    \n",
    "    ### If threshold is the default threshold set it to 0.16 ###\n",
    "    if threshold is None:\n",
    "        threshold = 0.16\n",
    "        \n",
    "    threshold = np.ones_like(raw_predictions) * threshold\n",
    "    boolean_results = np.greater(raw_predictions , threshold) * 1.0\n",
    "    \n",
    "    predictions = []\n",
    "    ### We need the dictionary mapping each class-name (CUI code) to the logit the generator has internally.\n",
    "    ### If the generator used to create the predictions is one of (train,validation) the class indicies can be\n",
    "    ### retrieved from the class attribute \"class_indicies\", else the class mapping needs to be passed explicitly\n",
    "    if class_dict is None:\n",
    "        labels = generator.class_indices\n",
    "    else:\n",
    "        labels = class_dict\n",
    "        \n",
    "    labels = dict((v,k) for k,v in labels.items())\n",
    "    for row in boolean_results:\n",
    "        l=[]\n",
    "        for index in np.nonzero(row)[0]:\n",
    "            l.append(labels[index])\n",
    "        predictions.append(\",\".join(l))\n",
    "        \n",
    "    filenames=generator.filenames\n",
    "\n",
    "    with open(filename, \"w\") as text_file:\n",
    "        for image, class_predictions in zip(filenames,predictions):\n",
    "            name = str(image).split('\\\\')[-1]\n",
    "            string_to_print = name +'\\t'+ \";\".join(class_predictions.split(','))\n",
    "            print(string_to_print, file=text_file)\n",
    "    return \n",
    "\n",
    "def convert_dataframe_to_one_hot(df,generator):\n",
    "    \"\"\"\n",
    "        Converts the label column of a dataframe according to\n",
    "        a generators inner mapping.\n",
    "    \"\"\"\n",
    "    labels = generator.class_indices\n",
    "    y_true_list = []\n",
    "    for row in df['tags'].values:\n",
    "        indicies = np.empty(len(row))\n",
    "        multi_hot = np.zeros(5528)\n",
    "        for idx, cui_code in enumerate(row):\n",
    "            multi_hot[int(labels[cui_code])] = 1\n",
    "        y_true_list.append(multi_hot)\n",
    "    y_true_validation = np.array(y_true_list)\n",
    "    return y_true_validation"
   ]
  },
  {
   "cell_type": "code",
   "execution_count": 12,
   "metadata": {},
   "outputs": [],
   "source": [
    "### Predict over the Validation Images ###\n",
    "raw_predictions_on_val_images = create_predictions(model=final_model, generator=val_datagen)"
   ]
  },
  {
   "cell_type": "code",
   "execution_count": 13,
   "metadata": {},
   "outputs": [],
   "source": [
    "### Get the real y_values ###"
   ]
  },
  {
   "cell_type": "code",
   "execution_count": 14,
   "metadata": {},
   "outputs": [],
   "source": [
    "y_true_validation = convert_dataframe_to_one_hot(df=val_tag_id, generator=val_datagen)"
   ]
  },
  {
   "cell_type": "markdown",
   "metadata": {},
   "source": [
    "### Grid Searching on Threshold Values ###"
   ]
  },
  {
   "cell_type": "markdown",
   "metadata": {},
   "source": [
    "### I performed the following Grid Searches:\n",
    "    * From 0 to 0.5 @ 0.1 step and got peak at 0.2\n",
    "    * From 0.1 to 0.2 @ 0.05 and got peak at 0.15\n",
    "    * So here i present the ultimate grid search"
   ]
  },
  {
   "cell_type": "code",
   "execution_count": 15,
   "metadata": {},
   "outputs": [],
   "source": [
    "t_list = np.arange(0.14, 0.18, 0.01)\n",
    "f1_score_list = []\n",
    "best_f_score = 0\n",
    "best_threshold = 0\n",
    "for t in t_list:\n",
    "    threshold = t\n",
    "    threshold = np.ones_like(raw_predictions_on_val_images) * threshold\n",
    "    boolean_results = np.greater(raw_predictions_on_val_images , threshold) * 1.0\n",
    "    f = f1_score_calc(y_pred = boolean_results, y_true = y_true_validation)\n",
    "    if f >= best_f_score:\n",
    "        best_f_score = f\n",
    "        best_threshold = t\n",
    "    f1_score_list.append(f)"
   ]
  },
  {
   "cell_type": "code",
   "execution_count": 16,
   "metadata": {},
   "outputs": [
    {
     "data": {
      "image/png": "[encoded data removed]",
      "text/plain": [
       "<Figure size 648x720 with 1 Axes>"
      ]
     },
     "metadata": {},
     "output_type": "display_data"
    }
   ],
   "source": [
    "import seaborn as sns\n",
    "sns.set_style('darkgrid')\n",
    "plt.figure(figsize=(9, 10))\n",
    "plt.ylabel('F1 Score')\n",
    "plt.xlabel('Global Sigmoid Threshold')\n",
    "plt.axhline(y=best_f_score, linestyle=':', linewidth=2, color ='r')\n",
    "plt.axvline(x=best_threshold, alpha=0.6, linewidth=1, color='r')\n",
    "plt.plot(t_list, f1_score_list)\n",
    "plt.savefig('Grid_Search_on_Validation.jpg')\n",
    "plt.show()\n",
    "plt.close()"
   ]
  },
  {
   "cell_type": "code",
   "execution_count": 19,
   "metadata": {},
   "outputs": [
    {
     "name": "stdout",
     "output_type": "stream",
     "text": [
      "Best F1 Score on Validation Dataset: 0.2347 @ 0.15000000000000002 threshold\n"
     ]
    }
   ],
   "source": [
    "print(\"Best F1 Score on Validation Dataset: {} @ {} threshold\".format(round(best_f_score,5), best_threshold))"
   ]
  },
  {
   "cell_type": "code",
   "execution_count": 21,
   "metadata": {},
   "outputs": [],
   "source": [
    "### We found that the best F1 Score on Validation Dataset is 0.23475 at a threshold of 0.15 ###\n",
    "### Now let's leave the result file for the validation images ###"
   ]
  },
  {
   "cell_type": "code",
   "execution_count": 24,
   "metadata": {},
   "outputs": [],
   "source": [
    "### Create the Result File for Validation Images ###\n",
    "create_result_files(filename='final_val_results.txt', raw_predictions=raw_predictions_on_val_images, generator=val_datagen, class_dict=val_datagen.class_indices, threshold=0.15)"
   ]
  },
  {
   "cell_type": "code",
   "execution_count": 30,
   "metadata": {},
   "outputs": [],
   "source": [
    "### Let's Create the GT File ###\n",
    "def create_gt_file(gt_df,filename='gt_val.txt'):\n",
    "    filenames = gt_df['image'].values\n",
    "    gt = gt_df['tags'].values\n",
    "    with open(filename, \"w\") as text_file:\n",
    "        for image, ground_truth in zip(filenames,gt):\n",
    "            name = str(image)\n",
    "            string_to_print = name +'\\t'+ \";\".join(ground_truth)\n",
    "            print(string_to_print, file=text_file)\n",
    "    return "
   ]
  },
  {
   "cell_type": "code",
   "execution_count": 31,
   "metadata": {},
   "outputs": [],
   "source": [
    "create_gt_file(gt_df=val_tag_id)"
   ]
  },
  {
   "cell_type": "code",
   "execution_count": 32,
   "metadata": {},
   "outputs": [],
   "source": [
    "### Let's Run the Competition's Evaluation File ###"
   ]
  },
  {
   "cell_type": "code",
   "execution_count": 37,
   "metadata": {},
   "outputs": [
    {
     "name": "stdout",
     "output_type": "stream",
     "text": [
      "Input parameters\n",
      "********************************\n",
      "Candidate file is \"final_val_results.txt\"\n",
      "Ground Truth file is \"gt_val.txt\"\n",
      "Processing concept sets...\n",
      "********************************\n",
      "1000 / 14157  concept sets processed...\n",
      "2000 / 14157  concept sets processed...\n",
      "3000 / 14157  concept sets processed...\n",
      "4000 / 14157  concept sets processed...\n",
      "5000 / 14157  concept sets processed...\n",
      "6000 / 14157  concept sets processed...\n",
      "7000 / 14157  concept sets processed...\n",
      "8000 / 14157  concept sets processed...\n",
      "9000 / 14157  concept sets processed...\n",
      "10000 / 14157  concept sets processed...\n",
      "11000 / 14157  concept sets processed...\n",
      "12000 / 14157  concept sets processed...\n",
      "13000 / 14157  concept sets processed...\n",
      "14000 / 14157  concept sets processed...\n",
      "Concept statistics\n",
      "********************************\n",
      "Number of concepts distribution\n",
      "1 : 1037\n",
      "2 : 1387\n",
      "3 : 1615\n",
      "4 : 1683\n",
      "5 : 1626\n",
      "6 : 1371\n",
      "7 : 1242\n",
      "8 : 943\n",
      "9 : 794\n",
      "10 : 632\n",
      "11 : 456\n",
      "12 : 340\n",
      "13 : 275\n",
      "14 : 208\n",
      "15 : 136\n",
      "16 : 136\n",
      "17 : 64\n",
      "18 : 50\n",
      "19 : 36\n",
      "20 : 24\n",
      "21 : 24\n",
      "22 : 17\n",
      "23 : 17\n",
      "24 : 13\n",
      "25 : 7\n",
      "26 : 4\n",
      "27 : 9\n",
      "28 : 4\n",
      "29 : 2\n",
      "31 : 1\n",
      "33 : 1\n",
      "40 : 1\n",
      "74 : 1\n",
      "77 : 1\n",
      "Least concepts in set : 1\n",
      "Most concepts in set : 77\n",
      "Average concepts in set : 6.140213322031504\n",
      "Final result\n",
      "********************************\n",
      "Obtained score : 3322.707875229037 / 14157\n",
      "Mean score over all concept sets : 0.23470423643632388\n"
     ]
    }
   ],
   "source": [
    "!python evaluate-f1.py final_val_results.txt gt_val.txt"
   ]
  },
  {
   "cell_type": "markdown",
   "metadata": {},
   "source": [
    "* After finessing your model on the validation images, you will use it on the test images."
   ]
  },
  {
   "cell_type": "code",
   "execution_count": null,
   "metadata": {},
   "outputs": [],
   "source": [
    "### Perform the same for Test Images ###\n",
    "### We created a dummy folder named dummy class in order for this to work ###"
   ]
  },
  {
   "cell_type": "code",
   "execution_count": null,
   "metadata": {},
   "outputs": [],
   "source": [
    "datagen3 = ImageDataGenerator(rescale=1./255.)\n",
    "\n",
    "final_generator = datagen3.flow_from_directory(directory=test_data_path,\n",
    "                  target_size=(72,72),\n",
    "                  classes=None,\n",
    "                  batch_size=10,\n",
    "                  shuffle=False,\n",
    "                  seed=1453)"
   ]
  },
  {
   "cell_type": "code",
   "execution_count": null,
   "metadata": {},
   "outputs": [],
   "source": [
    "### Predict over the Test Images ###\n",
    "final_generator.reset()\n",
    "raw_predictions_on_test_images = create_predictions(model=final_model, generator=final_generator)"
   ]
  },
  {
   "cell_type": "code",
   "execution_count": null,
   "metadata": {},
   "outputs": [],
   "source": [
    "### Create the Result File for Test Images ###\n",
    "create_result_files(filename='final_test_results.txt', raw_predictions=raw_predictions_on_test_images, generator=final_generator, class_dict=val_datagen.class_indices, threshold=0.15)"
   ]
  }
 ],
 "metadata": {
  "kernelspec": {
   "display_name": "TF2 GPU",
   "language": "python",
   "name": "tf2_gpu"
  },
  "language_info": {
   "codemirror_mode": {
    "name": "ipython",
    "version": 3
   },
   "file_extension": ".py",
   "mimetype": "text/x-python",
   "name": "python",
   "nbconvert_exporter": "python",
   "pygments_lexer": "ipython3",
   "version": "3.6.9"
  }
 },
 "nbformat": 4,
 "nbformat_minor": 2
}
