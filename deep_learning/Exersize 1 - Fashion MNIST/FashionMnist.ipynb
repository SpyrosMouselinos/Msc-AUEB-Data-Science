{
  "nbformat": 4,
  "nbformat_minor": 0,
  "metadata": {
    "kernelspec": {
      "name": "python3",
      "display_name": "Python 3"
    },
    "language_info": {
      "codemirror_mode": {
        "name": "ipython",
        "version": 3
      },
      "file_extension": ".py",
      "mimetype": "text/x-python",
      "name": "python",
      "nbconvert_exporter": "python",
      "pygments_lexer": "ipython3",
      "version": "3.6.7"
    },
    "colab": {
      "name": "FashionMnist.ipynb",
      "provenance": [],
      "collapsed_sections": [
        "v7yzbpDTlYAH"
      ],
      "toc_visible": true
    },
    "accelerator": "GPU"
  },
  "cells": [
    {
      "cell_type": "markdown",
      "metadata": {
        "id": "ln9wAMQCYc6W"
      },
      "source": [
        "### DeepLearning AUEB Course\n",
        "#### Mouselinos Spyridon - Assignment 1\n",
        "#### Fashion-MNIST\n",
        "***"
      ]
    },
    {
      "cell_type": "code",
      "metadata": {
        "id": "oK_3WAoJgZfg"
      },
      "source": [
        "# from google.colab import drive\n",
        "# drive.mount('/content/drive')"
      ],
      "execution_count": null,
      "outputs": []
    },
    {
      "cell_type": "markdown",
      "metadata": {
        "id": "z05CjAUBMKMH"
      },
      "source": [
        "#### Upgrade Sci-Kit Learn\n",
        "***"
      ]
    },
    {
      "cell_type": "code",
      "metadata": {
        "id": "3p4t6_9xMCcz",
        "colab": {
          "base_uri": "https://localhost:8080/"
        },
        "outputId": "de76e415-2a5d-4e6b-af16-54cece49dcb7"
      },
      "source": [
        "!pip install --upgrade scikit-learn"
      ],
      "execution_count": null,
      "outputs": [
        {
          "output_type": "stream",
          "text": [
            "Collecting scikit-learn\n",
            "\u001b[?25l  Downloading https://files.pythonhosted.org/packages/f3/74/eb899f41d55f957e2591cde5528e75871f817d9fb46d4732423ecaca736d/scikit_learn-0.24.1-cp37-cp37m-manylinux2010_x86_64.whl (22.3MB)\n",
            "\u001b[K     |████████████████████████████████| 22.3MB 1.7MB/s \n",
            "\u001b[?25hRequirement already satisfied, skipping upgrade: scipy>=0.19.1 in /usr/local/lib/python3.7/dist-packages (from scikit-learn) (1.4.1)\n",
            "Collecting threadpoolctl>=2.0.0\n",
            "  Downloading https://files.pythonhosted.org/packages/f7/12/ec3f2e203afa394a149911729357aa48affc59c20e2c1c8297a60f33f133/threadpoolctl-2.1.0-py3-none-any.whl\n",
            "Requirement already satisfied, skipping upgrade: numpy>=1.13.3 in /usr/local/lib/python3.7/dist-packages (from scikit-learn) (1.19.5)\n",
            "Requirement already satisfied, skipping upgrade: joblib>=0.11 in /usr/local/lib/python3.7/dist-packages (from scikit-learn) (1.0.1)\n",
            "Installing collected packages: threadpoolctl, scikit-learn\n",
            "  Found existing installation: scikit-learn 0.22.2.post1\n",
            "    Uninstalling scikit-learn-0.22.2.post1:\n",
            "      Successfully uninstalled scikit-learn-0.22.2.post1\n",
            "Successfully installed scikit-learn-0.24.1 threadpoolctl-2.1.0\n"
          ],
          "name": "stdout"
        }
      ]
    },
    {
      "cell_type": "markdown",
      "metadata": {
        "id": "IeUMW1NJanO2"
      },
      "source": [
        "### Imports"
      ]
    },
    {
      "cell_type": "code",
      "metadata": {
        "id": "lQG92rUZanO5"
      },
      "source": [
        "### Deep Learning\n",
        "import os\n",
        "import tensorflow as tf\n",
        "from tensorflow.keras.datasets import fashion_mnist\n",
        "from tensorflow.keras.callbacks import EarlyStopping, ReduceLROnPlateau\n",
        "from tensorflow.keras.layers import *\n",
        "from tensorflow.keras.layers.experimental.preprocessing import *\n",
        "from tensorflow.keras.models import Model, Sequential\n",
        "from tensorflow.keras.metrics import CategoricalAccuracy, TopKCategoricalAccuracy\n",
        "from tensorflow.keras.optimizers import Adam, SGD\n",
        "from tensorflow.keras.optimizers.schedules import ExponentialDecay\n",
        "from tensorflow.keras.utils import to_categorical\n",
        "from tensorflow.random import set_seed\n",
        "\n",
        "\n",
        "### Arithmetic\n",
        "import numpy as np\n",
        "import pandas as pd\n",
        "from sklearn.metrics import f1_score\n",
        "from sklearn.metrics import accuracy_score\n",
        "from sklearn.metrics import top_k_accuracy_score\n",
        "from sklearn.model_selection import train_test_split\n",
        "from sklearn.metrics import confusion_matrix\n",
        "\n",
        "### Visuals\n",
        "import matplotlib.pyplot as plt\n",
        "import seaborn as sns\n",
        "#%matplotlib inline\n",
        "sns.set_style('darkgrid')"
      ],
      "execution_count": null,
      "outputs": []
    },
    {
      "cell_type": "code",
      "metadata": {
        "id": "g4iB0rf5e-bu"
      },
      "source": [
        "np.random.seed(666) \n",
        "set_seed(666)"
      ],
      "execution_count": null,
      "outputs": []
    },
    {
      "cell_type": "markdown",
      "metadata": {
        "id": "OlXgnGvnanO-"
      },
      "source": [
        "### Exersize Description\n",
        "\n",
        "**Task**: Given an image of a clothing item classify its category\n",
        "\n",
        "**Data**:\n",
        "- The data are grayscale 28*28 images of clothes\n",
        "\n",
        "**Approaches**\n",
        "- According to the exersize the first approach would be to use MLP's (FFN) to classify the images.\n",
        "- The second approach would be using a CNN for the same task.\n",
        "\n",
        "\n",
        "**Preprocessing**\n",
        "- Images will be normalized into a [0,1] or Zeta scale.\n",
        "- The effect of image augmentations will be tested as well.\n",
        "\n"
      ]
    },
    {
      "cell_type": "markdown",
      "metadata": {
        "id": "qQl7HIgbblSR"
      },
      "source": [
        "### Data Preprocessing\n",
        "***"
      ]
    },
    {
      "cell_type": "code",
      "metadata": {
        "id": "kSqbC36acYOx"
      },
      "source": [
        "def translate(item):\n",
        "  __translation = {\n",
        "      0:  'T-shirt/top',\n",
        "      1:\t'Trouser',\n",
        "      2:\t'Pullover',\n",
        "      3:\t'Dress',\n",
        "      4:\t'Coat',\n",
        "      5:\t'Sandal',\n",
        "      6:\t'Shirt',\n",
        "      7:\t'Sneaker',\n",
        "      8:\t'Bag',\n",
        "      9:\t'Ankle boot'\n",
        "  }\n",
        "  if isinstance(item, int):\n",
        "    return __translation[item]\n",
        "  elif isinstance(item, float):\n",
        "    return __translation[int(item)]\n",
        "  elif isinstance(item, str):\n",
        "    return __translation[int(item)]\n",
        "  else:\n",
        "    raise ValueError(\"This Value is not a valid Index\")\n",
        "  return"
      ],
      "execution_count": null,
      "outputs": []
    },
    {
      "cell_type": "code",
      "metadata": {
        "id": "bJIYbXmabnsB"
      },
      "source": [
        "def get_data(normalization, validation_split):\n",
        "  \"\"\"\n",
        "    Returns the Fashion-Mnist dataset without any augmentation.\n",
        "  \"\"\"\n",
        "  classes = 10\n",
        "  (X_train, y_train), (X_test, y_test) = fashion_mnist.load_data()\n",
        "  X_train = X_train.astype('float32')\n",
        "  X_test = X_test.astype('float32')\n",
        "  if normalization == 'minmax':\n",
        "    X_train /= 255\n",
        "    X_test /= 255\n",
        "  elif normalization == 'zeta':\n",
        "    _mean = X_train.mean()\n",
        "    _std = X_train.std()\n",
        "    X_train = (X_train - _mean) / _std\n",
        "    X_test = (X_test - _mean) / _std\n",
        "  \n",
        "  # Perform Stratified Split for Validation Set\n",
        "  X_train, X_val, y_train, y_val = train_test_split(X_train, y_train,\n",
        "                                                    stratify=y_train, \n",
        "                                                    test_size=validation_split, random_state=666)\n",
        "  Y_train = to_categorical(y_train, classes)\n",
        "  Y_val = to_categorical(y_val, classes)\n",
        "  Y_test = to_categorical(y_test, classes)\n",
        "  return X_train, Y_train, X_test, Y_test, X_val, Y_val"
      ],
      "execution_count": null,
      "outputs": []
    },
    {
      "cell_type": "markdown",
      "metadata": {
        "id": "vvRP0bvTJ72_"
      },
      "source": [
        "### Visualization of Data in MinMax\n",
        "***"
      ]
    },
    {
      "cell_type": "code",
      "metadata": {
        "id": "BCOIi78AKJnV"
      },
      "source": [
        "_, _, Sample_Images, Sample_Labels, _, _ = get_data(normalization='minmax',validation_split=0.2)"
      ],
      "execution_count": null,
      "outputs": []
    },
    {
      "cell_type": "code",
      "metadata": {
        "id": "5TUK3B9cJ-3V"
      },
      "source": [
        "plt.figure(figsize=(10, 10))\n",
        "for i in range(36):\n",
        "    plt.subplot(6, 6, i + 1)\n",
        "    plt.xticks([])\n",
        "    plt.yticks([])\n",
        "    plt.grid(False)\n",
        "    plt.imshow(Sample_Images[i].reshape((28,28))) \n",
        "    label_index = int(np.argmax(Sample_Labels[i]))\n",
        "    plt.title(translate(label_index))\n",
        "plt.show()"
      ],
      "execution_count": null,
      "outputs": []
    },
    {
      "cell_type": "markdown",
      "metadata": {
        "id": "07belyN7Nu9R"
      },
      "source": [
        "### Visualization of Data in Zeta\n",
        "***"
      ]
    },
    {
      "cell_type": "code",
      "metadata": {
        "id": "WDvtMPh7NrMy"
      },
      "source": [
        "_, _, Sample_Images, Sample_Labels, _, _ = get_data(normalization='zeta',validation_split=0.2)"
      ],
      "execution_count": null,
      "outputs": []
    },
    {
      "cell_type": "code",
      "metadata": {
        "id": "8Mpq3fW1N0Vr"
      },
      "source": [
        "plt.figure(figsize=(10, 10))\n",
        "for i in range(36):\n",
        "    plt.subplot(6, 6, i + 1)\n",
        "    plt.xticks([])\n",
        "    plt.yticks([])\n",
        "    plt.grid(False)\n",
        "    plt.imshow(Sample_Images[i].reshape((28,28))) \n",
        "    label_index = int(np.argmax(Sample_Labels[i]))\n",
        "    plt.title(translate(label_index))\n",
        "plt.show()"
      ],
      "execution_count": null,
      "outputs": []
    },
    {
      "cell_type": "markdown",
      "metadata": {
        "id": "m5TGh0jDbYRq"
      },
      "source": [
        "### Approach 1: FeedForward Network (MLP's)\n",
        "***"
      ]
    },
    {
      "cell_type": "code",
      "metadata": {
        "id": "V25UEiH_bfUR"
      },
      "source": [
        "def create_ffn(name, hidden_layers, activation, dropout_rate, batchnorm_use, input_shape, classes, optimizer):\n",
        "  \"\"\"\n",
        "    Creates a simple FFN\n",
        "    //args\n",
        "    name: The models name\n",
        "    hidden_layers:     A list containing the units per layer.\n",
        "    activation:        The type of activation between layers.\n",
        "    dropout_rate:      A list containing the rate of dropout between layers.\n",
        "    batchnorm_use:     A list containing whether to use BatchNormalization between layers.\n",
        "  \"\"\"\n",
        "  image_input = Input(name='Image_Input_Layer', shape=input_shape)\n",
        "  x = Flatten(name='Flattened_Image_Input')(image_input)\n",
        "\n",
        "  for i, units in enumerate(hidden_layers):\n",
        "      x = Dense(\n",
        "          units=units,\n",
        "          kernel_initializer='glorot_uniform',\n",
        "          use_bias = not(batchnorm_use[i]), #Tip by Andrej Karpathy\n",
        "          name='Hidden-{0:d}'.format(i + 1)\n",
        "      )(x)\n",
        "      if batchnorm_use[i]:\n",
        "        x = BatchNormalization(name='BN-{0:d}'.format(i + 1))(x)\n",
        "      \n",
        "      x  = Activation(activation, name='Activation-{0:d}'.format(i + 1))(x)\n",
        "\n",
        "      if dropout_rate[i] > 0:\n",
        "        x = Dropout(rate=dropout_rate[i], name='Dropout-{0:d}'.format(i + 1))(x)\n",
        "\n",
        "\n",
        "  # Define the output layer.\n",
        "  output = Dense(\n",
        "      units=classes,\n",
        "      activation='softmax',\n",
        "      name='Output'\n",
        "  )(x)\n",
        "\n",
        "  # Define the model and train it.\n",
        "  model = Model(inputs=image_input, outputs=output)\n",
        "  # Get Optimizer Configuration\n",
        "  optimizer_name = optimizer['name']\n",
        "  if optimizer_name == 'Adam':\n",
        "    optimizer_cls = Adam(lr=optimizer['lr'])\n",
        "  elif optimizer_name == 'SGD':\n",
        "    optimizer_cls = SGD(learning_rate=optimizer['lr'], momentum=optimizer['momentum'])\n",
        "  else:\n",
        "    raise NotImplementedError(\"I have not included another optimizer yet :(\\n\")\n",
        "  model.compile(optimizer=optimizer_cls, loss='categorical_crossentropy', metrics=[CategoricalAccuracy(), TopKCategoricalAccuracy(k=3)])\n",
        "  return model"
      ],
      "execution_count": null,
      "outputs": []
    },
    {
      "cell_type": "markdown",
      "metadata": {
        "id": "ZRCb3xWelIvY"
      },
      "source": [
        "### Approach 2: Convolutional Neural Networks (CNN)\n",
        "***"
      ]
    },
    {
      "cell_type": "code",
      "metadata": {
        "id": "DHxVhAwYlOaD"
      },
      "source": [
        "def create_cnn(name, conv_layers, conv_activation, conv_dropout_rate, conv_batchnorm_use, pooling_layers,\n",
        "               hidden_layers, hidden_activation, hidden_dropout_rate, hidden_batchnorm_use,\n",
        "               input_shape, classes, optimizer, use_augmentation=False):\n",
        "  \"\"\"\n",
        "    Creates a simple CNN\n",
        "    //args\n",
        "    name: The models name\n",
        "    conv_layers:         A list containing the convolution characteristics per conv layer.\n",
        "    conv_activation:     The type of activation between convolutional layers.\n",
        "    conv_dropout_rate:   The type of dropout between convolutional layers.\n",
        "    conv_batchnorm_use:  A list containing whether to use BatchNormalization between convolutional layers.\n",
        "    pooling_layers       A list containing the poolling characteristics between conv layers.\n",
        "\n",
        "    hidden_layers:       A list containing the units per hidden dense layer.\n",
        "    hidden_activation:   The type of activation between hidden dense layers.\n",
        "    dropout_rate:        A list containing the rate of dropout between hidden dense layers.\n",
        "    batchnorm_use:       A list containing whether to use BatchNormalization between hidden dense layers.\n",
        "    use_augmentation: Whether to use an augmentation layer in the network.\n",
        "  \"\"\"\n",
        "  image_input = Input(name='Image_Input_Layer', shape=input_shape)\n",
        "\n",
        "  if use_augmentation is False:\n",
        "    # Do nothing\n",
        "    x = image_input\n",
        "  else:\n",
        "    # Create a small augmentation network to build uppon\n",
        "    x = RandomFlip(\"horizontal\")(image_input) \n",
        "    x = RandomRotation(factor=0.02)(x) # -+ 7 degrees\n",
        "    x = RandomZoom(height_factor=0.1, width_factor=0.1)(x) # -+ 10% Zoom in Both Directions\n",
        "\n",
        "  #------------------------#\n",
        "  ### Convolutional Part ###\n",
        "  #------------------------#\n",
        "  for i, configs in enumerate(conv_layers):\n",
        "      x = Conv2D(\n",
        "          filters = configs['filters'],\n",
        "          kernel_size = configs['kernel_size'] if 'kernel_size' in configs else 3,\n",
        "          strides = configs['strides'] if 'strides' in configs else (1,1),\n",
        "          kernel_initializer='glorot_uniform',\n",
        "          use_bias = not(conv_batchnorm_use[i]), #Tip by Andrej Karpathy\n",
        "          name='Conv-{0:d}'.format(i + 1)\n",
        "      )(x)\n",
        "      if conv_batchnorm_use[i]:\n",
        "        x = BatchNormalization(name='Conv-BN-{0:d}'.format(i + 1))(x)\n",
        "      \n",
        "      x  = Activation(conv_activation, name='Conv-Activation-{0:d}'.format(i + 1))(x)\n",
        "\n",
        "      if conv_dropout_rate[i] > 0:\n",
        "        x = Dropout(rate=conv_dropout_rate[i], name='Conv-Dropout-{0:d}'.format(i + 1))(x)\n",
        "\n",
        "      if pooling_layers[i] is not None:\n",
        "        config = pooling_layers[i]\n",
        "        pooling_type = config['type']\n",
        "        if pooling_type == 'max':\n",
        "          x = MaxPooling2D(pool_size=config['pool_size'])(x)\n",
        "        elif pooling_type == 'avg':\n",
        "          x = AveragePooling2D(pool_size=config['pool_size'])(x)\n",
        "        else:\n",
        "          raise NotImplementedError(\"I have not included another Pooling Option :(\\n\")\n",
        "\n",
        "  if len(hidden_layers) > 0:\n",
        "    x = Flatten(name='Flatten_to_FFN')(x)\n",
        "\n",
        "  #--------------#\n",
        "  ### FFN Part ###\n",
        "  #--------------#\n",
        "  for i, units in enumerate(hidden_layers):\n",
        "      x = Dense(\n",
        "          units=units,\n",
        "          kernel_initializer='glorot_uniform',\n",
        "          use_bias = not(hidden_batchnorm_use[i]), #Tip by Andrej Karpathy\n",
        "          name='Hidden-{0:d}'.format(i + 1)\n",
        "      )(x)\n",
        "      if hidden_batchnorm_use[i]:\n",
        "        x = BatchNormalization(name='BN-{0:d}'.format(i + 1))(x)\n",
        "      \n",
        "      x  = Activation(hidden_activation, name='Activation-{0:d}'.format(i + 1))(x)\n",
        "\n",
        "      if hidden_dropout_rate[i] > 0:\n",
        "        x = Dropout(rate=hidden_dropout_rate[i], name='Dropout-{0:d}'.format(i + 1))(x)\n",
        "\n",
        "  # Define the output layer.\n",
        "  output = Dense(\n",
        "      units=classes,\n",
        "      activation='softmax',\n",
        "      name='Output'\n",
        "  )(x)\n",
        "\n",
        "  # Define the model and train it.\n",
        "  model = Model(inputs=image_input, outputs=output)\n",
        "  # Get Optimizer Configuration\n",
        "  optimizer_name = optimizer['name']\n",
        "\n",
        "  if optimizer_name == 'Adam':\n",
        "    optimizer_cls = Adam(learning_rate=optimizer['lr'])\n",
        "\n",
        "  elif optimizer_name == 'SGD':\n",
        "    optimizer_cls = SGD(learning_rate=optimizer['lr'], momentum=optimizer['momentum'])\n",
        "\n",
        "  else:\n",
        "    raise NotImplementedError(\"I have not included another optimizer yet :(\\n\")\n",
        "  model.compile(optimizer=optimizer_cls, loss='categorical_crossentropy', metrics=[CategoricalAccuracy(), TopKCategoricalAccuracy(k=3)])\n",
        "  return model"
      ],
      "execution_count": null,
      "outputs": []
    },
    {
      "cell_type": "markdown",
      "metadata": {
        "id": "dgX_V_NylEXz"
      },
      "source": [
        "### Fitting A Model\n",
        "***"
      ]
    },
    {
      "cell_type": "code",
      "metadata": {
        "id": "bcQ3L5yMlD2F"
      },
      "source": [
        "def fit_a_model(model, train_data, val_data):\n",
        "  \"\"\"\n",
        "    Performs training of a Model on the Fashion Mnist data\n",
        "    //args\n",
        "    save: If true saves the model for future reference\n",
        "  \"\"\"\n",
        "  \n",
        "  es = EarlyStopping(\n",
        "      monitor='val_categorical_accuracy',\n",
        "      patience=15,\n",
        "      verbose=1,\n",
        "      restore_best_weights=True\n",
        "  )\n",
        "\n",
        "  rs = ReduceLROnPlateau(\n",
        "      factor = 0.5,\n",
        "      monitor='val_loss',\n",
        "      patience=10,\n",
        "      verbose=1,\n",
        "      min_delta=0.001,\n",
        "      min_lr = 1e-7\n",
        "  )\n",
        "\n",
        "  callbacks = [es,rs]\n",
        "  history  =  model.fit(train_data[0],train_data[1], batch_size=256, epochs=300, validation_data=(val_data[0],val_data[1]), callbacks=callbacks, verbose=2)\n",
        "  return history, model  "
      ],
      "execution_count": null,
      "outputs": []
    },
    {
      "cell_type": "markdown",
      "metadata": {
        "id": "fAjQ-DAeI7gi"
      },
      "source": [
        "### Testing a Model"
      ]
    },
    {
      "cell_type": "code",
      "metadata": {
        "id": "1uto1eLMI-c5"
      },
      "source": [
        "def test_a_model(model, test_data):\n",
        "  \"\"\"\n",
        "    Performs testing of a Model on the Fashion Mnist data\n",
        "    //args\n",
        "  \"\"\"\n",
        "  predictions = model.predict(test_data[0])\n",
        "  real_targets = test_data[1]\n",
        "\n",
        "  # Let's Calculate some Metrics of Interest\n",
        "  # Accuracy\n",
        "  accuracy = top_k_accuracy_score(np.argmax(real_targets, axis=1), predictions, k=1)\n",
        "\n",
        "  # Top-3 Accuracy\n",
        "  top3accuracy =  top_k_accuracy_score(np.argmax(real_targets, axis=1), predictions, k=3)\n",
        "\n",
        "  #F1-score \n",
        "  f1 = f1_score(np.argmax(real_targets, axis=1), np.argmax(predictions, axis=1), average='weighted')\n",
        "\n",
        "  return accuracy, top3accuracy, f1"
      ],
      "execution_count": null,
      "outputs": []
    },
    {
      "cell_type": "markdown",
      "metadata": {
        "id": "j4YuxiLsanPC"
      },
      "source": [
        "### Plotting results"
      ]
    },
    {
      "cell_type": "code",
      "metadata": {
        "id": "2JPXqy2JanPC"
      },
      "source": [
        "def plot_history(hs, epochs, metric, save_folder):\n",
        "    plt.style.use('dark_background')\n",
        "    plt.rcParams['figure.figsize'] = [15, 8]\n",
        "    plt.rcParams['font.size'] = 16\n",
        "    plt.clf()\n",
        "    n_labels = len(hs)\n",
        "    for label in hs:\n",
        "      if n_labels < 2:\n",
        "        plt.plot(hs[label].history[metric], label='{0:s} train {1:s}'.format(label, metric), linewidth=2)\n",
        "        plt.plot(hs[label].history['val_{0:s}'.format(metric)], label='{0:s} validation {1:s}'.format(label, metric), linewidth=2)\n",
        "      else:\n",
        "        plt.plot(hs[label].history['val_{0:s}'.format(metric)], label='{0:s} validation {1:s}'.format(label, metric), linewidth=2)\n",
        "    x_ticks = np.arange(0, epochs + 1, epochs / 10)\n",
        "    x_ticks [0] += 1\n",
        "    plt.xticks(x_ticks)\n",
        "    plt.ylim((0, 5))\n",
        "    plt.xlabel('Epochs')\n",
        "    plt.ylabel('Loss' if metric=='loss' else 'Accuracy')\n",
        "    plt.legend(loc=2, prop={'size': 10})\n",
        "    plt.savefig(save_folder)\n",
        "    plt.show()\n",
        "    plt.close()"
      ],
      "execution_count": null,
      "outputs": []
    },
    {
      "cell_type": "markdown",
      "metadata": {
        "id": "H2aiT_k4X4Jf"
      },
      "source": [
        "### Saving Result Metrics"
      ]
    },
    {
      "cell_type": "code",
      "metadata": {
        "id": "PVJaNBXOX7kC"
      },
      "source": [
        "def save_results(results, save_folder):\n",
        "  with open(save_folder, 'w') as fout:\n",
        "    fout.write(\"Accuracy,Top3Accuracy,F1_weighted\\n\")\n",
        "    fout.write(f\"{results[0]},{results[1]},{results[2]}\")\n",
        "  return"
      ],
      "execution_count": null,
      "outputs": []
    },
    {
      "cell_type": "markdown",
      "metadata": {
        "id": "IdUBRer3M3dv"
      },
      "source": [
        "### Run Architectural Experiments\n"
      ]
    },
    {
      "cell_type": "code",
      "metadata": {
        "id": "cJ-OeibpM7JF"
      },
      "source": [
        "def run_architectural_experiments(result_folder, mode):\n",
        "  \"\"\"\n",
        "    Runs all the experiments\n",
        "    //args\n",
        "    result_folder: The folder to store each model configurations results\n",
        "    mode: 3 modes, (0: FFN only, 1: CNN only, 2: All)\n",
        "  \"\"\"\n",
        "  try:\n",
        "    os.mkdir(result_folder)\n",
        "  except FileExistsError:\n",
        "    pass\n",
        "  ### FFN Configurations ###\n",
        "  part_1_configurations = {\n",
        "      'config_1':{\n",
        "          'name':'Small_SGD_Drop',\n",
        "          'hidden_layers':[100],\n",
        "          'activation':'tanh',\n",
        "          'dropout_rate':[0.2],\n",
        "          'batchnorm_use':[False],\n",
        "          'input_shape':(28,28),\n",
        "          'classes':10,\n",
        "          'optimizer': {'name':'SGD','lr':0.001,'momentum':0.0}\n",
        "      },\n",
        "      'config_2':{\n",
        "          'name':'Small_Mom_SGD_Drop',\n",
        "          'hidden_layers':[100],\n",
        "          'activation':'tanh',\n",
        "          'dropout_rate':[0.2],\n",
        "          'batchnorm_use':[False],\n",
        "          'input_shape':(28,28),\n",
        "          'classes':10,\n",
        "          'optimizer': {'name':'SGD','lr':0.001,'momentum':0.9}\n",
        "      },\n",
        "      'config_3':{\n",
        "          'name':'Small_Adam_Drop',\n",
        "          'hidden_layers':[100],\n",
        "          'activation':'tanh',\n",
        "          'dropout_rate':[0.2],\n",
        "          'batchnorm_use':[False],\n",
        "          'input_shape':(28,28),\n",
        "          'classes':10,\n",
        "          'optimizer': {'name':'Adam','lr':0.0005,'momentum':None}\n",
        "      },\n",
        "      'config_4':{\n",
        "          'name':'Small_Adam_Relu_Drop',\n",
        "          'hidden_layers':[100],\n",
        "          'activation':'relu',\n",
        "          'dropout_rate':[0.2],\n",
        "          'batchnorm_use':[False],\n",
        "          'input_shape':(28,28),\n",
        "          'classes':10,\n",
        "          'optimizer': {'name':'Adam','lr':0.0005,'momentum':None}\n",
        "      },\n",
        "      'config_5':{\n",
        "          'name':'Medium_Adam_Relu_Drop',\n",
        "          'hidden_layers':[200,200],\n",
        "          'activation':'relu',\n",
        "          'dropout_rate':[0.2,0.2],\n",
        "          'batchnorm_use':[False,False],\n",
        "          'input_shape':(28,28),\n",
        "          'classes':10,\n",
        "          'optimizer': {'name':'Adam','lr':0.0005,'momentum':None}\n",
        "      },\n",
        "      'config_6':{\n",
        "          'name':'Medium_Adam_Relu_BN1_No_Drop',\n",
        "          'hidden_layers':[200,200],\n",
        "          'activation':'relu',\n",
        "          'dropout_rate':[0.0,0.0],\n",
        "          'batchnorm_use':[True,False],\n",
        "          'input_shape':(28,28),\n",
        "          'classes':10,\n",
        "          'optimizer': {'name':'Adam','lr':0.0005,'momentum':None}\n",
        "      },\n",
        "      'config_7':{\n",
        "          'name':'Medium_Adam_Relu_BN2_No_Drop',\n",
        "          'hidden_layers':[200,200],\n",
        "          'activation':'relu',\n",
        "          'dropout_rate':[0.0,0.0],\n",
        "          'batchnorm_use':[True,True],\n",
        "          'input_shape':(28,28),\n",
        "          'classes':10,\n",
        "          'optimizer': {'name':'Adam','lr':0.0005,'momentum':None}\n",
        "      },\n",
        "      'config_8':{\n",
        "          'name':'Large_Adam_Relu',\n",
        "          'hidden_layers':[250,250,250],\n",
        "          'activation':'relu',\n",
        "          'dropout_rate':[0.4,0.4,0.4],\n",
        "          'batchnorm_use':[False,False,False],\n",
        "          'input_shape':(28,28),\n",
        "          'classes':10,\n",
        "          'optimizer': {'name':'Adam','lr':0.0005,'momentum':None}\n",
        "      }\n",
        "  }\n",
        "  ### CNN Configurations ###\n",
        "  part_2_configurations = {\n",
        "      'config_1':{\n",
        "          'name':'Small_Conv_Small_Dense_SGD_Mom',\n",
        "          'conv_layers': [{'filters':32,'kernel_size':3}],\n",
        "          'conv_activation':'relu',\n",
        "          'conv_dropout_rate':[0.2],\n",
        "          'pooling_layers': [{'type':'max', 'pool_size':(2,2)}],\n",
        "          'conv_batchnorm_use':[False],\n",
        "\n",
        "          'hidden_layers':[128],\n",
        "          'hidden_activation':'relu',\n",
        "          'hidden_dropout_rate':[0.2],\n",
        "          'hidden_batchnorm_use':[False],\n",
        "          \n",
        "          'use_augmentation':False,\n",
        "          'input_shape':(28,28,1),\n",
        "          'classes':10,\n",
        "          'optimizer': {'name':'SGD','lr':0.001,'momentum':0.9}\n",
        "      },\n",
        "      'config_2':{\n",
        "          'name':'Small_Conv_Small_Dense_Adam',\n",
        "          'conv_layers': [{'filters':32,'kernel_size':3}],\n",
        "          'conv_activation':'relu',\n",
        "          'conv_dropout_rate':[0.2],\n",
        "          'pooling_layers': [{'type':'max', 'pool_size':(2,2)}],\n",
        "          'conv_batchnorm_use':[False],\n",
        "\n",
        "          'hidden_layers':[128],\n",
        "          'hidden_activation':'relu',\n",
        "          'hidden_dropout_rate':[0.2],\n",
        "          'hidden_batchnorm_use':[False],\n",
        "          \n",
        "          'use_augmentation':False,\n",
        "          'input_shape':(28,28,1),\n",
        "          'classes':10,\n",
        "          'optimizer': {'name':'Adam','lr':0.0005,'momentum':None}\n",
        "      },\n",
        "      'config_3':{\n",
        "          'name':'Medium_Conv_Small_Dense_Adam',\n",
        "          'conv_layers': [{'filters':32,'kernel_size':3},\n",
        "                          {'filters':64,'kernel_size':3}],\n",
        "          'conv_activation':'relu',\n",
        "          'conv_dropout_rate':[0.2,0.2],\n",
        "          'pooling_layers': [{'type':'max', 'pool_size':(2,2)},\n",
        "                             {'type':'max', 'pool_size':(2,2)}],\n",
        "          'conv_batchnorm_use':[False,False],\n",
        "\n",
        "          'hidden_layers':[128],\n",
        "          'hidden_activation':'relu',\n",
        "          'hidden_dropout_rate':[0.2],\n",
        "          'hidden_batchnorm_use':[False],\n",
        "          \n",
        "          'use_augmentation':False,\n",
        "          'input_shape':(28,28,1),\n",
        "          'classes':10,\n",
        "          'optimizer': {'name':'Adam','lr':0.0005,'momentum':None}\n",
        "      },\n",
        "      'config_4':{\n",
        "          'name':'Medium_Conv_Medium_Dense_Adam_Augment',\n",
        "          'conv_layers': [{'filters':32,'kernel_size':3},\n",
        "                          {'filters':64,'kernel_size':3}],\n",
        "          'conv_activation':'relu',\n",
        "          'conv_dropout_rate':[0.2,0.2],\n",
        "          'pooling_layers': [{'type':'max', 'pool_size':(2,2)},\n",
        "                             {'type':'max', 'pool_size':(2,2)}],\n",
        "          'conv_batchnorm_use':[False,False],\n",
        "\n",
        "          'hidden_layers':[128, 64],\n",
        "          'hidden_activation':'relu',\n",
        "          'hidden_dropout_rate':[0.2, 0.2],\n",
        "          'hidden_batchnorm_use':[False,False],\n",
        "          \n",
        "          'use_augmentation':True,\n",
        "          'input_shape':(28,28,1),\n",
        "          'classes':10,\n",
        "          'optimizer': {'name':'Adam','lr':0.0005,'momentum':None}\n",
        "      },\n",
        "      'config_5':{\n",
        "          'name':'Large_Conv_Small_Dense_Adam_Augment',\n",
        "          'conv_layers': [{'filters':32,'kernel_size':3},\n",
        "                          {'filters':64,'kernel_size':3},\n",
        "                          {'filters':128,'kernel_size':3}],\n",
        "          'conv_activation':'relu',\n",
        "          'conv_dropout_rate':[0.2,0.2,0.2],\n",
        "          'pooling_layers': [{'type':'max', 'pool_size':(2,2)},\n",
        "                             {'type':'max', 'pool_size':(2,2)},\n",
        "                             {'type':'max', 'pool_size':(2,2)}],\n",
        "          'conv_batchnorm_use':[False,False,False],\n",
        "\n",
        "          'hidden_layers':[128],\n",
        "          'hidden_activation':'relu',\n",
        "          'hidden_dropout_rate':[0.2],\n",
        "          'hidden_batchnorm_use':[False],\n",
        "          \n",
        "          'use_augmentation':True,\n",
        "          'input_shape':(28,28,1),\n",
        "          'classes':10,\n",
        "          'optimizer': {'name':'Adam','lr':0.0005,'momentum':None}\n",
        "      },\n",
        "      'config_6':{\n",
        "          'name':'Large_Conv_Medium_Dense_Adam_Augment',\n",
        "          'conv_layers': [{'filters':32,'kernel_size':3},\n",
        "                          {'filters':64,'kernel_size':3},\n",
        "                          {'filters':128,'kernel_size':3}],\n",
        "          'conv_activation':'relu',\n",
        "          'conv_dropout_rate':[0.2,0.2,0.2],\n",
        "          'pooling_layers': [{'type':'max', 'pool_size':(2,2)},\n",
        "                             {'type':'max', 'pool_size':(2,2)},\n",
        "                             {'type':'max', 'pool_size':(2,2)}],\n",
        "          'conv_batchnorm_use':[False,False,False],\n",
        "\n",
        "          'hidden_layers':[128, 64],\n",
        "          'hidden_activation':'relu',\n",
        "          'hidden_dropout_rate':[0.2, 0.2],\n",
        "          'hidden_batchnorm_use':[False,False],\n",
        "          \n",
        "          'use_augmentation':True,\n",
        "          'input_shape':(28,28,1),\n",
        "          'classes':10,\n",
        "          'optimizer': {'name':'Adam','lr':0.0005,'momentum':None}\n",
        "      },\n",
        "      'config_7':{\n",
        "          'name':'Large_Conv_Small_Dense_Adam_BN_Augment',\n",
        "          'conv_layers': [{'filters':32,'kernel_size':3},\n",
        "                          {'filters':64,'kernel_size':3},\n",
        "                          {'filters':128,'kernel_size':3}],\n",
        "          'conv_activation':'relu',\n",
        "          'conv_dropout_rate':[0.2,0.2,0.2],\n",
        "          'pooling_layers': [{'type':'max', 'pool_size':(2,2)},\n",
        "                             {'type':'max', 'pool_size':(2,2)},\n",
        "                             {'type':'max', 'pool_size':(2,2)}],\n",
        "          'conv_batchnorm_use':[True,True,True],\n",
        "\n",
        "          'hidden_layers':[128],\n",
        "          'hidden_activation':'relu',\n",
        "          'hidden_dropout_rate':[0.2],\n",
        "          'hidden_batchnorm_use':[False],\n",
        "          \n",
        "          'use_augmentation':True,\n",
        "          'input_shape':(28,28,1),\n",
        "          'classes':10,\n",
        "          'optimizer': {'name':'Adam','lr':0.0005,'momentum':None}\n",
        "      },\n",
        "      'config_8':{\n",
        "          'name':'Large_Conv_Medium_Dense_Adam_BN_Augment',\n",
        "          'conv_layers': [{'filters':32,'kernel_size':3},\n",
        "                          {'filters':64,'kernel_size':3},\n",
        "                          {'filters':128,'kernel_size':3}],\n",
        "          'conv_activation':'relu',\n",
        "          'conv_dropout_rate':[0.2,0.2,0.2],\n",
        "          'pooling_layers': [{'type':'max', 'pool_size':(2,2)},\n",
        "                             {'type':'max', 'pool_size':(2,2)},\n",
        "                             {'type':'max', 'pool_size':(2,2)}],\n",
        "          'conv_batchnorm_use':[True,True,True],\n",
        "\n",
        "          'hidden_layers':[128, 64],\n",
        "          'hidden_activation':'relu',\n",
        "          'hidden_dropout_rate':[0.2, 0.2],\n",
        "          'hidden_batchnorm_use':[False,False],\n",
        "          \n",
        "          'use_augmentation':True,\n",
        "          'input_shape':(28,28,1),\n",
        "          'classes':10,\n",
        "          'optimizer': {'name':'Adam','lr':0.0005,'momentum':None}\n",
        "      }\n",
        "  }\n",
        "  if mode == 0:\n",
        "    hs = {}\n",
        "    result_tuples = []\n",
        "    for experiment in part_1_configurations:\n",
        "      config = part_1_configurations[experiment]\n",
        "      print(f\"Training {experiment}\\n\")\n",
        "      try:\n",
        "        os.mkdir(result_folder + f\"/{config['name']}\")\n",
        "      except FileExistsError:\n",
        "        pass\n",
        "      model = create_ffn(**config)\n",
        "      history, model = fit_a_model(model=model, train_data=(X_train,Y_train), val_data=(X_val, Y_val))\n",
        "      plot_history(hs = {config['name']: history}, epochs=100, metric='loss', save_folder=result_folder + f\"/{config['name']}/loss.png\")\n",
        "      plot_history(hs = {config['name']: history}, epochs=100, metric='categorical_accuracy', save_folder=result_folder + f\"/{config['name']}/acc.png\")\n",
        "      plot_history(hs = {config['name']: history}, epochs=100, metric='top_k_categorical_accuracy', save_folder=result_folder + f\"/{config['name']}/all_top_3_acc.png\")\n",
        "      \n",
        "      results = test_a_model(model=model, test_data=(X_train,Y_train))\n",
        "      save_results(results=results, save_folder=result_folder + f\"/{config['name']}/train_stats.txt\")\n",
        "      \n",
        "      results = test_a_model(model=model, test_data=(X_val,Y_val))\n",
        "      save_results(results=results, save_folder=result_folder + f\"/{config['name']}/val_stats.txt\")\n",
        "\n",
        "      results = test_a_model(model=model, test_data=(X_test,Y_test))\n",
        "      save_results(results=results, save_folder=result_folder + f\"/{config['name']}/test_stats.txt\") \n",
        "\n",
        "      hs.update({config['name']: history})\n",
        "      result_tuples.append(results)\n",
        "\n",
        "    # Plot all of them together\n",
        "    plot_history(hs = hs, epochs=100, metric='loss', save_folder=result_folder + '/all_losses.png')\n",
        "    plot_history(hs = hs, epochs=100, metric='categorical_accuracy', save_folder=result_folder + '/all_acc.png')\n",
        "    plot_history(hs = hs, epochs=100, metric='top_k_categorical_accuracy', save_folder=result_folder + '/all_top_3_acc.png')\n",
        "\n",
        "    # Return top 3 configurations based on Accuracy\n",
        "    top_3_keys = np.argsort(np.array(result_tuples,dtype='float')[:,0])[:-4:-1]\n",
        "    top_3_configs = []\n",
        "    for key in top_3_keys:\n",
        "      top_3_configs.append(part_1_configurations[f'config_{key+1}'])\n",
        "    return list(hs.keys()), result_tuples, top_3_configs\n",
        "\n",
        "  elif mode == 1:\n",
        "    hs = {}\n",
        "    result_tuples = []\n",
        "    for experiment in part_2_configurations:\n",
        "      config = part_2_configurations[experiment]\n",
        "      print(f\"Training {experiment}\\n\")\n",
        "      try:\n",
        "        os.mkdir(result_folder + f\"/{config['name']}\")\n",
        "      except FileExistsError:\n",
        "        pass\n",
        "      model = create_cnn(**config)\n",
        "      X_train_r = np.expand_dims(X_train, axis=-1)\n",
        "      X_test_r  = np.expand_dims(X_test,  axis=-1)\n",
        "      history, model = fit_a_model(model=model, train_data=(X_train,Y_train), val_data=(X_val, Y_val))\n",
        "      plot_history(hs = {config['name']: history}, epochs=100, metric='loss', save_folder=result_folder + f\"/{config['name']}/loss.png\")\n",
        "      plot_history(hs = {config['name']: history}, epochs=100, metric='categorical_accuracy', save_folder=result_folder + f\"/{config['name']}/acc.png\")\n",
        "      plot_history(hs = {config['name']: history}, epochs=100, metric='top_k_categorical_accuracy', save_folder=result_folder + f\"/{config['name']}/all_top_3_acc.png\")\n",
        "      results = test_a_model(model=model, test_data=(X_train,Y_train))\n",
        "      save_results(results=results, save_folder=result_folder + f\"/{config['name']}/train_stats.txt\")\n",
        "      \n",
        "      results = test_a_model(model=model, test_data=(X_val,Y_val))\n",
        "      save_results(results=results, save_folder=result_folder + f\"/{config['name']}/val_stats.txt\")\n",
        "\n",
        "      results = test_a_model(model=model, test_data=(X_test,Y_test))\n",
        "      save_results(results=results, save_folder=result_folder + f\"/{config['name']}/test_stats.txt\") \n",
        "      hs.update({config['name']: history})\n",
        "      result_tuples.append(results)\n",
        "\n",
        "    # Plot all of them together\n",
        "    plot_history(hs = hs, epochs=100, metric='loss', save_folder=result_folder + '/all_losses.png')\n",
        "    plot_history(hs = hs, epochs=100, metric='categorical_accuracy', save_folder=result_folder + '/all_acc.png')\n",
        "    plot_history(hs = hs, epochs=100, metric='top_k_categorical_accuracy', save_folder=result_folder + '/all_top_3_acc.png')\n",
        "\n",
        "    # Return top 3 configurations based on Accuracy\n",
        "    top_3_keys = np.argsort(np.array(result_tuples,dtype='float')[:,0])[:-4:-1]\n",
        "    top_3_configs = []\n",
        "    for key in top_3_keys:\n",
        "      top_3_configs.append(part_2_configurations[f'config_{key+1}'])\n",
        "    return list(hs.keys()), result_tuples, top_3_configs\n",
        "  elif mode == 2:\n",
        "    return [run_architectural_experiments(result_folder=result_folder,mode=0), run_architectural_experiments(result_folder=result_folder,mode=1)]"
      ],
      "execution_count": null,
      "outputs": []
    },
    {
      "cell_type": "markdown",
      "metadata": {
        "id": "NXRQi6THeq5I"
      },
      "source": [
        "### Run Experiment  - Architecture Search MinMax"
      ]
    },
    {
      "cell_type": "code",
      "metadata": {
        "id": "mlbe3GvkTwON"
      },
      "source": [
        "X_train, Y_train, X_test, Y_test, X_val, Y_val = get_data(normalization='minmax',validation_split=0.2)"
      ],
      "execution_count": null,
      "outputs": []
    },
    {
      "cell_type": "code",
      "metadata": {
        "id": "U0Xm-jxnS8Wo"
      },
      "source": [
        "ffn_results, cnn_results = run_architectural_experiments(result_folder='./results_minmax',mode=2)\n",
        "ffn_experiments, ffn_result_tuples, top_3_ffn_configs = ffn_results\n",
        "cnn_experiments, cnn_result_tuples, top_3_cnn_configs = cnn_results\n",
        "ffn_results = pd.DataFrame(data=np.array(ffn_result_tuples,dtype='float'),columns=['Top 1 Accuracy', 'Top 3 Accuracy', 'F1 Weighted'], index=[ffn_experiments])\n",
        "cnn_results = pd.DataFrame(data=np.array(cnn_result_tuples,dtype='float'),columns=['Top 1 Accuracy', 'Top 3 Accuracy', 'F1 Weighted'], index=[cnn_experiments])\n",
        "combined_results = pd.concat([ffn_results,cnn_results],axis=0)\n",
        "combined_results.to_csv(\"./results/Experiment_results_minmax.csv\")"
      ],
      "execution_count": null,
      "outputs": []
    },
    {
      "cell_type": "markdown",
      "metadata": {
        "id": "v7yzbpDTlYAH"
      },
      "source": [
        "### Run Experiment  - Architecture Search Zeta"
      ]
    },
    {
      "cell_type": "code",
      "metadata": {
        "id": "0Z-SnW2iIo09"
      },
      "source": [
        "X_train, Y_train, X_test, Y_test, X_val, Y_val = get_data(normalization='zeta',validation_split=0.2)"
      ],
      "execution_count": null,
      "outputs": []
    },
    {
      "cell_type": "code",
      "metadata": {
        "id": "lUFqLeAdI3eF"
      },
      "source": [
        "ffn_results, cnn_results = run_architectural_experiments(result_folder='./results_zeta',mode=2)\n",
        "ffn_experiments, ffn_result_tuples, top_3_ffn_configs = ffn_results\n",
        "cnn_experiments, cnn_result_tuples, top_3_cnn_configs = cnn_results\n",
        "ffn_results = pd.DataFrame(data=np.array(ffn_result_tuples,dtype='float'),columns=['Top 1 Accuracy', 'Top 3 Accuracy', 'F1 Weighted'], index=[ffn_experiments])\n",
        "cnn_results = pd.DataFrame(data=np.array(cnn_result_tuples,dtype='float'),columns=['Top 1 Accuracy', 'Top 3 Accuracy', 'F1 Weighted'], index=[cnn_experiments])\n",
        "combined_results = pd.concat([ffn_results,cnn_results],axis=0)\n",
        "combined_results.to_csv(\"./results/Experiment_results_zeta.csv\")"
      ],
      "execution_count": null,
      "outputs": []
    },
    {
      "cell_type": "code",
      "metadata": {
        "id": "vrl2RSG7giw5"
      },
      "source": [
        "# !cp \"results\" -r \"drive/MyDrive/Msc_Asoe/final_results\""
      ],
      "execution_count": null,
      "outputs": []
    },
    {
      "cell_type": "markdown",
      "metadata": {
        "id": "7G7WpOgfve8U"
      },
      "source": [
        "### Extra Tuning the top 2 best architectures\n",
        "***"
      ]
    },
    {
      "cell_type": "markdown",
      "metadata": {
        "id": "4EKGAQ8mwi4t"
      },
      "source": [
        "### The Best 2 architectures were:\n",
        " - Small_Conv_Small_Dense_Adam (CNN config)\n",
        " - Medium_Conv_Small_Dense_Adam (CNN config)\n",
        "\n",
        "#### They achieved their best results at LR = 0.005, BS = 256, No augmentation.\n",
        "\n",
        " - `Idea 1`: Maybe the poor performance With Augmentation was due to the fact that the augmentation was heavy ( 18 deg rotation, -+ 20% zoom)\n",
        "\n",
        " - `Idea 2`: The Reduction Of LR on Plateu Was Used, maybe the performance with change with a decay factor.\n"
      ]
    },
    {
      "cell_type": "code",
      "metadata": {
        "id": "HtZHxMDmvjGc"
      },
      "source": [
        "first_candidate_config = {\n",
        "          'name':'Small_Conv_Small_Dense_Adam',\n",
        "          'conv_layers': [{'filters':32,'kernel_size':3}],\n",
        "          'conv_activation':'relu',\n",
        "          'conv_dropout_rate':[0.2],\n",
        "          'pooling_layers': [{'type':'max', 'pool_size':(2,2)}],\n",
        "          'conv_batchnorm_use':[False],\n",
        "\n",
        "          'hidden_layers':[128],\n",
        "          'hidden_activation':'relu',\n",
        "          'hidden_dropout_rate':[0.2],\n",
        "          'hidden_batchnorm_use':[False],\n",
        "          \n",
        "          'use_augmentation':True, # Idea 1\n",
        "          'input_shape':(28,28,1),\n",
        "          'classes':10,\n",
        "          'optimizer': {'name':'Adam','lr':0.0005,'momentum':None}\n",
        "      }\n",
        "\n",
        "second_candidate_config = {\n",
        "          'name':'Medium_Conv_Small_Dense_Adam',\n",
        "          'conv_layers': [{'filters':32,'kernel_size':3},\n",
        "                          {'filters':64,'kernel_size':3}],\n",
        "          'conv_activation':'relu',\n",
        "          'conv_dropout_rate':[0.2,0.2],\n",
        "          'pooling_layers': [{'type':'max', 'pool_size':(2,2)},\n",
        "                             {'type':'max', 'pool_size':(2,2)}],\n",
        "          'conv_batchnorm_use':[False,False],\n",
        "\n",
        "          'hidden_layers':[128],\n",
        "          'hidden_activation':'relu',\n",
        "          'hidden_dropout_rate':[0.2],\n",
        "          'hidden_batchnorm_use':[False],\n",
        "          \n",
        "          'use_augmentation':True, # Idea 1\n",
        "          'input_shape':(28,28,1),\n",
        "          'classes':10,\n",
        "          'optimizer': {'name':'Adam','lr':0.0005,'momentum':None}\n",
        "      }"
      ],
      "execution_count": null,
      "outputs": []
    },
    {
      "cell_type": "code",
      "metadata": {
        "colab": {
          "base_uri": "https://localhost:8080/"
        },
        "id": "4_IwOGUBzxI0",
        "outputId": "f1d6704f-880e-4499-f5aa-3d2cad797213"
      },
      "source": [
        "X_train, Y_train, X_test, Y_test, X_val, Y_val = get_data(normalization='minmax',validation_split=0.2)"
      ],
      "execution_count": null,
      "outputs": [
        {
          "output_type": "stream",
          "text": [
            "Downloading data from https://storage.googleapis.com/tensorflow/tf-keras-datasets/train-labels-idx1-ubyte.gz\n",
            "32768/29515 [=================================] - 0s 0us/step\n",
            "Downloading data from https://storage.googleapis.com/tensorflow/tf-keras-datasets/train-images-idx3-ubyte.gz\n",
            "26427392/26421880 [==============================] - 0s 0us/step\n",
            "Downloading data from https://storage.googleapis.com/tensorflow/tf-keras-datasets/t10k-labels-idx1-ubyte.gz\n",
            "8192/5148 [===============================================] - 0s 0us/step\n",
            "Downloading data from https://storage.googleapis.com/tensorflow/tf-keras-datasets/t10k-images-idx3-ubyte.gz\n",
            "4423680/4422102 [==============================] - 0s 0us/step\n"
          ],
          "name": "stdout"
        }
      ]
    },
    {
      "cell_type": "markdown",
      "metadata": {
        "id": "XZ353y_x1B7K"
      },
      "source": [
        "### Test Idea 1\n",
        "***"
      ]
    },
    {
      "cell_type": "code",
      "metadata": {
        "id": "QoAmAIyqxbz-"
      },
      "source": [
        "try:\n",
        "  os.mkdir(\"./extra_experiments\")\n",
        "  os.mkdir(\"./extra_experiments/candidate_1\")\n",
        "except:\n",
        "  pass\n",
        "model_1 = create_cnn(**first_candidate_config)\n",
        "X_train_r = np.expand_dims(X_train, axis=-1)\n",
        "X_test_r  = np.expand_dims(X_test,  axis=-1)\n",
        "history, model_1 = fit_a_model(model=model_1, train_data=(X_train,Y_train), val_data=(X_val, Y_val))\n",
        "plot_history(hs = {'candidate_1': history}, epochs=300, metric='loss', save_folder=\"./extra_experiments/candidate_1/loss.png\")\n",
        "plot_history(hs = {'candidate_1': history}, epochs=300, metric='categorical_accuracy', save_folder=\"./extra_experiments/candidate_1/acc.png\")\n",
        "plot_history(hs = {'candidate_1': history}, epochs=300, metric='top_k_categorical_accuracy', save_folder=\"./extra_experiments/candidate_1/all_top_3_acc.png\")\n",
        "results = test_a_model(model=model_1, test_data=(X_train,Y_train))\n",
        "save_results(results=results, save_folder=\"./extra_experiments/candidate_1/train_stats.txt\")\n",
        "\n",
        "results = test_a_model(model=model_1, test_data=(X_val,Y_val))\n",
        "save_results(results=results, save_folder=\"./extra_experiments/candidate_1/val_stats.txt\")\n",
        "\n",
        "results = test_a_model(model=model_1, test_data=(X_test,Y_test))\n",
        "save_results(results=results, save_folder=\"./extra_experiments/candidate_1/test_stats.txt\") "
      ],
      "execution_count": null,
      "outputs": []
    },
    {
      "cell_type": "code",
      "metadata": {
        "id": "pQHnGFw5zvoK"
      },
      "source": [
        "try:\n",
        "  os.mkdir(\"./extra_experiments/candidate_2\")\n",
        "except:\n",
        "  pass\n",
        "model_2 = create_cnn(**second_candidate_config)\n",
        "X_train_r = np.expand_dims(X_train, axis=-1)\n",
        "X_test_r  = np.expand_dims(X_test,  axis=-1)\n",
        "history, model_2 = fit_a_model(model=model_2, train_data=(X_train,Y_train), val_data=(X_val, Y_val))\n",
        "plot_history(hs = {'candidate_2': history}, epochs=300, metric='loss', save_folder=\"./extra_experiments/candidate_2/loss.png\")\n",
        "plot_history(hs = {'candidate_2': history}, epochs=300, metric='categorical_accuracy', save_folder=\"./extra_experiments/candidate_2/acc.png\")\n",
        "plot_history(hs = {'candidate_2': history}, epochs=300, metric='top_k_categorical_accuracy', save_folder=\"./extra_experiments/candidate_2/all_top_3_acc.png\")\n",
        "results = test_a_model(model=model_2, test_data=(X_train,Y_train))\n",
        "save_results(results=results, save_folder=\"./extra_experiments/candidate_2/train_stats.txt\")\n",
        "\n",
        "results = test_a_model(model=model_2, test_data=(X_val,Y_val))\n",
        "save_results(results=results, save_folder=\"./extra_experiments/candidate_2/val_stats.txt\")\n",
        "\n",
        "results = test_a_model(model=model_2, test_data=(X_test,Y_test))\n",
        "save_results(results=results, save_folder=\"./extra_experiments/candidate_2/test_stats.txt\") "
      ],
      "execution_count": null,
      "outputs": []
    },
    {
      "cell_type": "markdown",
      "metadata": {
        "id": "MTY4lstb1F_5"
      },
      "source": [
        "### Test Idea 2\n",
        "***"
      ]
    },
    {
      "cell_type": "code",
      "metadata": {
        "id": "5A8jz7Uq8vDa"
      },
      "source": [
        "def decayed_learning_rate(step):\n",
        "  return 0.005 * 0.98 ** (step / 50)"
      ],
      "execution_count": null,
      "outputs": []
    },
    {
      "cell_type": "code",
      "metadata": {
        "colab": {
          "base_uri": "https://localhost:8080/",
          "height": 295
        },
        "id": "a49vcwgd8_Lp",
        "outputId": "bcc09767-df8a-4f80-b440-e42a6dc63986"
      },
      "source": [
        "plt.figure()\n",
        "plt.title(\"Learning Rate versus Epochs at Batch Size 256\")\n",
        "plt.ylabel(\"Learning Rate\")\n",
        "plt.xlabel(\"Epochs\")\n",
        "plt.plot([f / 188 for f in range(0,188 * 100)], [decayed_learning_rate(f) for f in range(0,188 * 100)])\n",
        "plt.show()"
      ],
      "execution_count": null,
      "outputs": [
        {
          "output_type": "display_data",
          "data": {
            "image/png": "[encoded data removed]",
            "text/plain": [
              "<Figure size 432x288 with 1 Axes>"
            ]
          },
          "metadata": {
            "tags": []
          }
        }
      ]
    },
    {
      "cell_type": "code",
      "metadata": {
        "id": "5b3z0Tdm86eg"
      },
      "source": [
        ""
      ],
      "execution_count": null,
      "outputs": []
    },
    {
      "cell_type": "code",
      "metadata": {
        "id": "sptela1h1aij"
      },
      "source": [
        "decay = tf.keras.optimizers.schedules.ExponentialDecay(\n",
        "    initial_learning_rate=0.005,\n",
        "    decay_steps= 50,\n",
        "    decay_rate=0.98,\n",
        "    staircase=False)\n",
        "\n",
        "first_candidate_config = {\n",
        "          'name':'Small_Conv_Small_Dense_Adam',\n",
        "          'conv_layers': [{'filters':32,'kernel_size':3}],\n",
        "          'conv_activation':'relu',\n",
        "          'conv_dropout_rate':[0.2],\n",
        "          'pooling_layers': [{'type':'max', 'pool_size':(2,2)}],\n",
        "          'conv_batchnorm_use':[False],\n",
        "\n",
        "          'hidden_layers':[128],\n",
        "          'hidden_activation':'relu',\n",
        "          'hidden_dropout_rate':[0.2],\n",
        "          'hidden_batchnorm_use':[False],\n",
        "          \n",
        "          'use_augmentation':False, # Idea 2\n",
        "          'input_shape':(28,28,1),\n",
        "          'classes':10,\n",
        "          'optimizer': {'name':'Adam','lr':decay}\n",
        "      }\n",
        "\n",
        "second_candidate_config = {\n",
        "          'name':'Medium_Conv_Small_Dense_Adam',\n",
        "          'conv_layers': [{'filters':32,'kernel_size':3},\n",
        "                          {'filters':64,'kernel_size':3}],\n",
        "          'conv_activation':'relu',\n",
        "          'conv_dropout_rate':[0.2,0.2],\n",
        "          'pooling_layers': [{'type':'max', 'pool_size':(2,2)},\n",
        "                             {'type':'max', 'pool_size':(2,2)}],\n",
        "          'conv_batchnorm_use':[False,False],\n",
        "\n",
        "          'hidden_layers':[128],\n",
        "          'hidden_activation':'relu',\n",
        "          'hidden_dropout_rate':[0.2],\n",
        "          'hidden_batchnorm_use':[False],\n",
        "          \n",
        "          'use_augmentation':False, # Idea 2\n",
        "          'input_shape':(28,28,1),\n",
        "          'classes':10,\n",
        "          'optimizer': {'name':'Adam','lr':decay}\n",
        "      }"
      ],
      "execution_count": null,
      "outputs": []
    },
    {
      "cell_type": "code",
      "metadata": {
        "id": "gLU0XEL60jYO"
      },
      "source": [
        "def fit_a_model(model, train_data, val_data):\n",
        "  \"\"\"\n",
        "    Performs training of a Model on the Fashion Mnist data\n",
        "    //args\n",
        "    save: If true saves the model for future reference\n",
        "  \"\"\"\n",
        "  \n",
        "  es = EarlyStopping(\n",
        "      monitor='val_categorical_accuracy',\n",
        "      patience=15,\n",
        "      verbose=1,\n",
        "      restore_best_weights=True\n",
        "  )\n",
        "\n",
        "  callbacks = [es]\n",
        "  history  =  model.fit(train_data[0],train_data[1], batch_size=256, epochs=300, validation_data=(val_data[0],val_data[1]), callbacks=callbacks, verbose=2)\n",
        "  return history, model  "
      ],
      "execution_count": null,
      "outputs": []
    },
    {
      "cell_type": "code",
      "metadata": {
        "colab": {
          "base_uri": "https://localhost:8080/",
          "height": 1000
        },
        "id": "TMoGbEMy265v",
        "outputId": "d5d02f94-dbc8-42df-d296-7b8f54a0417b"
      },
      "source": [
        "try:\n",
        "  os.mkdir(\"./extra_experiments/candidate_1_2\")\n",
        "except:\n",
        "  pass\n",
        "model_1 = create_cnn(**first_candidate_config)\n",
        "X_train_r = np.expand_dims(X_train, axis=-1)\n",
        "X_test_r  = np.expand_dims(X_test,  axis=-1)\n",
        "history, model_1 = fit_a_model(model=model_1, train_data=(X_train,Y_train), val_data=(X_val, Y_val))\n",
        "plot_history(hs = {'candidate_1': history}, epochs=300, metric='loss', save_folder=\"./extra_experiments/candidate_1_2/loss.png\")\n",
        "plot_history(hs = {'candidate_1': history}, epochs=300, metric='categorical_accuracy', save_folder=\"./extra_experiments/candidate_1_2/acc.png\")\n",
        "plot_history(hs = {'candidate_1': history}, epochs=300, metric='top_k_categorical_accuracy', save_folder=\"./extra_experiments/candidate_1_2/all_top_3_acc.png\")\n",
        "results = test_a_model(model=model_1, test_data=(X_train,Y_train))\n",
        "save_results(results=results, save_folder=\"./extra_experiments/candidate_1_2/train_stats.txt\")\n",
        "\n",
        "results = test_a_model(model=model_1, test_data=(X_val,Y_val))\n",
        "save_results(results=results, save_folder=\"./extra_experiments/candidate_1_2/val_stats.txt\")\n",
        "\n",
        "results = test_a_model(model=model_1, test_data=(X_test,Y_test))\n",
        "save_results(results=results, save_folder=\"./extra_experiments/candidate_1_2/test_stats.txt\") "
      ],
      "execution_count": null,
      "outputs": [
        {
          "output_type": "stream",
          "text": [
            "Epoch 1/300\n",
            "188/188 - 8s - loss: 0.4757 - categorical_accuracy: 0.8331 - top_k_categorical_accuracy: 0.9734 - val_loss: 0.3363 - val_categorical_accuracy: 0.8846 - val_top_k_categorical_accuracy: 0.9911\n",
            "Epoch 2/300\n",
            "188/188 - 1s - loss: 0.2987 - categorical_accuracy: 0.8912 - top_k_categorical_accuracy: 0.9909 - val_loss: 0.2846 - val_categorical_accuracy: 0.8965 - val_top_k_categorical_accuracy: 0.9921\n",
            "Epoch 3/300\n",
            "188/188 - 1s - loss: 0.2552 - categorical_accuracy: 0.9060 - top_k_categorical_accuracy: 0.9938 - val_loss: 0.2653 - val_categorical_accuracy: 0.9015 - val_top_k_categorical_accuracy: 0.9928\n",
            "Epoch 4/300\n",
            "188/188 - 1s - loss: 0.2237 - categorical_accuracy: 0.9181 - top_k_categorical_accuracy: 0.9956 - val_loss: 0.2557 - val_categorical_accuracy: 0.9051 - val_top_k_categorical_accuracy: 0.9936\n",
            "Epoch 5/300\n",
            "188/188 - 1s - loss: 0.2031 - categorical_accuracy: 0.9234 - top_k_categorical_accuracy: 0.9964 - val_loss: 0.2450 - val_categorical_accuracy: 0.9084 - val_top_k_categorical_accuracy: 0.9938\n",
            "Epoch 6/300\n",
            "188/188 - 1s - loss: 0.1809 - categorical_accuracy: 0.9323 - top_k_categorical_accuracy: 0.9974 - val_loss: 0.2450 - val_categorical_accuracy: 0.9098 - val_top_k_categorical_accuracy: 0.9942\n",
            "Epoch 7/300\n",
            "188/188 - 1s - loss: 0.1661 - categorical_accuracy: 0.9371 - top_k_categorical_accuracy: 0.9979 - val_loss: 0.2430 - val_categorical_accuracy: 0.9153 - val_top_k_categorical_accuracy: 0.9933\n",
            "Epoch 8/300\n",
            "188/188 - 1s - loss: 0.1522 - categorical_accuracy: 0.9428 - top_k_categorical_accuracy: 0.9984 - val_loss: 0.2416 - val_categorical_accuracy: 0.9158 - val_top_k_categorical_accuracy: 0.9935\n",
            "Epoch 9/300\n",
            "188/188 - 1s - loss: 0.1392 - categorical_accuracy: 0.9474 - top_k_categorical_accuracy: 0.9989 - val_loss: 0.2370 - val_categorical_accuracy: 0.9181 - val_top_k_categorical_accuracy: 0.9938\n",
            "Epoch 10/300\n",
            "188/188 - 1s - loss: 0.1263 - categorical_accuracy: 0.9517 - top_k_categorical_accuracy: 0.9990 - val_loss: 0.2459 - val_categorical_accuracy: 0.9174 - val_top_k_categorical_accuracy: 0.9935\n",
            "Epoch 11/300\n",
            "188/188 - 1s - loss: 0.1185 - categorical_accuracy: 0.9551 - top_k_categorical_accuracy: 0.9991 - val_loss: 0.2413 - val_categorical_accuracy: 0.9166 - val_top_k_categorical_accuracy: 0.9943\n",
            "Epoch 12/300\n",
            "188/188 - 1s - loss: 0.1064 - categorical_accuracy: 0.9600 - top_k_categorical_accuracy: 0.9994 - val_loss: 0.2464 - val_categorical_accuracy: 0.9175 - val_top_k_categorical_accuracy: 0.9944\n",
            "Epoch 13/300\n",
            "188/188 - 1s - loss: 0.0975 - categorical_accuracy: 0.9626 - top_k_categorical_accuracy: 0.9995 - val_loss: 0.2449 - val_categorical_accuracy: 0.9203 - val_top_k_categorical_accuracy: 0.9939\n",
            "Epoch 14/300\n",
            "188/188 - 1s - loss: 0.0907 - categorical_accuracy: 0.9654 - top_k_categorical_accuracy: 0.9996 - val_loss: 0.2525 - val_categorical_accuracy: 0.9170 - val_top_k_categorical_accuracy: 0.9947\n",
            "Epoch 15/300\n",
            "188/188 - 1s - loss: 0.0817 - categorical_accuracy: 0.9693 - top_k_categorical_accuracy: 0.9996 - val_loss: 0.2543 - val_categorical_accuracy: 0.9193 - val_top_k_categorical_accuracy: 0.9948\n",
            "Epoch 16/300\n",
            "188/188 - 1s - loss: 0.0757 - categorical_accuracy: 0.9714 - top_k_categorical_accuracy: 0.9997 - val_loss: 0.2586 - val_categorical_accuracy: 0.9193 - val_top_k_categorical_accuracy: 0.9943\n",
            "Epoch 17/300\n",
            "188/188 - 1s - loss: 0.0735 - categorical_accuracy: 0.9732 - top_k_categorical_accuracy: 0.9997 - val_loss: 0.2708 - val_categorical_accuracy: 0.9177 - val_top_k_categorical_accuracy: 0.9942\n",
            "Epoch 18/300\n",
            "188/188 - 1s - loss: 0.0656 - categorical_accuracy: 0.9760 - top_k_categorical_accuracy: 0.9999 - val_loss: 0.2679 - val_categorical_accuracy: 0.9228 - val_top_k_categorical_accuracy: 0.9948\n",
            "Epoch 19/300\n",
            "188/188 - 1s - loss: 0.0603 - categorical_accuracy: 0.9783 - top_k_categorical_accuracy: 0.9999 - val_loss: 0.2723 - val_categorical_accuracy: 0.9209 - val_top_k_categorical_accuracy: 0.9941\n",
            "Epoch 20/300\n",
            "188/188 - 1s - loss: 0.0604 - categorical_accuracy: 0.9780 - top_k_categorical_accuracy: 0.9998 - val_loss: 0.2720 - val_categorical_accuracy: 0.9214 - val_top_k_categorical_accuracy: 0.9940\n",
            "Epoch 21/300\n",
            "188/188 - 1s - loss: 0.0548 - categorical_accuracy: 0.9800 - top_k_categorical_accuracy: 0.9999 - val_loss: 0.2791 - val_categorical_accuracy: 0.9219 - val_top_k_categorical_accuracy: 0.9937\n",
            "Epoch 22/300\n",
            "188/188 - 1s - loss: 0.0527 - categorical_accuracy: 0.9809 - top_k_categorical_accuracy: 0.9999 - val_loss: 0.2857 - val_categorical_accuracy: 0.9223 - val_top_k_categorical_accuracy: 0.9942\n",
            "Epoch 23/300\n",
            "188/188 - 1s - loss: 0.0489 - categorical_accuracy: 0.9824 - top_k_categorical_accuracy: 1.0000 - val_loss: 0.2852 - val_categorical_accuracy: 0.9241 - val_top_k_categorical_accuracy: 0.9942\n",
            "Epoch 24/300\n",
            "188/188 - 1s - loss: 0.0472 - categorical_accuracy: 0.9834 - top_k_categorical_accuracy: 0.9999 - val_loss: 0.2845 - val_categorical_accuracy: 0.9228 - val_top_k_categorical_accuracy: 0.9941\n",
            "Epoch 25/300\n",
            "188/188 - 1s - loss: 0.0438 - categorical_accuracy: 0.9843 - top_k_categorical_accuracy: 0.9999 - val_loss: 0.2905 - val_categorical_accuracy: 0.9228 - val_top_k_categorical_accuracy: 0.9942\n",
            "Epoch 26/300\n",
            "188/188 - 1s - loss: 0.0418 - categorical_accuracy: 0.9847 - top_k_categorical_accuracy: 1.0000 - val_loss: 0.2979 - val_categorical_accuracy: 0.9204 - val_top_k_categorical_accuracy: 0.9943\n",
            "Epoch 27/300\n",
            "188/188 - 1s - loss: 0.0421 - categorical_accuracy: 0.9849 - top_k_categorical_accuracy: 0.9999 - val_loss: 0.2958 - val_categorical_accuracy: 0.9204 - val_top_k_categorical_accuracy: 0.9945\n",
            "Epoch 28/300\n",
            "188/188 - 1s - loss: 0.0382 - categorical_accuracy: 0.9861 - top_k_categorical_accuracy: 0.9999 - val_loss: 0.2930 - val_categorical_accuracy: 0.9227 - val_top_k_categorical_accuracy: 0.9943\n",
            "Epoch 29/300\n",
            "188/188 - 1s - loss: 0.0365 - categorical_accuracy: 0.9873 - top_k_categorical_accuracy: 0.9999 - val_loss: 0.3021 - val_categorical_accuracy: 0.9223 - val_top_k_categorical_accuracy: 0.9941\n",
            "Epoch 30/300\n",
            "188/188 - 1s - loss: 0.0369 - categorical_accuracy: 0.9872 - top_k_categorical_accuracy: 0.9999 - val_loss: 0.3049 - val_categorical_accuracy: 0.9212 - val_top_k_categorical_accuracy: 0.9943\n",
            "Epoch 31/300\n",
            "188/188 - 1s - loss: 0.0349 - categorical_accuracy: 0.9880 - top_k_categorical_accuracy: 1.0000 - val_loss: 0.3100 - val_categorical_accuracy: 0.9228 - val_top_k_categorical_accuracy: 0.9941\n",
            "Epoch 32/300\n",
            "188/188 - 1s - loss: 0.0336 - categorical_accuracy: 0.9886 - top_k_categorical_accuracy: 1.0000 - val_loss: 0.3122 - val_categorical_accuracy: 0.9229 - val_top_k_categorical_accuracy: 0.9947\n",
            "Epoch 33/300\n",
            "188/188 - 1s - loss: 0.0321 - categorical_accuracy: 0.9886 - top_k_categorical_accuracy: 1.0000 - val_loss: 0.3090 - val_categorical_accuracy: 0.9232 - val_top_k_categorical_accuracy: 0.9942\n",
            "Epoch 34/300\n",
            "188/188 - 1s - loss: 0.0318 - categorical_accuracy: 0.9889 - top_k_categorical_accuracy: 0.9999 - val_loss: 0.3128 - val_categorical_accuracy: 0.9241 - val_top_k_categorical_accuracy: 0.9944\n",
            "Epoch 35/300\n",
            "188/188 - 1s - loss: 0.0305 - categorical_accuracy: 0.9897 - top_k_categorical_accuracy: 1.0000 - val_loss: 0.3113 - val_categorical_accuracy: 0.9229 - val_top_k_categorical_accuracy: 0.9944\n",
            "Epoch 36/300\n",
            "188/188 - 1s - loss: 0.0300 - categorical_accuracy: 0.9895 - top_k_categorical_accuracy: 1.0000 - val_loss: 0.3152 - val_categorical_accuracy: 0.9237 - val_top_k_categorical_accuracy: 0.9940\n",
            "Epoch 37/300\n",
            "188/188 - 1s - loss: 0.0295 - categorical_accuracy: 0.9899 - top_k_categorical_accuracy: 1.0000 - val_loss: 0.3138 - val_categorical_accuracy: 0.9231 - val_top_k_categorical_accuracy: 0.9939\n",
            "Epoch 38/300\n",
            "188/188 - 1s - loss: 0.0265 - categorical_accuracy: 0.9911 - top_k_categorical_accuracy: 1.0000 - val_loss: 0.3179 - val_categorical_accuracy: 0.9237 - val_top_k_categorical_accuracy: 0.9942\n",
            "Restoring model weights from the end of the best epoch.\n",
            "Epoch 00038: early stopping\n"
          ],
          "name": "stdout"
        },
        {
          "output_type": "error",
          "ename": "FileNotFoundError",
          "evalue": "ignored",
          "traceback": [
            "\u001b[0;31m---------------------------------------------------------------------------\u001b[0m",
            "\u001b[0;31mFileNotFoundError\u001b[0m                         Traceback (most recent call last)",
            "\u001b[0;32m<ipython-input-16-916317d4283b>\u001b[0m in \u001b[0;36m<module>\u001b[0;34m()\u001b[0m\n\u001b[1;32m      7\u001b[0m \u001b[0mX_test_r\u001b[0m  \u001b[0;34m=\u001b[0m \u001b[0mnp\u001b[0m\u001b[0;34m.\u001b[0m\u001b[0mexpand_dims\u001b[0m\u001b[0;34m(\u001b[0m\u001b[0mX_test\u001b[0m\u001b[0;34m,\u001b[0m  \u001b[0maxis\u001b[0m\u001b[0;34m=\u001b[0m\u001b[0;34m-\u001b[0m\u001b[0;36m1\u001b[0m\u001b[0;34m)\u001b[0m\u001b[0;34m\u001b[0m\u001b[0;34m\u001b[0m\u001b[0m\n\u001b[1;32m      8\u001b[0m \u001b[0mhistory\u001b[0m\u001b[0;34m,\u001b[0m \u001b[0mmodel_1\u001b[0m \u001b[0;34m=\u001b[0m \u001b[0mfit_a_model\u001b[0m\u001b[0;34m(\u001b[0m\u001b[0mmodel\u001b[0m\u001b[0;34m=\u001b[0m\u001b[0mmodel_1\u001b[0m\u001b[0;34m,\u001b[0m \u001b[0mtrain_data\u001b[0m\u001b[0;34m=\u001b[0m\u001b[0;34m(\u001b[0m\u001b[0mX_train\u001b[0m\u001b[0;34m,\u001b[0m\u001b[0mY_train\u001b[0m\u001b[0;34m)\u001b[0m\u001b[0;34m,\u001b[0m \u001b[0mval_data\u001b[0m\u001b[0;34m=\u001b[0m\u001b[0;34m(\u001b[0m\u001b[0mX_val\u001b[0m\u001b[0;34m,\u001b[0m \u001b[0mY_val\u001b[0m\u001b[0;34m)\u001b[0m\u001b[0;34m)\u001b[0m\u001b[0;34m\u001b[0m\u001b[0;34m\u001b[0m\u001b[0m\n\u001b[0;32m----> 9\u001b[0;31m \u001b[0mplot_history\u001b[0m\u001b[0;34m(\u001b[0m\u001b[0mhs\u001b[0m \u001b[0;34m=\u001b[0m \u001b[0;34m{\u001b[0m\u001b[0;34m'candidate_1'\u001b[0m\u001b[0;34m:\u001b[0m \u001b[0mhistory\u001b[0m\u001b[0;34m}\u001b[0m\u001b[0;34m,\u001b[0m \u001b[0mepochs\u001b[0m\u001b[0;34m=\u001b[0m\u001b[0;36m300\u001b[0m\u001b[0;34m,\u001b[0m \u001b[0mmetric\u001b[0m\u001b[0;34m=\u001b[0m\u001b[0;34m'loss'\u001b[0m\u001b[0;34m,\u001b[0m \u001b[0msave_folder\u001b[0m\u001b[0;34m=\u001b[0m\u001b[0;34m\"./extra_experiments/candidate_1_2/loss.png\"\u001b[0m\u001b[0;34m)\u001b[0m\u001b[0;34m\u001b[0m\u001b[0;34m\u001b[0m\u001b[0m\n\u001b[0m\u001b[1;32m     10\u001b[0m \u001b[0mplot_history\u001b[0m\u001b[0;34m(\u001b[0m\u001b[0mhs\u001b[0m \u001b[0;34m=\u001b[0m \u001b[0;34m{\u001b[0m\u001b[0;34m'candidate_1'\u001b[0m\u001b[0;34m:\u001b[0m \u001b[0mhistory\u001b[0m\u001b[0;34m}\u001b[0m\u001b[0;34m,\u001b[0m \u001b[0mepochs\u001b[0m\u001b[0;34m=\u001b[0m\u001b[0;36m300\u001b[0m\u001b[0;34m,\u001b[0m \u001b[0mmetric\u001b[0m\u001b[0;34m=\u001b[0m\u001b[0;34m'categorical_accuracy'\u001b[0m\u001b[0;34m,\u001b[0m \u001b[0msave_folder\u001b[0m\u001b[0;34m=\u001b[0m\u001b[0;34m\"./extra_experiments/candidate_1_2/acc.png\"\u001b[0m\u001b[0;34m)\u001b[0m\u001b[0;34m\u001b[0m\u001b[0;34m\u001b[0m\u001b[0m\n\u001b[1;32m     11\u001b[0m \u001b[0mplot_history\u001b[0m\u001b[0;34m(\u001b[0m\u001b[0mhs\u001b[0m \u001b[0;34m=\u001b[0m \u001b[0;34m{\u001b[0m\u001b[0;34m'candidate_1'\u001b[0m\u001b[0;34m:\u001b[0m \u001b[0mhistory\u001b[0m\u001b[0;34m}\u001b[0m\u001b[0;34m,\u001b[0m \u001b[0mepochs\u001b[0m\u001b[0;34m=\u001b[0m\u001b[0;36m300\u001b[0m\u001b[0;34m,\u001b[0m \u001b[0mmetric\u001b[0m\u001b[0;34m=\u001b[0m\u001b[0;34m'top_k_categorical_accuracy'\u001b[0m\u001b[0;34m,\u001b[0m \u001b[0msave_folder\u001b[0m\u001b[0;34m=\u001b[0m\u001b[0;34m\"./extra_experiments/candidate_1_2/all_top_3_acc.png\"\u001b[0m\u001b[0;34m)\u001b[0m\u001b[0;34m\u001b[0m\u001b[0;34m\u001b[0m\u001b[0m\n",
            "\u001b[0;32m<ipython-input-9-d1d8d295caea>\u001b[0m in \u001b[0;36mplot_history\u001b[0;34m(hs, epochs, metric, save_folder)\u001b[0m\n\u001b[1;32m     18\u001b[0m     \u001b[0mplt\u001b[0m\u001b[0;34m.\u001b[0m\u001b[0mylabel\u001b[0m\u001b[0;34m(\u001b[0m\u001b[0;34m'Loss'\u001b[0m \u001b[0;32mif\u001b[0m \u001b[0mmetric\u001b[0m\u001b[0;34m==\u001b[0m\u001b[0;34m'loss'\u001b[0m \u001b[0;32melse\u001b[0m \u001b[0;34m'Accuracy'\u001b[0m\u001b[0;34m)\u001b[0m\u001b[0;34m\u001b[0m\u001b[0;34m\u001b[0m\u001b[0m\n\u001b[1;32m     19\u001b[0m     \u001b[0mplt\u001b[0m\u001b[0;34m.\u001b[0m\u001b[0mlegend\u001b[0m\u001b[0;34m(\u001b[0m\u001b[0mloc\u001b[0m\u001b[0;34m=\u001b[0m\u001b[0;36m2\u001b[0m\u001b[0;34m,\u001b[0m \u001b[0mprop\u001b[0m\u001b[0;34m=\u001b[0m\u001b[0;34m{\u001b[0m\u001b[0;34m'size'\u001b[0m\u001b[0;34m:\u001b[0m \u001b[0;36m10\u001b[0m\u001b[0;34m}\u001b[0m\u001b[0;34m)\u001b[0m\u001b[0;34m\u001b[0m\u001b[0;34m\u001b[0m\u001b[0m\n\u001b[0;32m---> 20\u001b[0;31m     \u001b[0mplt\u001b[0m\u001b[0;34m.\u001b[0m\u001b[0msavefig\u001b[0m\u001b[0;34m(\u001b[0m\u001b[0msave_folder\u001b[0m\u001b[0;34m)\u001b[0m\u001b[0;34m\u001b[0m\u001b[0;34m\u001b[0m\u001b[0m\n\u001b[0m\u001b[1;32m     21\u001b[0m     \u001b[0mplt\u001b[0m\u001b[0;34m.\u001b[0m\u001b[0mshow\u001b[0m\u001b[0;34m(\u001b[0m\u001b[0;34m)\u001b[0m\u001b[0;34m\u001b[0m\u001b[0;34m\u001b[0m\u001b[0m\n\u001b[1;32m     22\u001b[0m     \u001b[0mplt\u001b[0m\u001b[0;34m.\u001b[0m\u001b[0mclose\u001b[0m\u001b[0;34m(\u001b[0m\u001b[0;34m)\u001b[0m\u001b[0;34m\u001b[0m\u001b[0;34m\u001b[0m\u001b[0m\n",
            "\u001b[0;32m/usr/local/lib/python3.7/dist-packages/matplotlib/pyplot.py\u001b[0m in \u001b[0;36msavefig\u001b[0;34m(*args, **kwargs)\u001b[0m\n\u001b[1;32m    721\u001b[0m \u001b[0;32mdef\u001b[0m \u001b[0msavefig\u001b[0m\u001b[0;34m(\u001b[0m\u001b[0;34m*\u001b[0m\u001b[0margs\u001b[0m\u001b[0;34m,\u001b[0m \u001b[0;34m**\u001b[0m\u001b[0mkwargs\u001b[0m\u001b[0;34m)\u001b[0m\u001b[0;34m:\u001b[0m\u001b[0;34m\u001b[0m\u001b[0;34m\u001b[0m\u001b[0m\n\u001b[1;32m    722\u001b[0m     \u001b[0mfig\u001b[0m \u001b[0;34m=\u001b[0m \u001b[0mgcf\u001b[0m\u001b[0;34m(\u001b[0m\u001b[0;34m)\u001b[0m\u001b[0;34m\u001b[0m\u001b[0;34m\u001b[0m\u001b[0m\n\u001b[0;32m--> 723\u001b[0;31m     \u001b[0mres\u001b[0m \u001b[0;34m=\u001b[0m \u001b[0mfig\u001b[0m\u001b[0;34m.\u001b[0m\u001b[0msavefig\u001b[0m\u001b[0;34m(\u001b[0m\u001b[0;34m*\u001b[0m\u001b[0margs\u001b[0m\u001b[0;34m,\u001b[0m \u001b[0;34m**\u001b[0m\u001b[0mkwargs\u001b[0m\u001b[0;34m)\u001b[0m\u001b[0;34m\u001b[0m\u001b[0;34m\u001b[0m\u001b[0m\n\u001b[0m\u001b[1;32m    724\u001b[0m     \u001b[0mfig\u001b[0m\u001b[0;34m.\u001b[0m\u001b[0mcanvas\u001b[0m\u001b[0;34m.\u001b[0m\u001b[0mdraw_idle\u001b[0m\u001b[0;34m(\u001b[0m\u001b[0;34m)\u001b[0m   \u001b[0;31m# need this if 'transparent=True' to reset colors\u001b[0m\u001b[0;34m\u001b[0m\u001b[0;34m\u001b[0m\u001b[0m\n\u001b[1;32m    725\u001b[0m     \u001b[0;32mreturn\u001b[0m \u001b[0mres\u001b[0m\u001b[0;34m\u001b[0m\u001b[0;34m\u001b[0m\u001b[0m\n",
            "\u001b[0;32m/usr/local/lib/python3.7/dist-packages/matplotlib/figure.py\u001b[0m in \u001b[0;36msavefig\u001b[0;34m(self, fname, transparent, **kwargs)\u001b[0m\n\u001b[1;32m   2201\u001b[0m             \u001b[0mself\u001b[0m\u001b[0;34m.\u001b[0m\u001b[0mpatch\u001b[0m\u001b[0;34m.\u001b[0m\u001b[0mset_visible\u001b[0m\u001b[0;34m(\u001b[0m\u001b[0mframeon\u001b[0m\u001b[0;34m)\u001b[0m\u001b[0;34m\u001b[0m\u001b[0;34m\u001b[0m\u001b[0m\n\u001b[1;32m   2202\u001b[0m \u001b[0;34m\u001b[0m\u001b[0m\n\u001b[0;32m-> 2203\u001b[0;31m         \u001b[0mself\u001b[0m\u001b[0;34m.\u001b[0m\u001b[0mcanvas\u001b[0m\u001b[0;34m.\u001b[0m\u001b[0mprint_figure\u001b[0m\u001b[0;34m(\u001b[0m\u001b[0mfname\u001b[0m\u001b[0;34m,\u001b[0m \u001b[0;34m**\u001b[0m\u001b[0mkwargs\u001b[0m\u001b[0;34m)\u001b[0m\u001b[0;34m\u001b[0m\u001b[0;34m\u001b[0m\u001b[0m\n\u001b[0m\u001b[1;32m   2204\u001b[0m \u001b[0;34m\u001b[0m\u001b[0m\n\u001b[1;32m   2205\u001b[0m         \u001b[0;32mif\u001b[0m \u001b[0mframeon\u001b[0m\u001b[0;34m:\u001b[0m\u001b[0;34m\u001b[0m\u001b[0;34m\u001b[0m\u001b[0m\n",
            "\u001b[0;32m/usr/local/lib/python3.7/dist-packages/matplotlib/backend_bases.py\u001b[0m in \u001b[0;36mprint_figure\u001b[0;34m(self, filename, dpi, facecolor, edgecolor, orientation, format, bbox_inches, **kwargs)\u001b[0m\n\u001b[1;32m   2124\u001b[0m                     \u001b[0morientation\u001b[0m\u001b[0;34m=\u001b[0m\u001b[0morientation\u001b[0m\u001b[0;34m,\u001b[0m\u001b[0;34m\u001b[0m\u001b[0;34m\u001b[0m\u001b[0m\n\u001b[1;32m   2125\u001b[0m                     \u001b[0mbbox_inches_restore\u001b[0m\u001b[0;34m=\u001b[0m\u001b[0m_bbox_inches_restore\u001b[0m\u001b[0;34m,\u001b[0m\u001b[0;34m\u001b[0m\u001b[0;34m\u001b[0m\u001b[0m\n\u001b[0;32m-> 2126\u001b[0;31m                     **kwargs)\n\u001b[0m\u001b[1;32m   2127\u001b[0m             \u001b[0;32mfinally\u001b[0m\u001b[0;34m:\u001b[0m\u001b[0;34m\u001b[0m\u001b[0;34m\u001b[0m\u001b[0m\n\u001b[1;32m   2128\u001b[0m                 \u001b[0;32mif\u001b[0m \u001b[0mbbox_inches\u001b[0m \u001b[0;32mand\u001b[0m \u001b[0mrestore_bbox\u001b[0m\u001b[0;34m:\u001b[0m\u001b[0;34m\u001b[0m\u001b[0;34m\u001b[0m\u001b[0m\n",
            "\u001b[0;32m/usr/local/lib/python3.7/dist-packages/matplotlib/backends/backend_agg.py\u001b[0m in \u001b[0;36mprint_png\u001b[0;34m(self, filename_or_obj, metadata, pil_kwargs, *args, **kwargs)\u001b[0m\n\u001b[1;32m    533\u001b[0m         \u001b[0;32melse\u001b[0m\u001b[0;34m:\u001b[0m\u001b[0;34m\u001b[0m\u001b[0;34m\u001b[0m\u001b[0m\n\u001b[1;32m    534\u001b[0m             \u001b[0mrenderer\u001b[0m \u001b[0;34m=\u001b[0m \u001b[0mself\u001b[0m\u001b[0;34m.\u001b[0m\u001b[0mget_renderer\u001b[0m\u001b[0;34m(\u001b[0m\u001b[0;34m)\u001b[0m\u001b[0;34m\u001b[0m\u001b[0;34m\u001b[0m\u001b[0m\n\u001b[0;32m--> 535\u001b[0;31m             \u001b[0;32mwith\u001b[0m \u001b[0mcbook\u001b[0m\u001b[0;34m.\u001b[0m\u001b[0mopen_file_cm\u001b[0m\u001b[0;34m(\u001b[0m\u001b[0mfilename_or_obj\u001b[0m\u001b[0;34m,\u001b[0m \u001b[0;34m\"wb\"\u001b[0m\u001b[0;34m)\u001b[0m \u001b[0;32mas\u001b[0m \u001b[0mfh\u001b[0m\u001b[0;34m:\u001b[0m\u001b[0;34m\u001b[0m\u001b[0;34m\u001b[0m\u001b[0m\n\u001b[0m\u001b[1;32m    536\u001b[0m                 _png.write_png(renderer._renderer, fh, self.figure.dpi,\n\u001b[1;32m    537\u001b[0m                                metadata={**default_metadata, **metadata})\n",
            "\u001b[0;32m/usr/lib/python3.7/contextlib.py\u001b[0m in \u001b[0;36m__enter__\u001b[0;34m(self)\u001b[0m\n\u001b[1;32m    110\u001b[0m         \u001b[0;32mdel\u001b[0m \u001b[0mself\u001b[0m\u001b[0;34m.\u001b[0m\u001b[0margs\u001b[0m\u001b[0;34m,\u001b[0m \u001b[0mself\u001b[0m\u001b[0;34m.\u001b[0m\u001b[0mkwds\u001b[0m\u001b[0;34m,\u001b[0m \u001b[0mself\u001b[0m\u001b[0;34m.\u001b[0m\u001b[0mfunc\u001b[0m\u001b[0;34m\u001b[0m\u001b[0;34m\u001b[0m\u001b[0m\n\u001b[1;32m    111\u001b[0m         \u001b[0;32mtry\u001b[0m\u001b[0;34m:\u001b[0m\u001b[0;34m\u001b[0m\u001b[0;34m\u001b[0m\u001b[0m\n\u001b[0;32m--> 112\u001b[0;31m             \u001b[0;32mreturn\u001b[0m \u001b[0mnext\u001b[0m\u001b[0;34m(\u001b[0m\u001b[0mself\u001b[0m\u001b[0;34m.\u001b[0m\u001b[0mgen\u001b[0m\u001b[0;34m)\u001b[0m\u001b[0;34m\u001b[0m\u001b[0;34m\u001b[0m\u001b[0m\n\u001b[0m\u001b[1;32m    113\u001b[0m         \u001b[0;32mexcept\u001b[0m \u001b[0mStopIteration\u001b[0m\u001b[0;34m:\u001b[0m\u001b[0;34m\u001b[0m\u001b[0;34m\u001b[0m\u001b[0m\n\u001b[1;32m    114\u001b[0m             \u001b[0;32mraise\u001b[0m \u001b[0mRuntimeError\u001b[0m\u001b[0;34m(\u001b[0m\u001b[0;34m\"generator didn't yield\"\u001b[0m\u001b[0;34m)\u001b[0m \u001b[0;32mfrom\u001b[0m \u001b[0;32mNone\u001b[0m\u001b[0;34m\u001b[0m\u001b[0;34m\u001b[0m\u001b[0m\n",
            "\u001b[0;32m/usr/local/lib/python3.7/dist-packages/matplotlib/cbook/__init__.py\u001b[0m in \u001b[0;36mopen_file_cm\u001b[0;34m(path_or_file, mode, encoding)\u001b[0m\n\u001b[1;32m    416\u001b[0m \u001b[0;32mdef\u001b[0m \u001b[0mopen_file_cm\u001b[0m\u001b[0;34m(\u001b[0m\u001b[0mpath_or_file\u001b[0m\u001b[0;34m,\u001b[0m \u001b[0mmode\u001b[0m\u001b[0;34m=\u001b[0m\u001b[0;34m\"r\"\u001b[0m\u001b[0;34m,\u001b[0m \u001b[0mencoding\u001b[0m\u001b[0;34m=\u001b[0m\u001b[0;32mNone\u001b[0m\u001b[0;34m)\u001b[0m\u001b[0;34m:\u001b[0m\u001b[0;34m\u001b[0m\u001b[0;34m\u001b[0m\u001b[0m\n\u001b[1;32m    417\u001b[0m     \u001b[0;34mr\"\"\"Pass through file objects and context-manage `.PathLike`\\s.\"\"\"\u001b[0m\u001b[0;34m\u001b[0m\u001b[0;34m\u001b[0m\u001b[0m\n\u001b[0;32m--> 418\u001b[0;31m     \u001b[0mfh\u001b[0m\u001b[0;34m,\u001b[0m \u001b[0mopened\u001b[0m \u001b[0;34m=\u001b[0m \u001b[0mto_filehandle\u001b[0m\u001b[0;34m(\u001b[0m\u001b[0mpath_or_file\u001b[0m\u001b[0;34m,\u001b[0m \u001b[0mmode\u001b[0m\u001b[0;34m,\u001b[0m \u001b[0;32mTrue\u001b[0m\u001b[0;34m,\u001b[0m \u001b[0mencoding\u001b[0m\u001b[0;34m)\u001b[0m\u001b[0;34m\u001b[0m\u001b[0;34m\u001b[0m\u001b[0m\n\u001b[0m\u001b[1;32m    419\u001b[0m     \u001b[0;32mif\u001b[0m \u001b[0mopened\u001b[0m\u001b[0;34m:\u001b[0m\u001b[0;34m\u001b[0m\u001b[0;34m\u001b[0m\u001b[0m\n\u001b[1;32m    420\u001b[0m         \u001b[0;32mwith\u001b[0m \u001b[0mfh\u001b[0m\u001b[0;34m:\u001b[0m\u001b[0;34m\u001b[0m\u001b[0;34m\u001b[0m\u001b[0m\n",
            "\u001b[0;32m/usr/local/lib/python3.7/dist-packages/matplotlib/cbook/__init__.py\u001b[0m in \u001b[0;36mto_filehandle\u001b[0;34m(fname, flag, return_opened, encoding)\u001b[0m\n\u001b[1;32m    401\u001b[0m             \u001b[0mfh\u001b[0m \u001b[0;34m=\u001b[0m \u001b[0mbz2\u001b[0m\u001b[0;34m.\u001b[0m\u001b[0mBZ2File\u001b[0m\u001b[0;34m(\u001b[0m\u001b[0mfname\u001b[0m\u001b[0;34m,\u001b[0m \u001b[0mflag\u001b[0m\u001b[0;34m)\u001b[0m\u001b[0;34m\u001b[0m\u001b[0;34m\u001b[0m\u001b[0m\n\u001b[1;32m    402\u001b[0m         \u001b[0;32melse\u001b[0m\u001b[0;34m:\u001b[0m\u001b[0;34m\u001b[0m\u001b[0;34m\u001b[0m\u001b[0m\n\u001b[0;32m--> 403\u001b[0;31m             \u001b[0mfh\u001b[0m \u001b[0;34m=\u001b[0m \u001b[0mopen\u001b[0m\u001b[0;34m(\u001b[0m\u001b[0mfname\u001b[0m\u001b[0;34m,\u001b[0m \u001b[0mflag\u001b[0m\u001b[0;34m,\u001b[0m \u001b[0mencoding\u001b[0m\u001b[0;34m=\u001b[0m\u001b[0mencoding\u001b[0m\u001b[0;34m)\u001b[0m\u001b[0;34m\u001b[0m\u001b[0;34m\u001b[0m\u001b[0m\n\u001b[0m\u001b[1;32m    404\u001b[0m         \u001b[0mopened\u001b[0m \u001b[0;34m=\u001b[0m \u001b[0;32mTrue\u001b[0m\u001b[0;34m\u001b[0m\u001b[0;34m\u001b[0m\u001b[0m\n\u001b[1;32m    405\u001b[0m     \u001b[0;32melif\u001b[0m \u001b[0mhasattr\u001b[0m\u001b[0;34m(\u001b[0m\u001b[0mfname\u001b[0m\u001b[0;34m,\u001b[0m \u001b[0;34m'seek'\u001b[0m\u001b[0;34m)\u001b[0m\u001b[0;34m:\u001b[0m\u001b[0;34m\u001b[0m\u001b[0;34m\u001b[0m\u001b[0m\n",
            "\u001b[0;31mFileNotFoundError\u001b[0m: [Errno 2] No such file or directory: './extra_experiments/candidate_1_2/loss.png'"
          ]
        },
        {
          "output_type": "display_data",
          "data": {
            "image/png": "[encoded data removed]",
            "text/plain": [
              "<Figure size 1080x576 with 1 Axes>"
            ]
          },
          "metadata": {
            "tags": []
          }
        }
      ]
    },
    {
      "cell_type": "code",
      "metadata": {
        "id": "-_AKo_so6Zjn"
      },
      "source": [
        "try:\n",
        "  os.mkdir(\"./extra_experiments/candidate_2_2\")\n",
        "except:\n",
        "  pass\n",
        "model_2 = create_cnn(**second_candidate_config)\n",
        "X_train_r = np.expand_dims(X_train, axis=-1)\n",
        "X_test_r  = np.expand_dims(X_test,  axis=-1)\n",
        "history, model_2 = fit_a_model(model=model_2, train_data=(X_train,Y_train), val_data=(X_val, Y_val))\n",
        "plot_history(hs = {'candidate_1': history}, epochs=300, metric='loss', save_folder=\"./extra_experiments/candidate_2_2/loss.png\")\n",
        "plot_history(hs = {'candidate_1': history}, epochs=300, metric='categorical_accuracy', save_folder=\"./extra_experiments/candidate_2_2/acc.png\")\n",
        "plot_history(hs = {'candidate_1': history}, epochs=300, metric='top_k_categorical_accuracy', save_folder=\"./extra_experiments/candidate_2_2/all_top_3_acc.png\")\n",
        "results = test_a_model(model=model_2, test_data=(X_train,Y_train))\n",
        "save_results(results=results, save_folder=\"./extra_experiments/candidate_2_2/train_stats.txt\")\n",
        "\n",
        "results = test_a_model(model=model_2, test_data=(X_val,Y_val))\n",
        "save_results(results=results, save_folder=\"./extra_experiments/candidate_2_2/val_stats.txt\")\n",
        "\n",
        "results = test_a_model(model=model_2, test_data=(X_test,Y_test))\n",
        "save_results(results=results, save_folder=\"./extra_experiments/candidate_2_2/test_stats.txt\") "
      ],
      "execution_count": null,
      "outputs": []
    },
    {
      "cell_type": "markdown",
      "metadata": {
        "id": "iY6UEMPo-yeX"
      },
      "source": [
        "### Confusion Matrix\n",
        "***"
      ]
    },
    {
      "cell_type": "code",
      "metadata": {
        "id": "DIxFXuJ3-1yg"
      },
      "source": [
        "predictions = model_1.predict(X_test)\n",
        "prediction_labels = np.argmax(predictions,axis=1)\n",
        "real_values = np.argmax(Y_test,axis=1)"
      ],
      "execution_count": null,
      "outputs": []
    },
    {
      "cell_type": "code",
      "metadata": {
        "colab": {
          "base_uri": "https://localhost:8080/",
          "height": 711
        },
        "id": "3VAR8iOb_EKJ",
        "outputId": "3400bcee-0c01-45ce-ee26-e8618c94fbfd"
      },
      "source": [
        "cf_matrix = confusion_matrix(real_values, prediction_labels)\n",
        "\n",
        "ax = sns.heatmap(cf_matrix/np.sum(cf_matrix,axis=0), annot=True, \n",
        "            fmt='.2%', cmap='Blues')\n",
        "ax.set_yticklabels([translate(f) for f in range(0,10)], rotation=30) \n",
        "ax.set_xticklabels([translate(f) for f in range(0,10)], rotation=30) "
      ],
      "execution_count": null,
      "outputs": [
        {
          "output_type": "execute_result",
          "data": {
            "text/plain": [
              "[Text(0.5, 0, 'T-shirt/top'),\n",
              " Text(1.5, 0, 'Trouser'),\n",
              " Text(2.5, 0, 'Pullover'),\n",
              " Text(3.5, 0, 'Dress'),\n",
              " Text(4.5, 0, 'Coat'),\n",
              " Text(5.5, 0, 'Sandal'),\n",
              " Text(6.5, 0, 'Shirt'),\n",
              " Text(7.5, 0, 'Sneaker'),\n",
              " Text(8.5, 0, 'Bag'),\n",
              " Text(9.5, 0, 'Ankle boot')]"
            ]
          },
          "metadata": {
            "tags": []
          },
          "execution_count": 36
        },
        {
          "output_type": "display_data",
          "data": {
            "image/png": "[encoded data removed]",
            "text/plain": [
              "<Figure size 1080x576 with 2 Axes>"
            ]
          },
          "metadata": {
            "tags": []
          }
        }
      ]
    },
    {
      "cell_type": "markdown",
      "metadata": {
        "id": "Uj-q7VbuA0D3"
      },
      "source": [
        "### Re-use Validation for fine Tuning for 10 Epochs (not in report)\n",
        "***"
      ]
    },
    {
      "cell_type": "code",
      "metadata": {
        "id": "4OPK2NNJAaD9"
      },
      "source": [
        "X_train_silver = np.vstack([X_train,X_val])\n",
        "Y_train_silver = np.vstack([Y_train,Y_val])"
      ],
      "execution_count": null,
      "outputs": []
    },
    {
      "cell_type": "code",
      "metadata": {
        "id": "Rvq4KKr2BuJD"
      },
      "source": [
        "def fit_a_model(model, train_data, val_data):\n",
        "  \"\"\"\n",
        "    Performs training of a Model on the Fashion Mnist data\n",
        "    //args\n",
        "    save: If true saves the model for future reference\n",
        "  \"\"\"\n",
        "  model.compile(optimizer=SGD(learning_rate=1e-6, momentum=0.9), loss='categorical_crossentropy', metrics=[CategoricalAccuracy(), TopKCategoricalAccuracy(k=3)])\n",
        "  history  =  model.fit(train_data[0],train_data[1], batch_size=256, epochs=10, verbose=2)\n",
        "  return history, model  "
      ],
      "execution_count": null,
      "outputs": []
    },
    {
      "cell_type": "code",
      "metadata": {
        "id": "runir2pOCPFZ"
      },
      "source": [
        "try:\n",
        "  os.mkdir(\"./extra_experiments/candidate_1_3\")\n",
        "except:\n",
        "  pass\n",
        "history, model_1 = fit_a_model(model=model_1, train_data=(X_train_silver,Y_train_silver), val_data=None)\n",
        "results = test_a_model(model=model_1, test_data=(X_train,Y_train))\n",
        "save_results(results=results, save_folder=\"./extra_experiments/candidate_1_3/train_stats.txt\")\n",
        "results = test_a_model(model=model_1, test_data=(X_test,Y_test))\n",
        "save_results(results=results, save_folder=\"./extra_experiments/candidate_1_3/test_stats.txt\") "
      ],
      "execution_count": null,
      "outputs": []
    },
    {
      "cell_type": "code",
      "metadata": {
        "id": "20K6RAHw6Pwu"
      },
      "source": [
        "try:\n",
        "  os.mkdir(\"./extra_experiments/candidate_2_3\")\n",
        "except:\n",
        "  pass\n",
        "history, model_2 = fit_a_model(model=model_2, train_data=(X_train_silver,Y_train_silver), val_data=None)\n",
        "results = test_a_model(model=model_2, test_data=(X_train,Y_train))\n",
        "save_results(results=results, save_folder=\"./extra_experiments/candidate_2_3/train_stats.txt\")\n",
        "results = test_a_model(model=model_2, test_data=(X_test,Y_test))\n",
        "save_results(results=results, save_folder=\"./extra_experiments/candidate_2_3/test_stats.txt\") "
      ],
      "execution_count": null,
      "outputs": []
    },
    {
      "cell_type": "code",
      "metadata": {
        "id": "MEwx9-fDC0zx"
      },
      "source": [
        "model_2.save('./best_model.h5')"
      ],
      "execution_count": null,
      "outputs": []
    },
    {
      "cell_type": "code",
      "metadata": {
        "id": "RCvRpaM_HXf_"
      },
      "source": [
        "cp './best_model.h5' './drive/MyDrive/Msc_asoe/'"
      ],
      "execution_count": null,
      "outputs": []
    },
    {
      "cell_type": "markdown",
      "metadata": {
        "id": "8IgzorRS8mbR"
      },
      "source": [
        ""
      ]
    },
    {
      "cell_type": "code",
      "metadata": {
        "id": "RAoKoqmsHgeM"
      },
      "source": [
        ""
      ],
      "execution_count": null,
      "outputs": []
    }
  ]
}